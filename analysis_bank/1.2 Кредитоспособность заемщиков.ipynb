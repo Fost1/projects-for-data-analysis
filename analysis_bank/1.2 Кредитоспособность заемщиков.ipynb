{
 "cells": [
  {
   "cell_type": "markdown",
   "id": "09192334",
   "metadata": {
    "deletable": false,
    "editable": false,
    "id": "c81daeeb"
   },
   "source": [
    "# Исследование надежности заемщиков\n"
   ]
  },
  {
   "cell_type": "markdown",
   "id": "de82b195",
   "metadata": {
    "deletable": false,
    "editable": false,
    "id": "827c20bf"
   },
   "source": [
    "Во второй части проекта вы выполните шаги 3 и 4. Их вручную проверит ревьюер.\n",
    "Чтобы вам не пришлось писать код заново для шагов 1 и 2, мы добавили авторские решения в ячейки с кодом. \n",
    "\n"
   ]
  },
  {
   "cell_type": "markdown",
   "id": "35c1b839",
   "metadata": {
    "deletable": false,
    "editable": false,
    "id": "744d7639"
   },
   "source": [
    "## Откройте таблицу и изучите общую информацию о данных"
   ]
  },
  {
   "cell_type": "markdown",
   "id": "2ee1eac4",
   "metadata": {
    "deletable": false,
    "editable": false,
    "id": "e7a14c31"
   },
   "source": [
    "**Задание 1. Импортируйте библиотеку pandas. Считайте данные из csv-файла в датафрейм и сохраните в переменную `data`. Путь к файлу:**\n",
    "\n",
    "`/datasets/data.csv`"
   ]
  },
  {
   "cell_type": "code",
   "execution_count": 1,
   "id": "2df6f64a",
   "metadata": {
    "deletable": false,
    "id": "7bcf75c9"
   },
   "outputs": [],
   "source": [
    "import pandas as pd\n",
    "\n",
    "try:\n",
    "    data = pd.read_csv('/datasets/data.csv')\n",
    "except:\n",
    "    data = pd.read_csv('https://code.s3.yandex.net/datasets/data.csv')"
   ]
  },
  {
   "cell_type": "markdown",
   "id": "a0e10870",
   "metadata": {
    "deletable": false,
    "editable": false,
    "id": "b8038fe3"
   },
   "source": [
    "**Задание 2. Выведите первые 20 строчек датафрейма `data` на экран.**"
   ]
  },
  {
   "cell_type": "code",
   "execution_count": 2,
   "id": "59e394da",
   "metadata": {
    "deletable": false,
    "id": "2a7cab99",
    "outputId": "1a8f3ef2-d323-4ec2-ddf7-89670b5944c4"
   },
   "outputs": [
    {
     "data": {
      "text/html": [
       "<div>\n",
       "<style scoped>\n",
       "    .dataframe tbody tr th:only-of-type {\n",
       "        vertical-align: middle;\n",
       "    }\n",
       "\n",
       "    .dataframe tbody tr th {\n",
       "        vertical-align: top;\n",
       "    }\n",
       "\n",
       "    .dataframe thead th {\n",
       "        text-align: right;\n",
       "    }\n",
       "</style>\n",
       "<table border=\"1\" class=\"dataframe\">\n",
       "  <thead>\n",
       "    <tr style=\"text-align: right;\">\n",
       "      <th></th>\n",
       "      <th>children</th>\n",
       "      <th>days_employed</th>\n",
       "      <th>dob_years</th>\n",
       "      <th>education</th>\n",
       "      <th>education_id</th>\n",
       "      <th>family_status</th>\n",
       "      <th>family_status_id</th>\n",
       "      <th>gender</th>\n",
       "      <th>income_type</th>\n",
       "      <th>debt</th>\n",
       "      <th>total_income</th>\n",
       "      <th>purpose</th>\n",
       "    </tr>\n",
       "  </thead>\n",
       "  <tbody>\n",
       "    <tr>\n",
       "      <th>0</th>\n",
       "      <td>1</td>\n",
       "      <td>-8437.673028</td>\n",
       "      <td>42</td>\n",
       "      <td>высшее</td>\n",
       "      <td>0</td>\n",
       "      <td>женат / замужем</td>\n",
       "      <td>0</td>\n",
       "      <td>F</td>\n",
       "      <td>сотрудник</td>\n",
       "      <td>0</td>\n",
       "      <td>253875.639453</td>\n",
       "      <td>покупка жилья</td>\n",
       "    </tr>\n",
       "    <tr>\n",
       "      <th>1</th>\n",
       "      <td>1</td>\n",
       "      <td>-4024.803754</td>\n",
       "      <td>36</td>\n",
       "      <td>среднее</td>\n",
       "      <td>1</td>\n",
       "      <td>женат / замужем</td>\n",
       "      <td>0</td>\n",
       "      <td>F</td>\n",
       "      <td>сотрудник</td>\n",
       "      <td>0</td>\n",
       "      <td>112080.014102</td>\n",
       "      <td>приобретение автомобиля</td>\n",
       "    </tr>\n",
       "    <tr>\n",
       "      <th>2</th>\n",
       "      <td>0</td>\n",
       "      <td>-5623.422610</td>\n",
       "      <td>33</td>\n",
       "      <td>Среднее</td>\n",
       "      <td>1</td>\n",
       "      <td>женат / замужем</td>\n",
       "      <td>0</td>\n",
       "      <td>M</td>\n",
       "      <td>сотрудник</td>\n",
       "      <td>0</td>\n",
       "      <td>145885.952297</td>\n",
       "      <td>покупка жилья</td>\n",
       "    </tr>\n",
       "    <tr>\n",
       "      <th>3</th>\n",
       "      <td>3</td>\n",
       "      <td>-4124.747207</td>\n",
       "      <td>32</td>\n",
       "      <td>среднее</td>\n",
       "      <td>1</td>\n",
       "      <td>женат / замужем</td>\n",
       "      <td>0</td>\n",
       "      <td>M</td>\n",
       "      <td>сотрудник</td>\n",
       "      <td>0</td>\n",
       "      <td>267628.550329</td>\n",
       "      <td>дополнительное образование</td>\n",
       "    </tr>\n",
       "    <tr>\n",
       "      <th>4</th>\n",
       "      <td>0</td>\n",
       "      <td>340266.072047</td>\n",
       "      <td>53</td>\n",
       "      <td>среднее</td>\n",
       "      <td>1</td>\n",
       "      <td>гражданский брак</td>\n",
       "      <td>1</td>\n",
       "      <td>F</td>\n",
       "      <td>пенсионер</td>\n",
       "      <td>0</td>\n",
       "      <td>158616.077870</td>\n",
       "      <td>сыграть свадьбу</td>\n",
       "    </tr>\n",
       "    <tr>\n",
       "      <th>5</th>\n",
       "      <td>0</td>\n",
       "      <td>-926.185831</td>\n",
       "      <td>27</td>\n",
       "      <td>высшее</td>\n",
       "      <td>0</td>\n",
       "      <td>гражданский брак</td>\n",
       "      <td>1</td>\n",
       "      <td>M</td>\n",
       "      <td>компаньон</td>\n",
       "      <td>0</td>\n",
       "      <td>255763.565419</td>\n",
       "      <td>покупка жилья</td>\n",
       "    </tr>\n",
       "    <tr>\n",
       "      <th>6</th>\n",
       "      <td>0</td>\n",
       "      <td>-2879.202052</td>\n",
       "      <td>43</td>\n",
       "      <td>высшее</td>\n",
       "      <td>0</td>\n",
       "      <td>женат / замужем</td>\n",
       "      <td>0</td>\n",
       "      <td>F</td>\n",
       "      <td>компаньон</td>\n",
       "      <td>0</td>\n",
       "      <td>240525.971920</td>\n",
       "      <td>операции с жильем</td>\n",
       "    </tr>\n",
       "    <tr>\n",
       "      <th>7</th>\n",
       "      <td>0</td>\n",
       "      <td>-152.779569</td>\n",
       "      <td>50</td>\n",
       "      <td>СРЕДНЕЕ</td>\n",
       "      <td>1</td>\n",
       "      <td>женат / замужем</td>\n",
       "      <td>0</td>\n",
       "      <td>M</td>\n",
       "      <td>сотрудник</td>\n",
       "      <td>0</td>\n",
       "      <td>135823.934197</td>\n",
       "      <td>образование</td>\n",
       "    </tr>\n",
       "    <tr>\n",
       "      <th>8</th>\n",
       "      <td>2</td>\n",
       "      <td>-6929.865299</td>\n",
       "      <td>35</td>\n",
       "      <td>ВЫСШЕЕ</td>\n",
       "      <td>0</td>\n",
       "      <td>гражданский брак</td>\n",
       "      <td>1</td>\n",
       "      <td>F</td>\n",
       "      <td>сотрудник</td>\n",
       "      <td>0</td>\n",
       "      <td>95856.832424</td>\n",
       "      <td>на проведение свадьбы</td>\n",
       "    </tr>\n",
       "    <tr>\n",
       "      <th>9</th>\n",
       "      <td>0</td>\n",
       "      <td>-2188.756445</td>\n",
       "      <td>41</td>\n",
       "      <td>среднее</td>\n",
       "      <td>1</td>\n",
       "      <td>женат / замужем</td>\n",
       "      <td>0</td>\n",
       "      <td>M</td>\n",
       "      <td>сотрудник</td>\n",
       "      <td>0</td>\n",
       "      <td>144425.938277</td>\n",
       "      <td>покупка жилья для семьи</td>\n",
       "    </tr>\n",
       "    <tr>\n",
       "      <th>10</th>\n",
       "      <td>2</td>\n",
       "      <td>-4171.483647</td>\n",
       "      <td>36</td>\n",
       "      <td>высшее</td>\n",
       "      <td>0</td>\n",
       "      <td>женат / замужем</td>\n",
       "      <td>0</td>\n",
       "      <td>M</td>\n",
       "      <td>компаньон</td>\n",
       "      <td>0</td>\n",
       "      <td>113943.491460</td>\n",
       "      <td>покупка недвижимости</td>\n",
       "    </tr>\n",
       "    <tr>\n",
       "      <th>11</th>\n",
       "      <td>0</td>\n",
       "      <td>-792.701887</td>\n",
       "      <td>40</td>\n",
       "      <td>среднее</td>\n",
       "      <td>1</td>\n",
       "      <td>женат / замужем</td>\n",
       "      <td>0</td>\n",
       "      <td>F</td>\n",
       "      <td>сотрудник</td>\n",
       "      <td>0</td>\n",
       "      <td>77069.234271</td>\n",
       "      <td>покупка коммерческой недвижимости</td>\n",
       "    </tr>\n",
       "    <tr>\n",
       "      <th>12</th>\n",
       "      <td>0</td>\n",
       "      <td>NaN</td>\n",
       "      <td>65</td>\n",
       "      <td>среднее</td>\n",
       "      <td>1</td>\n",
       "      <td>гражданский брак</td>\n",
       "      <td>1</td>\n",
       "      <td>M</td>\n",
       "      <td>пенсионер</td>\n",
       "      <td>0</td>\n",
       "      <td>NaN</td>\n",
       "      <td>сыграть свадьбу</td>\n",
       "    </tr>\n",
       "    <tr>\n",
       "      <th>13</th>\n",
       "      <td>0</td>\n",
       "      <td>-1846.641941</td>\n",
       "      <td>54</td>\n",
       "      <td>неоконченное высшее</td>\n",
       "      <td>2</td>\n",
       "      <td>женат / замужем</td>\n",
       "      <td>0</td>\n",
       "      <td>F</td>\n",
       "      <td>сотрудник</td>\n",
       "      <td>0</td>\n",
       "      <td>130458.228857</td>\n",
       "      <td>приобретение автомобиля</td>\n",
       "    </tr>\n",
       "    <tr>\n",
       "      <th>14</th>\n",
       "      <td>0</td>\n",
       "      <td>-1844.956182</td>\n",
       "      <td>56</td>\n",
       "      <td>высшее</td>\n",
       "      <td>0</td>\n",
       "      <td>гражданский брак</td>\n",
       "      <td>1</td>\n",
       "      <td>F</td>\n",
       "      <td>компаньон</td>\n",
       "      <td>1</td>\n",
       "      <td>165127.911772</td>\n",
       "      <td>покупка жилой недвижимости</td>\n",
       "    </tr>\n",
       "    <tr>\n",
       "      <th>15</th>\n",
       "      <td>1</td>\n",
       "      <td>-972.364419</td>\n",
       "      <td>26</td>\n",
       "      <td>среднее</td>\n",
       "      <td>1</td>\n",
       "      <td>женат / замужем</td>\n",
       "      <td>0</td>\n",
       "      <td>F</td>\n",
       "      <td>сотрудник</td>\n",
       "      <td>0</td>\n",
       "      <td>116820.904450</td>\n",
       "      <td>строительство собственной недвижимости</td>\n",
       "    </tr>\n",
       "    <tr>\n",
       "      <th>16</th>\n",
       "      <td>0</td>\n",
       "      <td>-1719.934226</td>\n",
       "      <td>35</td>\n",
       "      <td>среднее</td>\n",
       "      <td>1</td>\n",
       "      <td>женат / замужем</td>\n",
       "      <td>0</td>\n",
       "      <td>F</td>\n",
       "      <td>сотрудник</td>\n",
       "      <td>0</td>\n",
       "      <td>289202.704229</td>\n",
       "      <td>недвижимость</td>\n",
       "    </tr>\n",
       "    <tr>\n",
       "      <th>17</th>\n",
       "      <td>0</td>\n",
       "      <td>-2369.999720</td>\n",
       "      <td>33</td>\n",
       "      <td>высшее</td>\n",
       "      <td>0</td>\n",
       "      <td>гражданский брак</td>\n",
       "      <td>1</td>\n",
       "      <td>M</td>\n",
       "      <td>сотрудник</td>\n",
       "      <td>0</td>\n",
       "      <td>90410.586745</td>\n",
       "      <td>строительство недвижимости</td>\n",
       "    </tr>\n",
       "    <tr>\n",
       "      <th>18</th>\n",
       "      <td>0</td>\n",
       "      <td>400281.136913</td>\n",
       "      <td>53</td>\n",
       "      <td>среднее</td>\n",
       "      <td>1</td>\n",
       "      <td>вдовец / вдова</td>\n",
       "      <td>2</td>\n",
       "      <td>F</td>\n",
       "      <td>пенсионер</td>\n",
       "      <td>0</td>\n",
       "      <td>56823.777243</td>\n",
       "      <td>на покупку подержанного автомобиля</td>\n",
       "    </tr>\n",
       "    <tr>\n",
       "      <th>19</th>\n",
       "      <td>0</td>\n",
       "      <td>-10038.818549</td>\n",
       "      <td>48</td>\n",
       "      <td>СРЕДНЕЕ</td>\n",
       "      <td>1</td>\n",
       "      <td>в разводе</td>\n",
       "      <td>3</td>\n",
       "      <td>F</td>\n",
       "      <td>сотрудник</td>\n",
       "      <td>0</td>\n",
       "      <td>242831.107982</td>\n",
       "      <td>на покупку своего автомобиля</td>\n",
       "    </tr>\n",
       "  </tbody>\n",
       "</table>\n",
       "</div>"
      ],
      "text/plain": [
       "    children  days_employed  dob_years            education  education_id  \\\n",
       "0          1   -8437.673028         42               высшее             0   \n",
       "1          1   -4024.803754         36              среднее             1   \n",
       "2          0   -5623.422610         33              Среднее             1   \n",
       "3          3   -4124.747207         32              среднее             1   \n",
       "4          0  340266.072047         53              среднее             1   \n",
       "5          0    -926.185831         27               высшее             0   \n",
       "6          0   -2879.202052         43               высшее             0   \n",
       "7          0    -152.779569         50              СРЕДНЕЕ             1   \n",
       "8          2   -6929.865299         35               ВЫСШЕЕ             0   \n",
       "9          0   -2188.756445         41              среднее             1   \n",
       "10         2   -4171.483647         36               высшее             0   \n",
       "11         0    -792.701887         40              среднее             1   \n",
       "12         0            NaN         65              среднее             1   \n",
       "13         0   -1846.641941         54  неоконченное высшее             2   \n",
       "14         0   -1844.956182         56               высшее             0   \n",
       "15         1    -972.364419         26              среднее             1   \n",
       "16         0   -1719.934226         35              среднее             1   \n",
       "17         0   -2369.999720         33               высшее             0   \n",
       "18         0  400281.136913         53              среднее             1   \n",
       "19         0  -10038.818549         48              СРЕДНЕЕ             1   \n",
       "\n",
       "       family_status  family_status_id gender income_type  debt  \\\n",
       "0    женат / замужем                 0      F   сотрудник     0   \n",
       "1    женат / замужем                 0      F   сотрудник     0   \n",
       "2    женат / замужем                 0      M   сотрудник     0   \n",
       "3    женат / замужем                 0      M   сотрудник     0   \n",
       "4   гражданский брак                 1      F   пенсионер     0   \n",
       "5   гражданский брак                 1      M   компаньон     0   \n",
       "6    женат / замужем                 0      F   компаньон     0   \n",
       "7    женат / замужем                 0      M   сотрудник     0   \n",
       "8   гражданский брак                 1      F   сотрудник     0   \n",
       "9    женат / замужем                 0      M   сотрудник     0   \n",
       "10   женат / замужем                 0      M   компаньон     0   \n",
       "11   женат / замужем                 0      F   сотрудник     0   \n",
       "12  гражданский брак                 1      M   пенсионер     0   \n",
       "13   женат / замужем                 0      F   сотрудник     0   \n",
       "14  гражданский брак                 1      F   компаньон     1   \n",
       "15   женат / замужем                 0      F   сотрудник     0   \n",
       "16   женат / замужем                 0      F   сотрудник     0   \n",
       "17  гражданский брак                 1      M   сотрудник     0   \n",
       "18    вдовец / вдова                 2      F   пенсионер     0   \n",
       "19         в разводе                 3      F   сотрудник     0   \n",
       "\n",
       "     total_income                                 purpose  \n",
       "0   253875.639453                           покупка жилья  \n",
       "1   112080.014102                 приобретение автомобиля  \n",
       "2   145885.952297                           покупка жилья  \n",
       "3   267628.550329              дополнительное образование  \n",
       "4   158616.077870                         сыграть свадьбу  \n",
       "5   255763.565419                           покупка жилья  \n",
       "6   240525.971920                       операции с жильем  \n",
       "7   135823.934197                             образование  \n",
       "8    95856.832424                   на проведение свадьбы  \n",
       "9   144425.938277                 покупка жилья для семьи  \n",
       "10  113943.491460                    покупка недвижимости  \n",
       "11   77069.234271       покупка коммерческой недвижимости  \n",
       "12            NaN                         сыграть свадьбу  \n",
       "13  130458.228857                 приобретение автомобиля  \n",
       "14  165127.911772              покупка жилой недвижимости  \n",
       "15  116820.904450  строительство собственной недвижимости  \n",
       "16  289202.704229                            недвижимость  \n",
       "17   90410.586745              строительство недвижимости  \n",
       "18   56823.777243      на покупку подержанного автомобиля  \n",
       "19  242831.107982            на покупку своего автомобиля  "
      ]
     },
     "execution_count": 2,
     "metadata": {},
     "output_type": "execute_result"
    }
   ],
   "source": [
    "data.head(20)"
   ]
  },
  {
   "cell_type": "markdown",
   "id": "e4504354",
   "metadata": {
    "deletable": false,
    "editable": false,
    "id": "1c12e233"
   },
   "source": [
    "**Задание 3. Выведите основную информацию о датафрейме с помощью метода `info()`.**"
   ]
  },
  {
   "cell_type": "code",
   "execution_count": 3,
   "id": "23265476",
   "metadata": {
    "deletable": false,
    "id": "2b757bca",
    "outputId": "15376089-8dad-46c9-b520-c05248d43158"
   },
   "outputs": [
    {
     "name": "stdout",
     "output_type": "stream",
     "text": [
      "<class 'pandas.core.frame.DataFrame'>\n",
      "RangeIndex: 21525 entries, 0 to 21524\n",
      "Data columns (total 12 columns):\n",
      " #   Column            Non-Null Count  Dtype  \n",
      "---  ------            --------------  -----  \n",
      " 0   children          21525 non-null  int64  \n",
      " 1   days_employed     19351 non-null  float64\n",
      " 2   dob_years         21525 non-null  int64  \n",
      " 3   education         21525 non-null  object \n",
      " 4   education_id      21525 non-null  int64  \n",
      " 5   family_status     21525 non-null  object \n",
      " 6   family_status_id  21525 non-null  int64  \n",
      " 7   gender            21525 non-null  object \n",
      " 8   income_type       21525 non-null  object \n",
      " 9   debt              21525 non-null  int64  \n",
      " 10  total_income      19351 non-null  float64\n",
      " 11  purpose           21525 non-null  object \n",
      "dtypes: float64(2), int64(5), object(5)\n",
      "memory usage: 2.0+ MB\n"
     ]
    }
   ],
   "source": [
    "data.info()"
   ]
  },
  {
   "cell_type": "markdown",
   "id": "4aac06cd",
   "metadata": {
    "deletable": false,
    "editable": false,
    "id": "333ec665"
   },
   "source": [
    "## Предобработка данных"
   ]
  },
  {
   "cell_type": "markdown",
   "id": "8184c25b",
   "metadata": {
    "deletable": false,
    "editable": false,
    "id": "02d92d53"
   },
   "source": [
    "### Удаление пропусков"
   ]
  },
  {
   "cell_type": "markdown",
   "id": "904764c1",
   "metadata": {
    "deletable": false,
    "editable": false,
    "id": "cd84967c"
   },
   "source": [
    "**Задание 4. Выведите количество пропущенных значений для каждого столбца. Используйте комбинацию двух методов.**"
   ]
  },
  {
   "cell_type": "code",
   "execution_count": 4,
   "id": "d2a5b78e",
   "metadata": {
    "deletable": false,
    "id": "7f9b2309",
    "outputId": "81f4d817-781c-465c-ed15-91ce4446810d"
   },
   "outputs": [
    {
     "data": {
      "text/plain": [
       "children               0\n",
       "days_employed       2174\n",
       "dob_years              0\n",
       "education              0\n",
       "education_id           0\n",
       "family_status          0\n",
       "family_status_id       0\n",
       "gender                 0\n",
       "income_type            0\n",
       "debt                   0\n",
       "total_income        2174\n",
       "purpose                0\n",
       "dtype: int64"
      ]
     },
     "execution_count": 4,
     "metadata": {},
     "output_type": "execute_result"
    }
   ],
   "source": [
    "data.isna().sum()"
   ]
  },
  {
   "cell_type": "markdown",
   "id": "75957b02",
   "metadata": {
    "deletable": false,
    "editable": false,
    "id": "db86e27b"
   },
   "source": [
    "**Задание 5. В двух столбцах есть пропущенные значения. Один из них — `days_employed`. Пропуски в этом столбце вы обработаете на следующем этапе. Другой столбец с пропущенными значениями — `total_income` — хранит данные о доходах. На сумму дохода сильнее всего влияет тип занятости, поэтому заполнить пропуски в этом столбце нужно медианным значением по каждому типу из столбца `income_type`. Например, у человека с типом занятости `сотрудник` пропуск в столбце `total_income` должен быть заполнен медианным доходом среди всех записей с тем же типом.**"
   ]
  },
  {
   "cell_type": "code",
   "execution_count": 5,
   "id": "a7d96e29",
   "metadata": {
    "deletable": false,
    "id": "42006a93"
   },
   "outputs": [],
   "source": [
    "for t in data['income_type'].unique():\n",
    "    data.loc[(data['income_type'] == t) & (data['total_income'].isna()), 'total_income'] = \\\n",
    "    data.loc[(data['income_type'] == t), 'total_income'].median()"
   ]
  },
  {
   "cell_type": "markdown",
   "id": "e7ce6a5a",
   "metadata": {
    "deletable": false,
    "editable": false,
    "id": "89da5ece"
   },
   "source": [
    "### Обработка аномальных значений"
   ]
  },
  {
   "cell_type": "markdown",
   "id": "49fd0726",
   "metadata": {
    "deletable": false,
    "editable": false,
    "id": "57964554"
   },
   "source": [
    "**Задание 6. В данных могут встречаться артефакты (аномалии) — значения, которые не отражают действительность и появились по какой-то ошибке. таким артефактом будет отрицательное количество дней трудового стажа в столбце `days_employed`. Для реальных данных это нормально. Обработайте значения в этом столбце: замените все отрицательные значения положительными с помощью метода `abs()`.**"
   ]
  },
  {
   "cell_type": "code",
   "execution_count": 6,
   "id": "7097f518",
   "metadata": {
    "deletable": false,
    "id": "f6f055bf"
   },
   "outputs": [],
   "source": [
    "data['days_employed'] = data['days_employed'].abs()"
   ]
  },
  {
   "cell_type": "markdown",
   "id": "414721e5",
   "metadata": {
    "deletable": false,
    "editable": false,
    "id": "6107dd2f"
   },
   "source": [
    "**Задание 7. Для каждого типа занятости выведите медианное значение трудового стажа `days_employed` в днях.**"
   ]
  },
  {
   "cell_type": "code",
   "execution_count": 7,
   "id": "7ace33cd",
   "metadata": {
    "deletable": false,
    "id": "85a5faf6",
    "outputId": "801ef80e-522b-4668-f34e-565af7432bcf"
   },
   "outputs": [
    {
     "data": {
      "text/plain": [
       "income_type\n",
       "безработный        366413.652744\n",
       "в декрете            3296.759962\n",
       "госслужащий          2689.368353\n",
       "компаньон            1547.382223\n",
       "пенсионер          365213.306266\n",
       "предприниматель       520.848083\n",
       "сотрудник            1574.202821\n",
       "студент               578.751554\n",
       "Name: days_employed, dtype: float64"
      ]
     },
     "execution_count": 7,
     "metadata": {},
     "output_type": "execute_result"
    }
   ],
   "source": [
    "data.groupby('income_type')['days_employed'].agg('median')"
   ]
  },
  {
   "cell_type": "markdown",
   "id": "8e19f840",
   "metadata": {
    "deletable": false,
    "editable": false,
    "id": "38d1a030"
   },
   "source": [
    "У двух типов (безработные и пенсионеры) получатся аномально большие значения. Исправить такие значения сложно, поэтому оставьте их как есть. Тем более этот столбец не понадобится вам для исследования."
   ]
  },
  {
   "cell_type": "markdown",
   "id": "b14b43d0",
   "metadata": {
    "deletable": false,
    "editable": false,
    "id": "d8a9f147"
   },
   "source": [
    "**Задание 8. Выведите перечень уникальных значений столбца `children`.**"
   ]
  },
  {
   "cell_type": "code",
   "execution_count": 8,
   "id": "6fe77511",
   "metadata": {
    "deletable": false,
    "id": "ef5056eb",
    "outputId": "6975b15c-7f95-4697-d16d-a0c79b657b03"
   },
   "outputs": [
    {
     "data": {
      "text/plain": [
       "array([ 1,  0,  3,  2, -1,  4, 20,  5])"
      ]
     },
     "execution_count": 8,
     "metadata": {},
     "output_type": "execute_result"
    }
   ],
   "source": [
    "data['children'].unique()"
   ]
  },
  {
   "cell_type": "markdown",
   "id": "96160b8a",
   "metadata": {
    "deletable": false,
    "editable": false,
    "id": "40b9ebf2"
   },
   "source": [
    "**Задание 9. В столбце `children` есть два аномальных значения. Удалите строки, в которых встречаются такие аномальные значения из датафрейма `data`.**"
   ]
  },
  {
   "cell_type": "code",
   "execution_count": 9,
   "id": "851e7490",
   "metadata": {
    "deletable": false,
    "id": "3ff9801d"
   },
   "outputs": [],
   "source": [
    "data = data[(data['children'] != -1) & (data['children'] != 20)]"
   ]
  },
  {
   "cell_type": "markdown",
   "id": "17c794b0",
   "metadata": {
    "deletable": false,
    "editable": false,
    "id": "bbc4d0ce"
   },
   "source": [
    "**Задание 10. Ещё раз выведите перечень уникальных значений столбца `children`, чтобы убедиться, что артефакты удалены.**"
   ]
  },
  {
   "cell_type": "code",
   "execution_count": 10,
   "id": "1f2bc8cb",
   "metadata": {
    "deletable": false,
    "id": "ad4fa8b7",
    "outputId": "b2097101-d49d-44d9-901b-32a65c9463d1"
   },
   "outputs": [
    {
     "data": {
      "text/plain": [
       "array([1, 0, 3, 2, 4, 5])"
      ]
     },
     "execution_count": 10,
     "metadata": {},
     "output_type": "execute_result"
    }
   ],
   "source": [
    "data['children'].unique()"
   ]
  },
  {
   "cell_type": "markdown",
   "id": "d904ceb0",
   "metadata": {
    "deletable": false,
    "editable": false,
    "id": "75440b63"
   },
   "source": [
    "### Удаление пропусков (продолжение)"
   ]
  },
  {
   "cell_type": "markdown",
   "id": "f12377a0",
   "metadata": {
    "deletable": false,
    "editable": false,
    "id": "f4ea573f"
   },
   "source": [
    "**Задание 11. Заполните пропуски в столбце `days_employed` медианными значениями по каждого типа занятости `income_type`.**"
   ]
  },
  {
   "cell_type": "code",
   "execution_count": 11,
   "id": "e35fad9c",
   "metadata": {
    "deletable": false,
    "id": "af6b1a7e"
   },
   "outputs": [],
   "source": [
    "for t in data['income_type'].unique():\n",
    "    data.loc[(data['income_type'] == t) & (data['days_employed'].isna()), 'days_employed'] = \\\n",
    "    data.loc[(data['income_type'] == t), 'days_employed'].median()"
   ]
  },
  {
   "cell_type": "markdown",
   "id": "c834f2df",
   "metadata": {
    "deletable": false,
    "editable": false,
    "id": "2753f40d"
   },
   "source": [
    "**Задание 12. Убедитесь, что все пропуски заполнены. Проверьте себя и ещё раз выведите количество пропущенных значений для каждого столбца с помощью двух методов.**"
   ]
  },
  {
   "cell_type": "code",
   "execution_count": 12,
   "id": "ee82406e",
   "metadata": {
    "deletable": false,
    "id": "55f78bc2",
    "outputId": "8da1e4e1-358e-4e87-98c9-f261bce0a7b2"
   },
   "outputs": [
    {
     "data": {
      "text/plain": [
       "children            0\n",
       "days_employed       0\n",
       "dob_years           0\n",
       "education           0\n",
       "education_id        0\n",
       "family_status       0\n",
       "family_status_id    0\n",
       "gender              0\n",
       "income_type         0\n",
       "debt                0\n",
       "total_income        0\n",
       "purpose             0\n",
       "dtype: int64"
      ]
     },
     "execution_count": 12,
     "metadata": {},
     "output_type": "execute_result"
    }
   ],
   "source": [
    "data.isna().sum()"
   ]
  },
  {
   "cell_type": "markdown",
   "id": "1b2c35a4",
   "metadata": {
    "deletable": false,
    "editable": false,
    "id": "ddc81e43"
   },
   "source": [
    "### Изменение типов данных"
   ]
  },
  {
   "cell_type": "markdown",
   "id": "62183f14",
   "metadata": {
    "deletable": false,
    "editable": false,
    "id": "42d19d24"
   },
   "source": [
    "**Задание 13. Замените вещественный тип данных в столбце `total_income` на целочисленный с помощью метода `astype()`.**"
   ]
  },
  {
   "cell_type": "code",
   "execution_count": 13,
   "id": "0fb057fc",
   "metadata": {
    "deletable": false,
    "id": "920b65ad"
   },
   "outputs": [],
   "source": [
    "data['total_income'] = data['total_income'].astype(int)"
   ]
  },
  {
   "cell_type": "markdown",
   "id": "847e9abc",
   "metadata": {
    "deletable": false,
    "editable": false,
    "id": "80c420ba"
   },
   "source": [
    "### Обработка дубликатов"
   ]
  },
  {
   "cell_type": "markdown",
   "id": "792a25cf",
   "metadata": {
    "deletable": false,
    "editable": false
   },
   "source": [
    "**Задание 14. Обработайте неявные дубликаты в столбце `education`. В этом столбце есть одни и те же значения, но записанные по-разному: с использованием заглавных и строчных букв. Приведите их к нижнему регистру. Проверьте остальные столбцы.**"
   ]
  },
  {
   "cell_type": "code",
   "execution_count": 14,
   "id": "202f51b3",
   "metadata": {
    "deletable": false
   },
   "outputs": [],
   "source": [
    "data['education'] = data['education'].str.lower()"
   ]
  },
  {
   "cell_type": "markdown",
   "id": "fa03501d",
   "metadata": {
    "deletable": false,
    "editable": false,
    "id": "dc587695"
   },
   "source": [
    "**Задание 15. Выведите на экран количество строк-дубликатов в данных. Если такие строки присутствуют, удалите их.**"
   ]
  },
  {
   "cell_type": "code",
   "execution_count": 15,
   "id": "7ec2b1e9",
   "metadata": {
    "deletable": false,
    "id": "3ee445e4",
    "outputId": "9684deba-1934-42d1-99e1-cda61740f822"
   },
   "outputs": [
    {
     "data": {
      "text/plain": [
       "71"
      ]
     },
     "execution_count": 15,
     "metadata": {},
     "output_type": "execute_result"
    }
   ],
   "source": [
    "data.duplicated().sum()"
   ]
  },
  {
   "cell_type": "code",
   "execution_count": 16,
   "id": "65631ff5",
   "metadata": {
    "deletable": false,
    "id": "8575fe05"
   },
   "outputs": [],
   "source": [
    "data = data.drop_duplicates()"
   ]
  },
  {
   "cell_type": "markdown",
   "id": "e83fd759",
   "metadata": {
    "deletable": false,
    "editable": false,
    "id": "9904cf55"
   },
   "source": [
    "### Категоризация данных"
   ]
  },
  {
   "cell_type": "markdown",
   "id": "0052d29b",
   "metadata": {
    "deletable": false,
    "editable": false,
    "id": "72fcc8a2"
   },
   "source": [
    "**Задание 16. На основании диапазонов, указанных ниже, создайте в датафрейме `data` столбец `total_income_category` с категориями:**\n",
    "\n",
    "- 0–30000 — `'E'`;\n",
    "- 30001–50000 — `'D'`;\n",
    "- 50001–200000 — `'C'`;\n",
    "- 200001–1000000 — `'B'`;\n",
    "- 1000001 и выше — `'A'`.\n",
    "\n",
    "\n",
    "**Например, кредитополучателю с доходом 25000 нужно назначить категорию `'E'`, а клиенту, получающему 235000, — `'B'`. Используйте собственную функцию с именем `categorize_income()` и метод `apply()`.**"
   ]
  },
  {
   "cell_type": "code",
   "execution_count": 17,
   "id": "fab77807",
   "metadata": {
    "deletable": false,
    "id": "e1771346"
   },
   "outputs": [],
   "source": [
    "def categorize_income(income):\n",
    "    try:\n",
    "        if 0 <= income <= 30000:\n",
    "            return 'E'\n",
    "        elif 30001 <= income <= 50000:\n",
    "            return 'D'\n",
    "        elif 50001 <= income <= 200000:\n",
    "            return 'C'\n",
    "        elif 200001 <= income <= 1000000:\n",
    "            return 'B'\n",
    "        elif income >= 1000001:\n",
    "            return 'A'\n",
    "    except:\n",
    "        pass"
   ]
  },
  {
   "cell_type": "code",
   "execution_count": 18,
   "id": "f16f9a7d",
   "metadata": {
    "deletable": false,
    "id": "d5f3586d"
   },
   "outputs": [],
   "source": [
    "data['total_income_category'] = data['total_income'].apply(categorize_income)"
   ]
  },
  {
   "cell_type": "markdown",
   "id": "ce15af39",
   "metadata": {
    "deletable": false,
    "editable": false,
    "id": "dde49b5c"
   },
   "source": [
    "**Задание 17. Выведите на экран перечень уникальных целей взятия кредита из столбца `purpose`.**"
   ]
  },
  {
   "cell_type": "code",
   "execution_count": 19,
   "id": "029e0338",
   "metadata": {
    "deletable": false,
    "id": "f67ce9b3",
    "outputId": "673c12d9-7d7e-4ae0-9812-c622c89dd244"
   },
   "outputs": [
    {
     "data": {
      "text/plain": [
       "array(['покупка жилья', 'приобретение автомобиля',\n",
       "       'дополнительное образование', 'сыграть свадьбу',\n",
       "       'операции с жильем', 'образование', 'на проведение свадьбы',\n",
       "       'покупка жилья для семьи', 'покупка недвижимости',\n",
       "       'покупка коммерческой недвижимости', 'покупка жилой недвижимости',\n",
       "       'строительство собственной недвижимости', 'недвижимость',\n",
       "       'строительство недвижимости', 'на покупку подержанного автомобиля',\n",
       "       'на покупку своего автомобиля',\n",
       "       'операции с коммерческой недвижимостью',\n",
       "       'строительство жилой недвижимости', 'жилье',\n",
       "       'операции со своей недвижимостью', 'автомобили',\n",
       "       'заняться образованием', 'сделка с подержанным автомобилем',\n",
       "       'получение образования', 'автомобиль', 'свадьба',\n",
       "       'получение дополнительного образования', 'покупка своего жилья',\n",
       "       'операции с недвижимостью', 'получение высшего образования',\n",
       "       'свой автомобиль', 'сделка с автомобилем',\n",
       "       'профильное образование', 'высшее образование',\n",
       "       'покупка жилья для сдачи', 'на покупку автомобиля', 'ремонт жилью',\n",
       "       'заняться высшим образованием'], dtype=object)"
      ]
     },
     "execution_count": 19,
     "metadata": {},
     "output_type": "execute_result"
    }
   ],
   "source": [
    "data['purpose'].unique()"
   ]
  },
  {
   "cell_type": "markdown",
   "id": "8157612e",
   "metadata": {
    "deletable": false,
    "editable": false,
    "id": "85d0aef0"
   },
   "source": [
    "**Задание 18. Создайте функцию, которая на основании данных из столбца `purpose` сформирует новый столбец `purpose_category`, в который войдут следующие категории:**\n",
    "\n",
    "- `'операции с автомобилем'`,\n",
    "- `'операции с недвижимостью'`,\n",
    "- `'проведение свадьбы'`,\n",
    "- `'получение образования'`.\n",
    "\n",
    "**Например, если в столбце `purpose` находится подстрока `'на покупку автомобиля'`, то в столбце `purpose_category` должна появиться строка `'операции с автомобилем'`.**\n",
    "\n",
    "**Используйте собственную функцию с именем `categorize_purpose()` и метод `apply()`. Изучите данные в столбце `purpose` и определите, какие подстроки помогут вам правильно определить категорию.**"
   ]
  },
  {
   "cell_type": "code",
   "execution_count": 20,
   "id": "c305e45f",
   "metadata": {
    "deletable": false,
    "id": "e149fab4"
   },
   "outputs": [],
   "source": [
    "def categorize_purpose(row):\n",
    "    try:\n",
    "        if 'автом' in row:\n",
    "            return 'операции с автомобилем'\n",
    "        elif 'жил' in row or 'недвиж' in row:\n",
    "            return 'операции с недвижимостью'\n",
    "        elif 'свад' in row:\n",
    "            return 'проведение свадьбы'\n",
    "        elif 'образов' in row:\n",
    "            return 'получение образования'\n",
    "    except:\n",
    "        return 'нет категории'"
   ]
  },
  {
   "cell_type": "code",
   "execution_count": 21,
   "id": "90b09538",
   "metadata": {
    "deletable": false,
    "id": "bf36e69b"
   },
   "outputs": [],
   "source": [
    "data['purpose_category'] = data['purpose'].apply(categorize_purpose)"
   ]
  },
  {
   "cell_type": "markdown",
   "id": "3604412f",
   "metadata": {
    "deletable": false,
    "editable": false,
    "id": "09b242bf"
   },
   "source": [
    "### Шаг 3. Исследуйте данные и ответьте на вопросы"
   ]
  },
  {
   "cell_type": "markdown",
   "id": "04334b6c",
   "metadata": {
    "deletable": false,
    "editable": false,
    "id": "c5d66278"
   },
   "source": [
    "#### 3.1 Есть ли зависимость между количеством детей и возвратом кредита в срок?"
   ]
  },
  {
   "cell_type": "code",
   "execution_count": 22,
   "id": "fe25b033",
   "metadata": {
    "deletable": false,
    "id": "2cacfc4a"
   },
   "outputs": [
    {
     "data": {
      "text/html": [
       "<style  type=\"text/css\" >\n",
       "</style><table id=\"T_76091_\" ><thead>    <tr>        <th class=\"index_name level0\" >debt</th>        <th class=\"col_heading level0 col0\" >0</th>        <th class=\"col_heading level0 col1\" >1</th>        <th class=\"col_heading level0 col2\" >All</th>        <th class=\"col_heading level0 col3\" >% возврата</th>        <th class=\"col_heading level0 col4\" >% не возврата</th>    </tr>    <tr>        <th class=\"index_name level0\" >children</th>        <th class=\"blank\" ></th>        <th class=\"blank\" ></th>        <th class=\"blank\" ></th>        <th class=\"blank\" ></th>        <th class=\"blank\" ></th>    </tr></thead><tbody>\n",
       "                <tr>\n",
       "                        <th id=\"T_76091_level0_row0\" class=\"row_heading level0 row0\" >0</th>\n",
       "                        <td id=\"T_76091_row0_col0\" class=\"data row0 col0\" >13028</td>\n",
       "                        <td id=\"T_76091_row0_col1\" class=\"data row0 col1\" >1063</td>\n",
       "                        <td id=\"T_76091_row0_col2\" class=\"data row0 col2\" >14091</td>\n",
       "                        <td id=\"T_76091_row0_col3\" class=\"data row0 col3\" >92.46%</td>\n",
       "                        <td id=\"T_76091_row0_col4\" class=\"data row0 col4\" >7.54%</td>\n",
       "            </tr>\n",
       "            <tr>\n",
       "                        <th id=\"T_76091_level0_row1\" class=\"row_heading level0 row1\" >1</th>\n",
       "                        <td id=\"T_76091_row1_col0\" class=\"data row1 col0\" >4364</td>\n",
       "                        <td id=\"T_76091_row1_col1\" class=\"data row1 col1\" >444</td>\n",
       "                        <td id=\"T_76091_row1_col2\" class=\"data row1 col2\" >4808</td>\n",
       "                        <td id=\"T_76091_row1_col3\" class=\"data row1 col3\" >90.77%</td>\n",
       "                        <td id=\"T_76091_row1_col4\" class=\"data row1 col4\" >9.23%</td>\n",
       "            </tr>\n",
       "            <tr>\n",
       "                        <th id=\"T_76091_level0_row2\" class=\"row_heading level0 row2\" >2</th>\n",
       "                        <td id=\"T_76091_row2_col0\" class=\"data row2 col0\" >1858</td>\n",
       "                        <td id=\"T_76091_row2_col1\" class=\"data row2 col1\" >194</td>\n",
       "                        <td id=\"T_76091_row2_col2\" class=\"data row2 col2\" >2052</td>\n",
       "                        <td id=\"T_76091_row2_col3\" class=\"data row2 col3\" >90.55%</td>\n",
       "                        <td id=\"T_76091_row2_col4\" class=\"data row2 col4\" >9.45%</td>\n",
       "            </tr>\n",
       "            <tr>\n",
       "                        <th id=\"T_76091_level0_row3\" class=\"row_heading level0 row3\" >3</th>\n",
       "                        <td id=\"T_76091_row3_col0\" class=\"data row3 col0\" >303</td>\n",
       "                        <td id=\"T_76091_row3_col1\" class=\"data row3 col1\" >27</td>\n",
       "                        <td id=\"T_76091_row3_col2\" class=\"data row3 col2\" >330</td>\n",
       "                        <td id=\"T_76091_row3_col3\" class=\"data row3 col3\" >91.82%</td>\n",
       "                        <td id=\"T_76091_row3_col4\" class=\"data row3 col4\" >8.18%</td>\n",
       "            </tr>\n",
       "            <tr>\n",
       "                        <th id=\"T_76091_level0_row4\" class=\"row_heading level0 row4\" >4</th>\n",
       "                        <td id=\"T_76091_row4_col0\" class=\"data row4 col0\" >37</td>\n",
       "                        <td id=\"T_76091_row4_col1\" class=\"data row4 col1\" >4</td>\n",
       "                        <td id=\"T_76091_row4_col2\" class=\"data row4 col2\" >41</td>\n",
       "                        <td id=\"T_76091_row4_col3\" class=\"data row4 col3\" >90.24%</td>\n",
       "                        <td id=\"T_76091_row4_col4\" class=\"data row4 col4\" >9.76%</td>\n",
       "            </tr>\n",
       "            <tr>\n",
       "                        <th id=\"T_76091_level0_row5\" class=\"row_heading level0 row5\" >5</th>\n",
       "                        <td id=\"T_76091_row5_col0\" class=\"data row5 col0\" >9</td>\n",
       "                        <td id=\"T_76091_row5_col1\" class=\"data row5 col1\" >0</td>\n",
       "                        <td id=\"T_76091_row5_col2\" class=\"data row5 col2\" >9</td>\n",
       "                        <td id=\"T_76091_row5_col3\" class=\"data row5 col3\" >100.00%</td>\n",
       "                        <td id=\"T_76091_row5_col4\" class=\"data row5 col4\" >0.00%</td>\n",
       "            </tr>\n",
       "            <tr>\n",
       "                        <th id=\"T_76091_level0_row6\" class=\"row_heading level0 row6\" >All</th>\n",
       "                        <td id=\"T_76091_row6_col0\" class=\"data row6 col0\" >19599</td>\n",
       "                        <td id=\"T_76091_row6_col1\" class=\"data row6 col1\" >1732</td>\n",
       "                        <td id=\"T_76091_row6_col2\" class=\"data row6 col2\" >21331</td>\n",
       "                        <td id=\"T_76091_row6_col3\" class=\"data row6 col3\" >91.88%</td>\n",
       "                        <td id=\"T_76091_row6_col4\" class=\"data row6 col4\" >8.12%</td>\n",
       "            </tr>\n",
       "    </tbody></table>"
      ],
      "text/plain": [
       "<pandas.io.formats.style.Styler at 0x7f39818484c0>"
      ]
     },
     "execution_count": 22,
     "metadata": {},
     "output_type": "execute_result"
    }
   ],
   "source": [
    "# Cделаем сводную таблицу,children в индекс,колонки из debt,добавим колонку ALL,рассчитаем % возврата и невозврата (0(1)/ALL)\n",
    "\n",
    "data_pivot = data.pivot_table(index=['children'],columns='debt', values='total_income', aggfunc='count', \\\n",
    "                              fill_value= 0, margins=True)\n",
    "\n",
    "data_pivot['% возврата'] = data_pivot[0] / data_pivot['All']\n",
    "data_pivot['% не возврата'] = data_pivot[1] / data_pivot['All']\n",
    "\n",
    "data_pivot = data_pivot.style.format({'% возврата': '{:.2%}', '% не возврата': '{:.2%}'})\n",
    "data_pivot"
   ]
  },
  {
   "cell_type": "markdown",
   "id": "5edd6989",
   "metadata": {
    "deletable": false,
    "id": "3a6b99ec"
   },
   "source": [
    "**Вывод:** \n",
    "Гипотеза не подтверждена, зависимости между колличеством детей и возврата кредита в срок нет, т.к процент возврата кредита в срок, во всех категориях (по колличеству детей) примерно одинаковый 90 - 92%. Т.е наличие/отсутствие детей никак не влияет на возврат кредита в срок.\n",
    "\n",
    "Стоит так же отметить что категория людей не имеющая детей, самая большая в данном исследовании, и имеет самый низкий % невозврата (7,54%), по отношению к категориям, имеющим какое либо колличество детей.\n",
    "Самый высокий % невозврата кредита - в категории \"4 ребенка\", который составляет 9,76 %. Но, если принять во внимание, общий процент невозврата по всем категориям, который составляет - 8%, то можно сказать, что отклонения по категориям меньше 3%, несущественны. "
   ]
  },
  {
   "cell_type": "markdown",
   "id": "bf8cafa6",
   "metadata": {
    "deletable": false,
    "editable": false,
    "id": "97be82ca"
   },
   "source": [
    "#### 3.2 Есть ли зависимость между семейным положением и возвратом кредита в срок?"
   ]
  },
  {
   "cell_type": "code",
   "execution_count": 23,
   "id": "2600998a",
   "metadata": {
    "deletable": false,
    "id": "dc3f7ee8"
   },
   "outputs": [
    {
     "data": {
      "text/html": [
       "<style  type=\"text/css\" >\n",
       "</style><table id=\"T_4bb65_\" ><thead>    <tr>        <th class=\"index_name level0\" >debt</th>        <th class=\"col_heading level0 col0\" >0</th>        <th class=\"col_heading level0 col1\" >1</th>        <th class=\"col_heading level0 col2\" >All</th>        <th class=\"col_heading level0 col3\" >% возврата</th>        <th class=\"col_heading level0 col4\" >% не возврата</th>    </tr>    <tr>        <th class=\"index_name level0\" >family_status</th>        <th class=\"blank\" ></th>        <th class=\"blank\" ></th>        <th class=\"blank\" ></th>        <th class=\"blank\" ></th>        <th class=\"blank\" ></th>    </tr></thead><tbody>\n",
       "                <tr>\n",
       "                        <th id=\"T_4bb65_level0_row0\" class=\"row_heading level0 row0\" >Не женат / не замужем</th>\n",
       "                        <td id=\"T_4bb65_row0_col0\" class=\"data row0 col0\" >2523</td>\n",
       "                        <td id=\"T_4bb65_row0_col1\" class=\"data row0 col1\" >273</td>\n",
       "                        <td id=\"T_4bb65_row0_col2\" class=\"data row0 col2\" >2796</td>\n",
       "                        <td id=\"T_4bb65_row0_col3\" class=\"data row0 col3\" >90.24%</td>\n",
       "                        <td id=\"T_4bb65_row0_col4\" class=\"data row0 col4\" >9.76%</td>\n",
       "            </tr>\n",
       "            <tr>\n",
       "                        <th id=\"T_4bb65_level0_row1\" class=\"row_heading level0 row1\" >в разводе</th>\n",
       "                        <td id=\"T_4bb65_row1_col0\" class=\"data row1 col0\" >1105</td>\n",
       "                        <td id=\"T_4bb65_row1_col1\" class=\"data row1 col1\" >84</td>\n",
       "                        <td id=\"T_4bb65_row1_col2\" class=\"data row1 col2\" >1189</td>\n",
       "                        <td id=\"T_4bb65_row1_col3\" class=\"data row1 col3\" >92.94%</td>\n",
       "                        <td id=\"T_4bb65_row1_col4\" class=\"data row1 col4\" >7.06%</td>\n",
       "            </tr>\n",
       "            <tr>\n",
       "                        <th id=\"T_4bb65_level0_row2\" class=\"row_heading level0 row2\" >вдовец / вдова</th>\n",
       "                        <td id=\"T_4bb65_row2_col0\" class=\"data row2 col0\" >888</td>\n",
       "                        <td id=\"T_4bb65_row2_col1\" class=\"data row2 col1\" >63</td>\n",
       "                        <td id=\"T_4bb65_row2_col2\" class=\"data row2 col2\" >951</td>\n",
       "                        <td id=\"T_4bb65_row2_col3\" class=\"data row2 col3\" >93.38%</td>\n",
       "                        <td id=\"T_4bb65_row2_col4\" class=\"data row2 col4\" >6.62%</td>\n",
       "            </tr>\n",
       "            <tr>\n",
       "                        <th id=\"T_4bb65_level0_row3\" class=\"row_heading level0 row3\" >гражданский брак</th>\n",
       "                        <td id=\"T_4bb65_row3_col0\" class=\"data row3 col0\" >3749</td>\n",
       "                        <td id=\"T_4bb65_row3_col1\" class=\"data row3 col1\" >385</td>\n",
       "                        <td id=\"T_4bb65_row3_col2\" class=\"data row3 col2\" >4134</td>\n",
       "                        <td id=\"T_4bb65_row3_col3\" class=\"data row3 col3\" >90.69%</td>\n",
       "                        <td id=\"T_4bb65_row3_col4\" class=\"data row3 col4\" >9.31%</td>\n",
       "            </tr>\n",
       "            <tr>\n",
       "                        <th id=\"T_4bb65_level0_row4\" class=\"row_heading level0 row4\" >женат / замужем</th>\n",
       "                        <td id=\"T_4bb65_row4_col0\" class=\"data row4 col0\" >11334</td>\n",
       "                        <td id=\"T_4bb65_row4_col1\" class=\"data row4 col1\" >927</td>\n",
       "                        <td id=\"T_4bb65_row4_col2\" class=\"data row4 col2\" >12261</td>\n",
       "                        <td id=\"T_4bb65_row4_col3\" class=\"data row4 col3\" >92.44%</td>\n",
       "                        <td id=\"T_4bb65_row4_col4\" class=\"data row4 col4\" >7.56%</td>\n",
       "            </tr>\n",
       "            <tr>\n",
       "                        <th id=\"T_4bb65_level0_row5\" class=\"row_heading level0 row5\" >All</th>\n",
       "                        <td id=\"T_4bb65_row5_col0\" class=\"data row5 col0\" >19599</td>\n",
       "                        <td id=\"T_4bb65_row5_col1\" class=\"data row5 col1\" >1732</td>\n",
       "                        <td id=\"T_4bb65_row5_col2\" class=\"data row5 col2\" >21331</td>\n",
       "                        <td id=\"T_4bb65_row5_col3\" class=\"data row5 col3\" >91.88%</td>\n",
       "                        <td id=\"T_4bb65_row5_col4\" class=\"data row5 col4\" >8.12%</td>\n",
       "            </tr>\n",
       "    </tbody></table>"
      ],
      "text/plain": [
       "<pandas.io.formats.style.Styler at 0x7f39ec3beac0>"
      ]
     },
     "execution_count": 23,
     "metadata": {},
     "output_type": "execute_result"
    }
   ],
   "source": [
    "data_pivot = data.pivot_table(index=['family_status'],columns='debt', values='total_income', aggfunc='count', \\\n",
    "                              fill_value= 0, margins=True)\n",
    "data_pivot['% возврата'] = (data_pivot[0] / data_pivot['All'])\n",
    "data_pivot['% не возврата'] = (data_pivot[1] / data_pivot['All'])\n",
    "\n",
    "df = pd.DataFrame (data = data_pivot, columns = data_pivot.columns)\n",
    "df = df.style.format({'% возврата': '{:.2%}', '% не возврата': '{:.2%}'})\n",
    "df"
   ]
  },
  {
   "cell_type": "markdown",
   "id": "72568027",
   "metadata": {
    "deletable": false,
    "id": "1cef7837"
   },
   "source": [
    "**Вывод:** \n",
    "Гипотеза не подтверждена, зависимости между семейным положением, и возвратом кредита в срок нет.\n",
    "Общий процент возврата кредита по всем категориям составляет 91%, а по категориям в среднем 90 - 92 %, т.е все группы разделенные по семейному положению, в среднем одинаково возвращают кредит."
   ]
  },
  {
   "cell_type": "markdown",
   "id": "4bb7555a",
   "metadata": {
    "deletable": false,
    "editable": false,
    "id": "1e8b2fca"
   },
   "source": [
    "#### 3.3 Есть ли зависимость между уровнем дохода и возвратом кредита в срок?"
   ]
  },
  {
   "cell_type": "code",
   "execution_count": 24,
   "id": "ee82b16c",
   "metadata": {
    "deletable": false,
    "id": "cd7e3720"
   },
   "outputs": [
    {
     "data": {
      "text/html": [
       "<style  type=\"text/css\" >\n",
       "</style><table id=\"T_15fdc_\" ><thead>    <tr>        <th class=\"index_name level0\" >debt</th>        <th class=\"col_heading level0 col0\" >0</th>        <th class=\"col_heading level0 col1\" >1</th>        <th class=\"col_heading level0 col2\" >All</th>        <th class=\"col_heading level0 col3\" >% возврата</th>        <th class=\"col_heading level0 col4\" >% не возврата</th>    </tr>    <tr>        <th class=\"index_name level0\" >total_income_category</th>        <th class=\"blank\" ></th>        <th class=\"blank\" ></th>        <th class=\"blank\" ></th>        <th class=\"blank\" ></th>        <th class=\"blank\" ></th>    </tr></thead><tbody>\n",
       "                <tr>\n",
       "                        <th id=\"T_15fdc_level0_row0\" class=\"row_heading level0 row0\" >A</th>\n",
       "                        <td id=\"T_15fdc_row0_col0\" class=\"data row0 col0\" >23</td>\n",
       "                        <td id=\"T_15fdc_row0_col1\" class=\"data row0 col1\" >2</td>\n",
       "                        <td id=\"T_15fdc_row0_col2\" class=\"data row0 col2\" >25</td>\n",
       "                        <td id=\"T_15fdc_row0_col3\" class=\"data row0 col3\" >92.00%</td>\n",
       "                        <td id=\"T_15fdc_row0_col4\" class=\"data row0 col4\" >8.00%</td>\n",
       "            </tr>\n",
       "            <tr>\n",
       "                        <th id=\"T_15fdc_level0_row1\" class=\"row_heading level0 row1\" >B</th>\n",
       "                        <td id=\"T_15fdc_row1_col0\" class=\"data row1 col0\" >4660</td>\n",
       "                        <td id=\"T_15fdc_row1_col1\" class=\"data row1 col1\" >354</td>\n",
       "                        <td id=\"T_15fdc_row1_col2\" class=\"data row1 col2\" >5014</td>\n",
       "                        <td id=\"T_15fdc_row1_col3\" class=\"data row1 col3\" >92.94%</td>\n",
       "                        <td id=\"T_15fdc_row1_col4\" class=\"data row1 col4\" >7.06%</td>\n",
       "            </tr>\n",
       "            <tr>\n",
       "                        <th id=\"T_15fdc_level0_row2\" class=\"row_heading level0 row2\" >C</th>\n",
       "                        <td id=\"T_15fdc_row2_col0\" class=\"data row2 col0\" >14568</td>\n",
       "                        <td id=\"T_15fdc_row2_col1\" class=\"data row2 col1\" >1353</td>\n",
       "                        <td id=\"T_15fdc_row2_col2\" class=\"data row2 col2\" >15921</td>\n",
       "                        <td id=\"T_15fdc_row2_col3\" class=\"data row2 col3\" >91.50%</td>\n",
       "                        <td id=\"T_15fdc_row2_col4\" class=\"data row2 col4\" >8.50%</td>\n",
       "            </tr>\n",
       "            <tr>\n",
       "                        <th id=\"T_15fdc_level0_row3\" class=\"row_heading level0 row3\" >D</th>\n",
       "                        <td id=\"T_15fdc_row3_col0\" class=\"data row3 col0\" >328</td>\n",
       "                        <td id=\"T_15fdc_row3_col1\" class=\"data row3 col1\" >21</td>\n",
       "                        <td id=\"T_15fdc_row3_col2\" class=\"data row3 col2\" >349</td>\n",
       "                        <td id=\"T_15fdc_row3_col3\" class=\"data row3 col3\" >93.98%</td>\n",
       "                        <td id=\"T_15fdc_row3_col4\" class=\"data row3 col4\" >6.02%</td>\n",
       "            </tr>\n",
       "            <tr>\n",
       "                        <th id=\"T_15fdc_level0_row4\" class=\"row_heading level0 row4\" >E</th>\n",
       "                        <td id=\"T_15fdc_row4_col0\" class=\"data row4 col0\" >20</td>\n",
       "                        <td id=\"T_15fdc_row4_col1\" class=\"data row4 col1\" >2</td>\n",
       "                        <td id=\"T_15fdc_row4_col2\" class=\"data row4 col2\" >22</td>\n",
       "                        <td id=\"T_15fdc_row4_col3\" class=\"data row4 col3\" >90.91%</td>\n",
       "                        <td id=\"T_15fdc_row4_col4\" class=\"data row4 col4\" >9.09%</td>\n",
       "            </tr>\n",
       "            <tr>\n",
       "                        <th id=\"T_15fdc_level0_row5\" class=\"row_heading level0 row5\" >All</th>\n",
       "                        <td id=\"T_15fdc_row5_col0\" class=\"data row5 col0\" >19599</td>\n",
       "                        <td id=\"T_15fdc_row5_col1\" class=\"data row5 col1\" >1732</td>\n",
       "                        <td id=\"T_15fdc_row5_col2\" class=\"data row5 col2\" >21331</td>\n",
       "                        <td id=\"T_15fdc_row5_col3\" class=\"data row5 col3\" >91.88%</td>\n",
       "                        <td id=\"T_15fdc_row5_col4\" class=\"data row5 col4\" >8.12%</td>\n",
       "            </tr>\n",
       "    </tbody></table>"
      ],
      "text/plain": [
       "<pandas.io.formats.style.Styler at 0x7f397fb8dee0>"
      ]
     },
     "execution_count": 24,
     "metadata": {},
     "output_type": "execute_result"
    }
   ],
   "source": [
    "data_pivot = data.pivot_table(index=['total_income_category'],columns='debt', values='total_income', aggfunc='count', fill_value= 0, margins=True)\n",
    "data_pivot['% возврата'] = data_pivot[0] / data_pivot['All']\n",
    "data_pivot['% не возврата'] = data_pivot[1] / data_pivot['All']\n",
    "\n",
    "df = pd.DataFrame (data = data_pivot, columns = data_pivot.columns)\n",
    "df = df.style.format({'% возврата': '{:.2%}', '% не возврата': '{:.2%}'})\n",
    "df"
   ]
  },
  {
   "cell_type": "markdown",
   "id": "f0a536c6",
   "metadata": {
    "deletable": false,
    "id": "e8593def"
   },
   "source": [
    "**Вывод:** \n",
    "Гипотеза не подтверждена, зависимости между уровнем дохода и возвратом кредита в срок, нет. Все группы почти одинаково возвращают кредит в срок. Общий процент возврата 91%, процент по группам 90 - 93%. Явного выделение определенной группы на фоне остальных - нет."
   ]
  },
  {
   "cell_type": "markdown",
   "id": "71372e90",
   "metadata": {
    "deletable": false,
    "editable": false,
    "id": "99ecbd1f"
   },
   "source": [
    "#### 3.4 Как разные цели кредита влияют на его возврат в срок?"
   ]
  },
  {
   "cell_type": "code",
   "execution_count": 25,
   "id": "2d6b8d9a",
   "metadata": {
    "deletable": false,
    "id": "2b687290"
   },
   "outputs": [
    {
     "data": {
      "text/html": [
       "<style  type=\"text/css\" >\n",
       "</style><table id=\"T_11a7d_\" ><thead>    <tr>        <th class=\"index_name level0\" >debt</th>        <th class=\"col_heading level0 col0\" >0</th>        <th class=\"col_heading level0 col1\" >1</th>        <th class=\"col_heading level0 col2\" >All</th>        <th class=\"col_heading level0 col3\" >% возврата</th>        <th class=\"col_heading level0 col4\" >% не возврата</th>    </tr>    <tr>        <th class=\"index_name level0\" >purpose_category</th>        <th class=\"blank\" ></th>        <th class=\"blank\" ></th>        <th class=\"blank\" ></th>        <th class=\"blank\" ></th>        <th class=\"blank\" ></th>    </tr></thead><tbody>\n",
       "                <tr>\n",
       "                        <th id=\"T_11a7d_level0_row0\" class=\"row_heading level0 row0\" >операции с автомобилем</th>\n",
       "                        <td id=\"T_11a7d_row0_col0\" class=\"data row0 col0\" >3879</td>\n",
       "                        <td id=\"T_11a7d_row0_col1\" class=\"data row0 col1\" >400</td>\n",
       "                        <td id=\"T_11a7d_row0_col2\" class=\"data row0 col2\" >4279</td>\n",
       "                        <td id=\"T_11a7d_row0_col3\" class=\"data row0 col3\" >90.65%</td>\n",
       "                        <td id=\"T_11a7d_row0_col4\" class=\"data row0 col4\" >9.35%</td>\n",
       "            </tr>\n",
       "            <tr>\n",
       "                        <th id=\"T_11a7d_level0_row1\" class=\"row_heading level0 row1\" >операции с недвижимостью</th>\n",
       "                        <td id=\"T_11a7d_row1_col0\" class=\"data row1 col0\" >9971</td>\n",
       "                        <td id=\"T_11a7d_row1_col1\" class=\"data row1 col1\" >780</td>\n",
       "                        <td id=\"T_11a7d_row1_col2\" class=\"data row1 col2\" >10751</td>\n",
       "                        <td id=\"T_11a7d_row1_col3\" class=\"data row1 col3\" >92.74%</td>\n",
       "                        <td id=\"T_11a7d_row1_col4\" class=\"data row1 col4\" >7.26%</td>\n",
       "            </tr>\n",
       "            <tr>\n",
       "                        <th id=\"T_11a7d_level0_row2\" class=\"row_heading level0 row2\" >получение образования</th>\n",
       "                        <td id=\"T_11a7d_row2_col0\" class=\"data row2 col0\" >3619</td>\n",
       "                        <td id=\"T_11a7d_row2_col1\" class=\"data row2 col1\" >369</td>\n",
       "                        <td id=\"T_11a7d_row2_col2\" class=\"data row2 col2\" >3988</td>\n",
       "                        <td id=\"T_11a7d_row2_col3\" class=\"data row2 col3\" >90.75%</td>\n",
       "                        <td id=\"T_11a7d_row2_col4\" class=\"data row2 col4\" >9.25%</td>\n",
       "            </tr>\n",
       "            <tr>\n",
       "                        <th id=\"T_11a7d_level0_row3\" class=\"row_heading level0 row3\" >проведение свадьбы</th>\n",
       "                        <td id=\"T_11a7d_row3_col0\" class=\"data row3 col0\" >2130</td>\n",
       "                        <td id=\"T_11a7d_row3_col1\" class=\"data row3 col1\" >183</td>\n",
       "                        <td id=\"T_11a7d_row3_col2\" class=\"data row3 col2\" >2313</td>\n",
       "                        <td id=\"T_11a7d_row3_col3\" class=\"data row3 col3\" >92.09%</td>\n",
       "                        <td id=\"T_11a7d_row3_col4\" class=\"data row3 col4\" >7.91%</td>\n",
       "            </tr>\n",
       "            <tr>\n",
       "                        <th id=\"T_11a7d_level0_row4\" class=\"row_heading level0 row4\" >All</th>\n",
       "                        <td id=\"T_11a7d_row4_col0\" class=\"data row4 col0\" >19599</td>\n",
       "                        <td id=\"T_11a7d_row4_col1\" class=\"data row4 col1\" >1732</td>\n",
       "                        <td id=\"T_11a7d_row4_col2\" class=\"data row4 col2\" >21331</td>\n",
       "                        <td id=\"T_11a7d_row4_col3\" class=\"data row4 col3\" >91.88%</td>\n",
       "                        <td id=\"T_11a7d_row4_col4\" class=\"data row4 col4\" >8.12%</td>\n",
       "            </tr>\n",
       "    </tbody></table>"
      ],
      "text/plain": [
       "<pandas.io.formats.style.Styler at 0x7f397fb54190>"
      ]
     },
     "execution_count": 25,
     "metadata": {},
     "output_type": "execute_result"
    }
   ],
   "source": [
    "data_pivot = data.pivot_table(index=['purpose_category'],columns='debt', values='total_income', aggfunc='count', fill_value= 0, margins=True)\n",
    "data_pivot['% возврата'] = data_pivot[0] / data_pivot['All']\n",
    "data_pivot['% не возврата'] = data_pivot[1] / data_pivot['All']\n",
    "\n",
    "df = pd.DataFrame (data = data_pivot, columns = data_pivot.columns)\n",
    "df = df.style.format({'% возврата': '{:.2%}', '% не возврата': '{:.2%}'})\n",
    "df"
   ]
  },
  {
   "cell_type": "markdown",
   "id": "b90dde89",
   "metadata": {
    "deletable": false,
    "id": "b4bb2ce6"
   },
   "source": [
    "**Вывод:** \n",
    "Гипотеза не подтверждена, зависимости между целью кредита и его возврата в срок так же нет. Все группы примерно одинаво возвращают кредиты в срок. (общий процент 91, процент по группам 90-92).  \n",
    "Стоит отметить что \"операции с недвижимостью\" самая большая категория (примерно половина от всех целей) и имеет самый низкий % невозврата кредита 7.26% (ниже - лучше).  \n",
    "Самый высокий процент не возврата кредита в срок (9.35%), имеет категория \"операции с автомобилем\"."
   ]
  },
  {
   "cell_type": "markdown",
   "id": "7f1ac2ae",
   "metadata": {
    "deletable": false,
    "editable": false,
    "id": "09c3ac4c"
   },
   "source": [
    "#### 3.5 Приведите возможные причины появления пропусков в исходных данных."
   ]
  },
  {
   "cell_type": "markdown",
   "id": "88d1a90c",
   "metadata": {
    "deletable": false,
    "id": "9da2ceda"
   },
   "source": [
    "В датафрейме есть 2 колонки имеющие пропуски в данных:\n",
    "1. days_employed — общий трудовой стаж в днях\n",
    "2. total_income — ежемесячный доход\n",
    "\n",
    "В каждой строке датафрейма где есть NaN по столбцу \"days_employed\", так же есть Nan и в столбце \"total_income\".\n",
    "Таком образом можно сделать вывод о том, что пропуски в столбце \"days_employed\", зависят от значений в столбце \"total_income\".\n",
    "\n",
    "Пропуски в столбце \"total_income\", не зависят ни от каких других значений, т.к они(пропуски) могут встречаться как по категориям граждан \"пенсионер\", так и влюбых других, таких как \"госслужащий\", токорый точно должен иметь доход. Так и по всем целям кредита. поэтому можно сделать вывод что пропуски в данной колонке полностью случайные.\n",
    "\n",
    "Исходя из вышеописанного, я предполагаю, что причиной возникновения пропусков в исходных данных могла послужить техническая ошибка при формировании таблицы(либо некий сбой во время выгрузки данных на анализ, либо при объединении данных в единый файл, который также должен был передаваться на анализ, либо эти данные не собирались)."
   ]
  },
  {
   "cell_type": "markdown",
   "id": "85d3d4b5",
   "metadata": {
    "deletable": false,
    "editable": false,
    "id": "7b0487d6"
   },
   "source": [
    "#### 3.6 Объясните, почему заполнить пропуски медианным значением — лучшее решение для количественных переменных."
   ]
  },
  {
   "cell_type": "markdown",
   "id": "be3c7feb",
   "metadata": {
    "deletable": false,
    "id": "7ecf2b8e"
   },
   "source": [
    "Общий трудовой стаж в днях и ежемесячный доход - это колличественные переменные. Колличественные переменные обладают свойством сравнения. Пропуски в таких переменных заполняют характерными значениями. Чтобы примерно оценить типичные значения выборки, годятся среднее арифметическое или медиана.\n",
    "Среднее значение некорректно характеризует данные, когда некоторые значения сильно выделяются среди большинства. Поэтому заполнение пропусков медианным значением по категориям, в данном случае - оптимальное решение. "
   ]
  },
  {
   "cell_type": "markdown",
   "id": "ed73e494",
   "metadata": {
    "deletable": false,
    "editable": false,
    "id": "6db5255a"
   },
   "source": [
    "### Шаг 4: общий вывод."
   ]
  },
  {
   "cell_type": "markdown",
   "id": "1a8d5f79",
   "metadata": {
    "deletable": false,
    "id": "bad65432"
   },
   "source": [
    "Было проведено исследование, что бы проанализировать , как разные факторы могут влиять на факт погашения кредита в срок. Входные данные - статистика о платежеспособности клиентов. Результаты исследования будут учтены при построении модели кредитного скоринга — специальной системы, которая оценивает способность потенциального заёмщика вернуть кредит банку.\n",
    "\n",
    "В рамках исследования было сформулировано несколько гипотез:\n",
    "\n",
    "1.Есть ли зависимость между количеством детей и возвратом кредита в срок?  \n",
    "2.Есть ли зависимость между семейным положением и возвратом кредита в срок?  \n",
    "3.Есть ли зависимость между уровнем дохода и возвратом кредита в срок?  \n",
    "4.Как разные цели кредита влияют на его возврат в срок?  \n",
    "\n",
    "Стоит обратить внимание на то что, «разбег» между \"цифрами\" в наших данных мал. Слишком уж близки доли, чуть измениться выборка и значения могут измениться в другую сторону. То есть можно сделать вывод, что сколь угодно значимой разницы между группами нет.\n",
    "Поэтому если считать, что любая разница между группами есть повод для «разделения» классов то можно говорить о следующем:\n",
    "\n",
    "#### Гипотеза 1:\n",
    "\n",
    "* 7.54% - доля просроченных кредитов у заемщиков без детей;\n",
    "* 9.23% - доля просроченных кредитов у заемщиков с 1 ребенком;\n",
    "* 9.45% - доля просроченных кредитов у заемщиков с 2 детьми.\n",
    "\n",
    "По некоторым группам заемщиков (клиенты с 3,4 и 5ю детьми) у нас недостаточно данных, классы в выборке имеют разные размеры.\n",
    "\n",
    "Кредитополучатели без детей являются более ответственными, чем клиенты, у которых есть дети. Видимо, наличие ребенка накладывает на клиента дополнительные финансовое бремя (обязательства) и клиенты либо менее ответственно относятся к своим кредитным обязательствам, либо не имеют возможности в срок оплачивать обязательства.\n",
    "\n",
    "#### Гипотеза 2:\n",
    "\n",
    "Самый низкий процент невозврата кредита - 6.62% имеет группа - вдовец / вдова, а самый высокий - 9.76%, группа - Не женат / не замужем\n",
    "\n",
    "Поэтому, кредитному отделу следует с осторожностью относиться к клиентам, которые не состоят или не состояли в браке. Согласно данным такие клиенты менее ответственные. Получается, что узаконенные отношения ведут к более ответственному отношению к своим обязательствам.\n",
    "\n",
    "#### Гипотеза 3:\n",
    "\n",
    "* 7.06% - Доля просроченных кредитов у заемщиков с уровнем дохода B (от 200 000 до 1 000 000)\n",
    "* 8.50% - Доля просроченных кредитов у заемщиков с уровнем дохода С (от 50 000 до 200 000)\n",
    "\n",
    "Выборка по заемщикам, как с наименьшим доходом, так и с наибольшим крайне недостаточна для формирования однозначных выводов. Можно думать, что E-категория самая низкооплачиваемая не может корректно распоряжаться деньгами и «влезает» в кредиты, но тогда неясно почему у А-категории также достаточно высокий процент задолженности. В общем вывод по группам А и Е неочевиден, мало данных.\n",
    "\n",
    "Если же взять для анализа только группы В, С и D, то по полученным данным не наблюдаем зависимости \"те, кто получает больше ЗП, лучше возвращает кредит». В целом это логично, так как материальный достаток - не единственная переменная, которая влияет на качество кредитной истории.\n",
    "\n",
    "#### Гипотеза 4:\n",
    "\n",
    "* 7.26% - Доля просроченных кредитов с целью кредита - \"Операции с недвижимостью\"\n",
    "* 9.35% - Доля просроченных кредитов с целью кредита - \"Операции с автомобилем\".\n",
    "\n",
    "\"Операции с недвижимостью\" самая большая категория (примерно половина от всех целей) и имеет самый низкий % невозврата кредита 7.26% (ниже - лучше).Самый высокий процент не возврата кредита в срок (9.35%), имеет категория \"операции с автомобилем\".\n",
    "\n",
    "Можно предположить что, машины люди покупают в кредит гораздо дорогие, нежели могут соответствовать им своим доходом. А вот рисковать ипотечным жильём люди не хотят.\n",
    "\n",
    "#### Общие рекомендации:\n",
    "1. Классы в выборке имеют разные размеры - поэтому сбор более широкой выборки, может принести более полные результаты в повторном исследовании.  \n",
    "2. Кредитополучатели без детей являются более ответственными, чем клиенты, у которых есть дети. Видимо, наличие ребенка накладывает на клиента дополнительные финансовое бремя (обязательства) и клиенты либо менее ответственно относятся к своим кредитным обязательствам, либо не имеют возможности в срок оплачивать обязательства.  \n",
    "3. Кредитному отделу следует с осторожностью относиться к клиентам, которые не состоят или не состояли в браке.  \n",
    "4. Не наблюдаем зависимости \"те, кто получает больше ЗП, лучше возвращает кредит»\n",
    "5. \"Операции с недвижимостью\" самая большая категория (примерно половина от всех целей) и имеет самый низкий % невозврата кредита 7.26% (ниже - лучше).Самый высокий процент не возврата кредита в срок (9.35%), имеет категория \"операции с автомобилем\"."
   ]
  }
 ],
 "metadata": {
  "ExecuteTimeLog": [
   {
    "duration": 70,
    "start_time": "2022-09-15T15:12:05.142Z"
   },
   {
    "duration": 483,
    "start_time": "2022-09-15T15:12:13.814Z"
   },
   {
    "duration": 22,
    "start_time": "2022-09-15T15:12:14.299Z"
   },
   {
    "duration": 28,
    "start_time": "2022-09-15T15:12:14.325Z"
   },
   {
    "duration": 28,
    "start_time": "2022-09-15T15:12:14.354Z"
   },
   {
    "duration": 37,
    "start_time": "2022-09-15T15:12:14.383Z"
   },
   {
    "duration": 4,
    "start_time": "2022-09-15T15:12:14.422Z"
   },
   {
    "duration": 29,
    "start_time": "2022-09-15T15:12:14.428Z"
   },
   {
    "duration": 14,
    "start_time": "2022-09-15T15:12:14.458Z"
   },
   {
    "duration": 26,
    "start_time": "2022-09-15T15:12:14.475Z"
   },
   {
    "duration": 25,
    "start_time": "2022-09-15T15:12:14.503Z"
   },
   {
    "duration": 71,
    "start_time": "2022-09-15T15:12:14.530Z"
   },
   {
    "duration": 10,
    "start_time": "2022-09-15T15:12:14.603Z"
   },
   {
    "duration": 31,
    "start_time": "2022-09-15T15:12:14.614Z"
   },
   {
    "duration": 25,
    "start_time": "2022-09-15T15:12:14.646Z"
   },
   {
    "duration": 33,
    "start_time": "2022-09-15T15:12:14.673Z"
   },
   {
    "duration": 16,
    "start_time": "2022-09-15T15:12:14.707Z"
   },
   {
    "duration": 3,
    "start_time": "2022-09-15T15:12:14.725Z"
   },
   {
    "duration": 29,
    "start_time": "2022-09-15T15:12:14.730Z"
   },
   {
    "duration": 19,
    "start_time": "2022-09-15T15:12:14.761Z"
   },
   {
    "duration": 22,
    "start_time": "2022-09-15T15:12:14.782Z"
   },
   {
    "duration": 39,
    "start_time": "2022-09-15T15:12:14.806Z"
   },
   {
    "duration": 34,
    "start_time": "2022-09-15T15:12:14.846Z"
   },
   {
    "duration": 16,
    "start_time": "2022-09-15T15:12:14.882Z"
   },
   {
    "duration": 35,
    "start_time": "2022-09-15T15:12:14.899Z"
   },
   {
    "duration": 23,
    "start_time": "2022-09-15T15:12:14.936Z"
   },
   {
    "duration": 7,
    "start_time": "2022-09-15T15:12:51.496Z"
   },
   {
    "duration": 8,
    "start_time": "2022-09-15T15:14:09.097Z"
   },
   {
    "duration": 6,
    "start_time": "2022-09-15T15:14:44.817Z"
   },
   {
    "duration": 6,
    "start_time": "2022-09-15T15:25:43.590Z"
   },
   {
    "duration": 6,
    "start_time": "2022-09-15T15:25:56.734Z"
   },
   {
    "duration": 8,
    "start_time": "2022-09-15T15:26:23.823Z"
   },
   {
    "duration": 9,
    "start_time": "2022-09-15T15:26:54.990Z"
   },
   {
    "duration": 9,
    "start_time": "2022-09-15T15:29:02.941Z"
   },
   {
    "duration": 9,
    "start_time": "2022-09-15T15:29:12.367Z"
   },
   {
    "duration": 8,
    "start_time": "2022-09-15T16:29:53.892Z"
   },
   {
    "duration": 11,
    "start_time": "2022-09-15T16:30:11.277Z"
   },
   {
    "duration": 1351,
    "start_time": "2022-09-15T17:01:29.108Z"
   },
   {
    "duration": 33,
    "start_time": "2022-09-15T17:01:49.450Z"
   },
   {
    "duration": 31,
    "start_time": "2022-09-15T17:13:59.208Z"
   },
   {
    "duration": 24,
    "start_time": "2022-09-15T17:26:49.371Z"
   },
   {
    "duration": 17,
    "start_time": "2022-09-15T17:27:10.744Z"
   },
   {
    "duration": 859,
    "start_time": "2022-09-15T17:27:34.138Z"
   },
   {
    "duration": 1280,
    "start_time": "2022-09-15T17:28:09.352Z"
   },
   {
    "duration": 13,
    "start_time": "2022-09-15T17:29:40.203Z"
   },
   {
    "duration": 35,
    "start_time": "2022-09-15T17:31:42.264Z"
   },
   {
    "duration": 92,
    "start_time": "2022-09-15T17:36:44.619Z"
   },
   {
    "duration": 17,
    "start_time": "2022-09-15T17:36:54.694Z"
   },
   {
    "duration": 24,
    "start_time": "2022-09-15T17:37:31.335Z"
   },
   {
    "duration": 18,
    "start_time": "2022-09-15T17:38:19.722Z"
   },
   {
    "duration": 29,
    "start_time": "2022-09-15T17:38:58.668Z"
   },
   {
    "duration": 50,
    "start_time": "2022-09-15T17:39:46.228Z"
   },
   {
    "duration": 35,
    "start_time": "2022-09-15T17:50:29.410Z"
   },
   {
    "duration": 29,
    "start_time": "2022-09-15T17:53:40.526Z"
   },
   {
    "duration": 303,
    "start_time": "2022-09-15T17:55:24.226Z"
   },
   {
    "duration": 53,
    "start_time": "2022-09-15T17:55:51.793Z"
   },
   {
    "duration": 53,
    "start_time": "2022-09-15T17:56:00.113Z"
   },
   {
    "duration": 55,
    "start_time": "2022-09-15T17:59:19.650Z"
   },
   {
    "duration": 45,
    "start_time": "2022-09-15T17:59:37.486Z"
   },
   {
    "duration": 91,
    "start_time": "2022-09-15T18:00:27.203Z"
   },
   {
    "duration": 66,
    "start_time": "2022-09-15T18:01:07.689Z"
   },
   {
    "duration": 31,
    "start_time": "2022-09-15T18:01:20.841Z"
   },
   {
    "duration": 36,
    "start_time": "2022-09-15T18:14:46.493Z"
   },
   {
    "duration": 29,
    "start_time": "2022-09-15T18:19:13.960Z"
   },
   {
    "duration": 32,
    "start_time": "2022-09-15T18:19:22.959Z"
   },
   {
    "duration": 37,
    "start_time": "2022-09-15T18:19:46.886Z"
   },
   {
    "duration": 38,
    "start_time": "2022-09-15T18:23:00.048Z"
   },
   {
    "duration": 38,
    "start_time": "2022-09-15T18:28:49.203Z"
   },
   {
    "duration": 35,
    "start_time": "2022-09-15T18:31:02.859Z"
   },
   {
    "duration": 44,
    "start_time": "2022-09-15T18:32:19.939Z"
   },
   {
    "duration": 61,
    "start_time": "2022-09-16T12:29:09.725Z"
   },
   {
    "duration": 684,
    "start_time": "2022-09-16T12:29:23.617Z"
   },
   {
    "duration": 22,
    "start_time": "2022-09-16T12:29:24.302Z"
   },
   {
    "duration": 14,
    "start_time": "2022-09-16T12:29:24.325Z"
   },
   {
    "duration": 9,
    "start_time": "2022-09-16T12:29:24.341Z"
   },
   {
    "duration": 61,
    "start_time": "2022-09-16T12:29:24.351Z"
   },
   {
    "duration": 4,
    "start_time": "2022-09-16T12:29:24.415Z"
   },
   {
    "duration": 19,
    "start_time": "2022-09-16T12:29:24.420Z"
   },
   {
    "duration": 10,
    "start_time": "2022-09-16T12:29:24.441Z"
   },
   {
    "duration": 27,
    "start_time": "2022-09-16T12:29:24.453Z"
   },
   {
    "duration": 10,
    "start_time": "2022-09-16T12:29:24.484Z"
   },
   {
    "duration": 67,
    "start_time": "2022-09-16T12:29:24.496Z"
   },
   {
    "duration": 15,
    "start_time": "2022-09-16T12:29:24.565Z"
   },
   {
    "duration": 12,
    "start_time": "2022-09-16T12:29:24.582Z"
   },
   {
    "duration": 27,
    "start_time": "2022-09-16T12:29:24.596Z"
   },
   {
    "duration": 45,
    "start_time": "2022-09-16T12:29:24.624Z"
   },
   {
    "duration": 40,
    "start_time": "2022-09-16T12:29:24.671Z"
   },
   {
    "duration": 4,
    "start_time": "2022-09-16T12:29:24.713Z"
   },
   {
    "duration": 37,
    "start_time": "2022-09-16T12:29:24.719Z"
   },
   {
    "duration": 14,
    "start_time": "2022-09-16T12:29:24.757Z"
   },
   {
    "duration": 5,
    "start_time": "2022-09-16T12:29:24.773Z"
   },
   {
    "duration": 16,
    "start_time": "2022-09-16T12:29:24.779Z"
   },
   {
    "duration": 35,
    "start_time": "2022-09-16T12:29:24.797Z"
   },
   {
    "duration": 33,
    "start_time": "2022-09-16T12:29:24.834Z"
   },
   {
    "duration": 45,
    "start_time": "2022-09-16T12:29:24.869Z"
   },
   {
    "duration": 34,
    "start_time": "2022-09-16T12:29:24.916Z"
   },
   {
    "duration": 52,
    "start_time": "2022-09-16T12:30:56.324Z"
   },
   {
    "duration": 61,
    "start_time": "2022-09-16T12:31:14.262Z"
   },
   {
    "duration": 31,
    "start_time": "2022-09-16T12:31:28.575Z"
   },
   {
    "duration": 47,
    "start_time": "2022-09-16T12:35:26.487Z"
   },
   {
    "duration": 38,
    "start_time": "2022-09-16T12:35:45.395Z"
   },
   {
    "duration": 32,
    "start_time": "2022-09-16T12:35:53.572Z"
   },
   {
    "duration": 35,
    "start_time": "2022-09-16T12:41:37.788Z"
   },
   {
    "duration": 35,
    "start_time": "2022-09-16T12:41:48.028Z"
   },
   {
    "duration": 1374,
    "start_time": "2022-09-16T12:42:07.195Z"
   },
   {
    "duration": 33,
    "start_time": "2022-09-16T12:42:15.160Z"
   },
   {
    "duration": 54,
    "start_time": "2022-09-16T12:42:24.718Z"
   },
   {
    "duration": 42,
    "start_time": "2022-09-16T12:42:34.658Z"
   },
   {
    "duration": 59,
    "start_time": "2022-09-16T12:43:07.181Z"
   },
   {
    "duration": 36,
    "start_time": "2022-09-16T12:43:29.294Z"
   },
   {
    "duration": 51,
    "start_time": "2022-09-16T12:45:49.251Z"
   },
   {
    "duration": 38,
    "start_time": "2022-09-16T12:53:44.718Z"
   },
   {
    "duration": 47,
    "start_time": "2022-09-16T12:59:48.902Z"
   },
   {
    "duration": 390,
    "start_time": "2022-09-16T13:00:09.704Z"
   },
   {
    "duration": 222,
    "start_time": "2022-09-16T13:00:23.560Z"
   },
   {
    "duration": 36,
    "start_time": "2022-09-16T13:02:39.187Z"
   },
   {
    "duration": 70,
    "start_time": "2022-09-16T13:03:35.416Z"
   },
   {
    "duration": 53,
    "start_time": "2022-09-16T13:03:54.579Z"
   },
   {
    "duration": 100,
    "start_time": "2022-09-16T13:04:22.991Z"
   },
   {
    "duration": 70,
    "start_time": "2022-09-16T13:04:40.777Z"
   },
   {
    "duration": 43,
    "start_time": "2022-09-16T13:04:46.438Z"
   },
   {
    "duration": 4,
    "start_time": "2022-09-16T13:06:22.907Z"
   },
   {
    "duration": 39,
    "start_time": "2022-09-16T13:06:32.241Z"
   },
   {
    "duration": 35,
    "start_time": "2022-09-16T13:07:23.593Z"
   },
   {
    "duration": 33,
    "start_time": "2022-09-16T13:07:51.523Z"
   },
   {
    "duration": 37,
    "start_time": "2022-09-16T13:08:16.786Z"
   },
   {
    "duration": 38,
    "start_time": "2022-09-16T13:08:25.796Z"
   },
   {
    "duration": 63,
    "start_time": "2022-09-16T13:16:01.590Z"
   },
   {
    "duration": 441,
    "start_time": "2022-09-16T13:16:19.983Z"
   },
   {
    "duration": 52,
    "start_time": "2022-09-16T13:16:32.811Z"
   },
   {
    "duration": 49,
    "start_time": "2022-09-16T13:16:46.417Z"
   },
   {
    "duration": 37,
    "start_time": "2022-09-16T13:17:24.663Z"
   },
   {
    "duration": 36,
    "start_time": "2022-09-16T13:18:21.942Z"
   },
   {
    "duration": 62,
    "start_time": "2022-09-16T13:18:32.217Z"
   },
   {
    "duration": 36,
    "start_time": "2022-09-16T13:18:41.107Z"
   },
   {
    "duration": 38,
    "start_time": "2022-09-16T13:19:20.180Z"
   },
   {
    "duration": 35,
    "start_time": "2022-09-16T13:21:27.043Z"
   },
   {
    "duration": 42,
    "start_time": "2022-09-16T13:22:52.178Z"
   },
   {
    "duration": 33,
    "start_time": "2022-09-16T13:23:07.159Z"
   },
   {
    "duration": 48,
    "start_time": "2022-09-16T13:25:34.470Z"
   },
   {
    "duration": 42,
    "start_time": "2022-09-16T13:25:41.536Z"
   },
   {
    "duration": 34,
    "start_time": "2022-09-16T13:27:14.193Z"
   },
   {
    "duration": 36,
    "start_time": "2022-09-16T13:54:55.890Z"
   },
   {
    "duration": 45,
    "start_time": "2022-09-16T13:55:04.589Z"
   },
   {
    "duration": 43,
    "start_time": "2022-09-16T13:55:17.251Z"
   },
   {
    "duration": 37,
    "start_time": "2022-09-16T13:55:35.125Z"
   },
   {
    "duration": 35,
    "start_time": "2022-09-16T13:55:42.696Z"
   },
   {
    "duration": 23,
    "start_time": "2022-09-16T14:36:34.220Z"
   },
   {
    "duration": 17,
    "start_time": "2022-09-16T14:36:39.968Z"
   },
   {
    "duration": 16,
    "start_time": "2022-09-16T14:36:42.399Z"
   },
   {
    "duration": 485,
    "start_time": "2022-09-16T14:45:48.706Z"
   },
   {
    "duration": 22,
    "start_time": "2022-09-16T14:45:49.193Z"
   },
   {
    "duration": 6911,
    "start_time": "2022-09-16T14:45:49.216Z"
   },
   {
    "duration": 0,
    "start_time": "2022-09-16T14:45:56.129Z"
   },
   {
    "duration": 0,
    "start_time": "2022-09-16T14:45:56.130Z"
   },
   {
    "duration": 0,
    "start_time": "2022-09-16T14:45:56.131Z"
   },
   {
    "duration": 0,
    "start_time": "2022-09-16T14:45:56.132Z"
   },
   {
    "duration": 0,
    "start_time": "2022-09-16T14:45:56.133Z"
   },
   {
    "duration": 0,
    "start_time": "2022-09-16T14:45:56.134Z"
   },
   {
    "duration": 0,
    "start_time": "2022-09-16T14:45:56.135Z"
   },
   {
    "duration": 0,
    "start_time": "2022-09-16T14:45:56.136Z"
   },
   {
    "duration": 0,
    "start_time": "2022-09-16T14:45:56.138Z"
   },
   {
    "duration": 0,
    "start_time": "2022-09-16T14:45:56.139Z"
   },
   {
    "duration": 0,
    "start_time": "2022-09-16T14:45:56.140Z"
   },
   {
    "duration": 0,
    "start_time": "2022-09-16T14:45:56.142Z"
   },
   {
    "duration": 0,
    "start_time": "2022-09-16T14:45:56.143Z"
   },
   {
    "duration": 0,
    "start_time": "2022-09-16T14:45:56.144Z"
   },
   {
    "duration": 0,
    "start_time": "2022-09-16T14:45:56.145Z"
   },
   {
    "duration": 0,
    "start_time": "2022-09-16T14:45:56.145Z"
   },
   {
    "duration": 1,
    "start_time": "2022-09-16T14:45:56.146Z"
   },
   {
    "duration": 0,
    "start_time": "2022-09-16T14:45:56.147Z"
   },
   {
    "duration": 0,
    "start_time": "2022-09-16T14:45:56.148Z"
   },
   {
    "duration": 0,
    "start_time": "2022-09-16T14:45:56.149Z"
   },
   {
    "duration": 0,
    "start_time": "2022-09-16T14:45:56.150Z"
   },
   {
    "duration": 0,
    "start_time": "2022-09-16T14:45:56.151Z"
   },
   {
    "duration": 16,
    "start_time": "2022-09-16T14:46:20.922Z"
   },
   {
    "duration": 490,
    "start_time": "2022-09-16T14:47:20.404Z"
   },
   {
    "duration": 20,
    "start_time": "2022-09-16T14:47:29.869Z"
   },
   {
    "duration": 65,
    "start_time": "2022-09-16T14:47:32.424Z"
   },
   {
    "duration": 20,
    "start_time": "2022-09-16T14:47:35.298Z"
   },
   {
    "duration": 92,
    "start_time": "2022-09-16T14:47:42.398Z"
   },
   {
    "duration": 14,
    "start_time": "2022-09-16T14:47:53.886Z"
   },
   {
    "duration": 22,
    "start_time": "2022-09-16T14:48:25.727Z"
   },
   {
    "duration": 14,
    "start_time": "2022-09-16T14:49:18.743Z"
   },
   {
    "duration": 5,
    "start_time": "2022-09-16T14:49:45.855Z"
   },
   {
    "duration": 4,
    "start_time": "2022-09-16T14:50:21.143Z"
   },
   {
    "duration": 6,
    "start_time": "2022-09-16T14:50:50.480Z"
   },
   {
    "duration": 4,
    "start_time": "2022-09-16T14:51:45.487Z"
   },
   {
    "duration": 8,
    "start_time": "2022-09-16T14:52:01.225Z"
   },
   {
    "duration": 14,
    "start_time": "2022-09-16T14:52:09.877Z"
   },
   {
    "duration": 16,
    "start_time": "2022-09-16T15:01:57.485Z"
   },
   {
    "duration": 24,
    "start_time": "2022-09-16T15:02:04.631Z"
   },
   {
    "duration": 19,
    "start_time": "2022-09-16T15:02:23.763Z"
   },
   {
    "duration": 7,
    "start_time": "2022-09-16T15:02:44.791Z"
   },
   {
    "duration": 4,
    "start_time": "2022-09-16T15:03:02.970Z"
   },
   {
    "duration": 5,
    "start_time": "2022-09-16T15:03:05.545Z"
   },
   {
    "duration": 13,
    "start_time": "2022-09-16T15:03:43.594Z"
   },
   {
    "duration": 424,
    "start_time": "2022-09-16T15:29:47.560Z"
   },
   {
    "duration": 23,
    "start_time": "2022-09-16T15:29:47.987Z"
   },
   {
    "duration": 16,
    "start_time": "2022-09-16T15:29:48.013Z"
   },
   {
    "duration": 9,
    "start_time": "2022-09-16T15:29:48.031Z"
   },
   {
    "duration": 36,
    "start_time": "2022-09-16T15:29:48.041Z"
   },
   {
    "duration": 3,
    "start_time": "2022-09-16T15:29:48.079Z"
   },
   {
    "duration": 28,
    "start_time": "2022-09-16T15:29:48.083Z"
   },
   {
    "duration": 4,
    "start_time": "2022-09-16T15:29:48.112Z"
   },
   {
    "duration": 9,
    "start_time": "2022-09-16T15:29:48.117Z"
   },
   {
    "duration": 6,
    "start_time": "2022-09-16T15:29:48.128Z"
   },
   {
    "duration": 41,
    "start_time": "2022-09-16T15:29:48.135Z"
   },
   {
    "duration": 32,
    "start_time": "2022-09-16T15:29:48.178Z"
   },
   {
    "duration": 3,
    "start_time": "2022-09-16T15:29:48.212Z"
   },
   {
    "duration": 13,
    "start_time": "2022-09-16T15:29:48.217Z"
   },
   {
    "duration": 25,
    "start_time": "2022-09-16T15:29:48.231Z"
   },
   {
    "duration": 16,
    "start_time": "2022-09-16T15:29:48.258Z"
   },
   {
    "duration": 3,
    "start_time": "2022-09-16T15:29:48.275Z"
   },
   {
    "duration": 35,
    "start_time": "2022-09-16T15:29:48.279Z"
   },
   {
    "duration": 5,
    "start_time": "2022-09-16T15:29:48.316Z"
   },
   {
    "duration": 3,
    "start_time": "2022-09-16T15:29:48.322Z"
   },
   {
    "duration": 11,
    "start_time": "2022-09-16T15:29:48.327Z"
   },
   {
    "duration": 404,
    "start_time": "2022-09-16T15:29:48.340Z"
   },
   {
    "duration": 34,
    "start_time": "2022-09-16T15:29:48.746Z"
   },
   {
    "duration": 46,
    "start_time": "2022-09-16T15:29:48.782Z"
   },
   {
    "duration": 32,
    "start_time": "2022-09-16T15:29:48.829Z"
   },
   {
    "duration": 422,
    "start_time": "2022-09-16T15:33:05.854Z"
   },
   {
    "duration": 37,
    "start_time": "2022-09-16T15:33:08.646Z"
   },
   {
    "duration": 17,
    "start_time": "2022-09-16T15:33:51.623Z"
   },
   {
    "duration": 5,
    "start_time": "2022-09-16T15:34:24.286Z"
   },
   {
    "duration": 461,
    "start_time": "2022-09-16T15:35:06.459Z"
   },
   {
    "duration": 20,
    "start_time": "2022-09-16T15:35:06.922Z"
   },
   {
    "duration": 14,
    "start_time": "2022-09-16T15:35:06.943Z"
   },
   {
    "duration": 8,
    "start_time": "2022-09-16T15:35:06.959Z"
   },
   {
    "duration": 46,
    "start_time": "2022-09-16T15:35:06.968Z"
   },
   {
    "duration": 8,
    "start_time": "2022-09-16T15:35:07.016Z"
   },
   {
    "duration": 10,
    "start_time": "2022-09-16T15:35:07.026Z"
   },
   {
    "duration": 4,
    "start_time": "2022-09-16T15:35:07.037Z"
   },
   {
    "duration": 8,
    "start_time": "2022-09-16T15:35:07.042Z"
   },
   {
    "duration": 3,
    "start_time": "2022-09-16T15:35:07.053Z"
   },
   {
    "duration": 51,
    "start_time": "2022-09-16T15:35:07.058Z"
   },
   {
    "duration": 11,
    "start_time": "2022-09-16T15:35:07.110Z"
   },
   {
    "duration": 9,
    "start_time": "2022-09-16T15:35:07.123Z"
   },
   {
    "duration": 12,
    "start_time": "2022-09-16T15:35:07.133Z"
   },
   {
    "duration": 17,
    "start_time": "2022-09-16T15:35:07.147Z"
   },
   {
    "duration": 16,
    "start_time": "2022-09-16T15:35:07.165Z"
   },
   {
    "duration": 5,
    "start_time": "2022-09-16T15:35:07.182Z"
   },
   {
    "duration": 17,
    "start_time": "2022-09-16T15:35:07.209Z"
   },
   {
    "duration": 13,
    "start_time": "2022-09-16T15:35:07.227Z"
   },
   {
    "duration": 4,
    "start_time": "2022-09-16T15:35:07.241Z"
   },
   {
    "duration": 21,
    "start_time": "2022-09-16T15:35:07.247Z"
   },
   {
    "duration": 317,
    "start_time": "2022-09-16T15:35:07.270Z"
   },
   {
    "duration": 42,
    "start_time": "2022-09-16T15:35:07.589Z"
   },
   {
    "duration": 33,
    "start_time": "2022-09-16T15:35:07.633Z"
   },
   {
    "duration": 52,
    "start_time": "2022-09-16T15:35:07.668Z"
   },
   {
    "duration": 549,
    "start_time": "2022-09-17T06:58:39.388Z"
   },
   {
    "duration": 24,
    "start_time": "2022-09-17T06:58:39.940Z"
   },
   {
    "duration": 17,
    "start_time": "2022-09-17T06:58:39.965Z"
   },
   {
    "duration": 11,
    "start_time": "2022-09-17T06:58:39.984Z"
   },
   {
    "duration": 38,
    "start_time": "2022-09-17T06:58:39.997Z"
   },
   {
    "duration": 4,
    "start_time": "2022-09-17T06:58:40.037Z"
   },
   {
    "duration": 14,
    "start_time": "2022-09-17T06:58:40.042Z"
   },
   {
    "duration": 5,
    "start_time": "2022-09-17T06:58:40.058Z"
   },
   {
    "duration": 30,
    "start_time": "2022-09-17T06:58:40.064Z"
   },
   {
    "duration": 6,
    "start_time": "2022-09-17T06:58:40.096Z"
   },
   {
    "duration": 39,
    "start_time": "2022-09-17T06:58:40.104Z"
   },
   {
    "duration": 12,
    "start_time": "2022-09-17T06:58:40.145Z"
   },
   {
    "duration": 6,
    "start_time": "2022-09-17T06:58:40.159Z"
   },
   {
    "duration": 13,
    "start_time": "2022-09-17T06:58:40.191Z"
   },
   {
    "duration": 21,
    "start_time": "2022-09-17T06:58:40.206Z"
   },
   {
    "duration": 18,
    "start_time": "2022-09-17T06:58:40.229Z"
   },
   {
    "duration": 3,
    "start_time": "2022-09-17T06:58:40.249Z"
   },
   {
    "duration": 39,
    "start_time": "2022-09-17T06:58:40.254Z"
   },
   {
    "duration": 17,
    "start_time": "2022-09-17T06:58:40.295Z"
   },
   {
    "duration": 13,
    "start_time": "2022-09-17T06:58:40.314Z"
   },
   {
    "duration": 32,
    "start_time": "2022-09-17T06:58:40.329Z"
   },
   {
    "duration": 501,
    "start_time": "2022-09-17T06:58:40.362Z"
   },
   {
    "duration": 52,
    "start_time": "2022-09-17T06:58:40.865Z"
   },
   {
    "duration": 36,
    "start_time": "2022-09-17T06:58:40.918Z"
   },
   {
    "duration": 51,
    "start_time": "2022-09-17T06:58:40.955Z"
   },
   {
    "duration": 53,
    "start_time": "2022-09-17T11:24:07.545Z"
   },
   {
    "duration": 744,
    "start_time": "2022-09-17T11:24:16.532Z"
   },
   {
    "duration": 23,
    "start_time": "2022-09-17T11:24:17.278Z"
   },
   {
    "duration": 21,
    "start_time": "2022-09-17T11:24:17.302Z"
   },
   {
    "duration": 27,
    "start_time": "2022-09-17T11:24:17.325Z"
   },
   {
    "duration": 33,
    "start_time": "2022-09-17T11:24:17.354Z"
   },
   {
    "duration": 4,
    "start_time": "2022-09-17T11:24:17.388Z"
   },
   {
    "duration": 10,
    "start_time": "2022-09-17T11:24:17.394Z"
   },
   {
    "duration": 9,
    "start_time": "2022-09-17T11:24:17.406Z"
   },
   {
    "duration": 26,
    "start_time": "2022-09-17T11:24:17.422Z"
   },
   {
    "duration": 10,
    "start_time": "2022-09-17T11:24:17.450Z"
   },
   {
    "duration": 36,
    "start_time": "2022-09-17T11:24:17.461Z"
   },
   {
    "duration": 8,
    "start_time": "2022-09-17T11:24:17.499Z"
   },
   {
    "duration": 28,
    "start_time": "2022-09-17T11:24:17.512Z"
   },
   {
    "duration": 11,
    "start_time": "2022-09-17T11:24:17.543Z"
   },
   {
    "duration": 23,
    "start_time": "2022-09-17T11:24:17.555Z"
   },
   {
    "duration": 15,
    "start_time": "2022-09-17T11:24:17.580Z"
   },
   {
    "duration": 3,
    "start_time": "2022-09-17T11:24:17.597Z"
   },
   {
    "duration": 14,
    "start_time": "2022-09-17T11:24:17.601Z"
   },
   {
    "duration": 28,
    "start_time": "2022-09-17T11:24:17.617Z"
   },
   {
    "duration": 3,
    "start_time": "2022-09-17T11:24:17.647Z"
   },
   {
    "duration": 11,
    "start_time": "2022-09-17T11:24:17.651Z"
   },
   {
    "duration": 506,
    "start_time": "2022-09-17T11:24:17.663Z"
   },
   {
    "duration": 39,
    "start_time": "2022-09-17T11:24:18.170Z"
   },
   {
    "duration": 43,
    "start_time": "2022-09-17T11:24:18.211Z"
   },
   {
    "duration": 35,
    "start_time": "2022-09-17T11:24:18.256Z"
   },
   {
    "duration": 46,
    "start_time": "2022-09-17T16:21:29.398Z"
   },
   {
    "duration": 709,
    "start_time": "2022-09-17T16:23:18.372Z"
   },
   {
    "duration": 22,
    "start_time": "2022-09-17T16:23:19.082Z"
   },
   {
    "duration": 13,
    "start_time": "2022-09-17T16:23:19.105Z"
   },
   {
    "duration": 9,
    "start_time": "2022-09-17T16:23:19.120Z"
   },
   {
    "duration": 47,
    "start_time": "2022-09-17T16:23:19.130Z"
   },
   {
    "duration": 4,
    "start_time": "2022-09-17T16:23:19.178Z"
   },
   {
    "duration": 11,
    "start_time": "2022-09-17T16:23:19.183Z"
   },
   {
    "duration": 4,
    "start_time": "2022-09-17T16:23:19.196Z"
   },
   {
    "duration": 9,
    "start_time": "2022-09-17T16:23:19.201Z"
   },
   {
    "duration": 4,
    "start_time": "2022-09-17T16:23:19.212Z"
   },
   {
    "duration": 63,
    "start_time": "2022-09-17T16:23:19.218Z"
   },
   {
    "duration": 9,
    "start_time": "2022-09-17T16:23:19.282Z"
   },
   {
    "duration": 3,
    "start_time": "2022-09-17T16:23:19.293Z"
   },
   {
    "duration": 13,
    "start_time": "2022-09-17T16:23:19.297Z"
   },
   {
    "duration": 19,
    "start_time": "2022-09-17T16:23:19.312Z"
   },
   {
    "duration": 17,
    "start_time": "2022-09-17T16:23:19.332Z"
   },
   {
    "duration": 4,
    "start_time": "2022-09-17T16:23:19.376Z"
   },
   {
    "duration": 12,
    "start_time": "2022-09-17T16:23:19.382Z"
   },
   {
    "duration": 7,
    "start_time": "2022-09-17T16:23:19.395Z"
   },
   {
    "duration": 3,
    "start_time": "2022-09-17T16:23:19.404Z"
   },
   {
    "duration": 13,
    "start_time": "2022-09-17T16:23:19.409Z"
   },
   {
    "duration": 61,
    "start_time": "2022-09-17T16:23:19.424Z"
   },
   {
    "duration": 436,
    "start_time": "2022-09-17T16:23:19.486Z"
   },
   {
    "duration": 56,
    "start_time": "2022-09-17T16:23:19.925Z"
   },
   {
    "duration": 39,
    "start_time": "2022-09-17T16:23:19.982Z"
   },
   {
    "duration": 39,
    "start_time": "2022-09-17T16:23:20.022Z"
   },
   {
    "duration": 35,
    "start_time": "2022-09-17T16:25:15.175Z"
   },
   {
    "duration": 69,
    "start_time": "2022-09-17T16:25:59.239Z"
   },
   {
    "duration": 476,
    "start_time": "2022-09-17T16:26:14.098Z"
   },
   {
    "duration": 27,
    "start_time": "2022-09-17T16:26:14.576Z"
   },
   {
    "duration": 15,
    "start_time": "2022-09-17T16:26:14.605Z"
   },
   {
    "duration": 10,
    "start_time": "2022-09-17T16:26:14.622Z"
   },
   {
    "duration": 62,
    "start_time": "2022-09-17T16:26:14.634Z"
   },
   {
    "duration": 4,
    "start_time": "2022-09-17T16:26:14.698Z"
   },
   {
    "duration": 12,
    "start_time": "2022-09-17T16:26:14.703Z"
   },
   {
    "duration": 5,
    "start_time": "2022-09-17T16:26:14.717Z"
   },
   {
    "duration": 11,
    "start_time": "2022-09-17T16:26:14.724Z"
   },
   {
    "duration": 5,
    "start_time": "2022-09-17T16:26:14.736Z"
   },
   {
    "duration": 57,
    "start_time": "2022-09-17T16:26:14.742Z"
   },
   {
    "duration": 9,
    "start_time": "2022-09-17T16:26:14.800Z"
   },
   {
    "duration": 7,
    "start_time": "2022-09-17T16:26:14.810Z"
   },
   {
    "duration": 11,
    "start_time": "2022-09-17T16:26:14.819Z"
   },
   {
    "duration": 24,
    "start_time": "2022-09-17T16:26:14.831Z"
   },
   {
    "duration": 30,
    "start_time": "2022-09-17T16:26:14.856Z"
   },
   {
    "duration": 4,
    "start_time": "2022-09-17T16:26:14.887Z"
   },
   {
    "duration": 14,
    "start_time": "2022-09-17T16:26:14.893Z"
   },
   {
    "duration": 6,
    "start_time": "2022-09-17T16:26:14.908Z"
   },
   {
    "duration": 7,
    "start_time": "2022-09-17T16:26:14.916Z"
   },
   {
    "duration": 13,
    "start_time": "2022-09-17T16:26:14.924Z"
   },
   {
    "duration": 307,
    "start_time": "2022-09-17T16:26:14.938Z"
   },
   {
    "duration": 96,
    "start_time": "2022-09-17T16:26:15.247Z"
   },
   {
    "duration": 0,
    "start_time": "2022-09-17T16:26:15.345Z"
   },
   {
    "duration": 0,
    "start_time": "2022-09-17T16:26:15.347Z"
   },
   {
    "duration": 0,
    "start_time": "2022-09-17T16:26:15.349Z"
   },
   {
    "duration": 41,
    "start_time": "2022-09-17T16:28:27.564Z"
   },
   {
    "duration": 40,
    "start_time": "2022-09-17T16:29:14.350Z"
   },
   {
    "duration": 39,
    "start_time": "2022-09-17T16:35:16.854Z"
   },
   {
    "duration": 45,
    "start_time": "2022-09-17T16:37:56.609Z"
   },
   {
    "duration": 441,
    "start_time": "2022-09-17T16:57:00.807Z"
   },
   {
    "duration": 20,
    "start_time": "2022-09-17T16:57:01.250Z"
   },
   {
    "duration": 24,
    "start_time": "2022-09-17T16:57:01.272Z"
   },
   {
    "duration": 19,
    "start_time": "2022-09-17T16:57:01.298Z"
   },
   {
    "duration": 72,
    "start_time": "2022-09-17T16:57:01.318Z"
   },
   {
    "duration": 3,
    "start_time": "2022-09-17T16:57:01.392Z"
   },
   {
    "duration": 31,
    "start_time": "2022-09-17T16:57:01.397Z"
   },
   {
    "duration": 18,
    "start_time": "2022-09-17T16:57:01.429Z"
   },
   {
    "duration": 32,
    "start_time": "2022-09-17T16:57:01.449Z"
   },
   {
    "duration": 30,
    "start_time": "2022-09-17T16:57:01.483Z"
   },
   {
    "duration": 58,
    "start_time": "2022-09-17T16:57:01.515Z"
   },
   {
    "duration": 15,
    "start_time": "2022-09-17T16:57:01.574Z"
   },
   {
    "duration": 18,
    "start_time": "2022-09-17T16:57:01.590Z"
   },
   {
    "duration": 26,
    "start_time": "2022-09-17T16:57:01.609Z"
   },
   {
    "duration": 31,
    "start_time": "2022-09-17T16:57:01.637Z"
   },
   {
    "duration": 23,
    "start_time": "2022-09-17T16:57:01.669Z"
   },
   {
    "duration": 34,
    "start_time": "2022-09-17T16:57:01.694Z"
   },
   {
    "duration": 38,
    "start_time": "2022-09-17T16:57:01.730Z"
   },
   {
    "duration": 13,
    "start_time": "2022-09-17T16:57:01.769Z"
   },
   {
    "duration": 10,
    "start_time": "2022-09-17T16:57:01.783Z"
   },
   {
    "duration": 12,
    "start_time": "2022-09-17T16:57:01.795Z"
   },
   {
    "duration": 274,
    "start_time": "2022-09-17T16:57:01.808Z"
   },
   {
    "duration": 40,
    "start_time": "2022-09-17T16:57:02.084Z"
   },
   {
    "duration": 52,
    "start_time": "2022-09-17T16:57:02.126Z"
   },
   {
    "duration": 36,
    "start_time": "2022-09-17T16:57:02.181Z"
   },
   {
    "duration": 437,
    "start_time": "2022-09-17T18:10:59.937Z"
   },
   {
    "duration": 30,
    "start_time": "2022-09-17T18:11:00.376Z"
   },
   {
    "duration": 21,
    "start_time": "2022-09-17T18:11:00.408Z"
   },
   {
    "duration": 17,
    "start_time": "2022-09-17T18:11:00.431Z"
   },
   {
    "duration": 41,
    "start_time": "2022-09-17T18:11:00.449Z"
   },
   {
    "duration": 4,
    "start_time": "2022-09-17T18:11:00.492Z"
   },
   {
    "duration": 23,
    "start_time": "2022-09-17T18:11:00.497Z"
   },
   {
    "duration": 14,
    "start_time": "2022-09-17T18:11:00.522Z"
   },
   {
    "duration": 24,
    "start_time": "2022-09-17T18:11:00.538Z"
   },
   {
    "duration": 27,
    "start_time": "2022-09-17T18:11:00.565Z"
   },
   {
    "duration": 46,
    "start_time": "2022-09-17T18:11:00.593Z"
   },
   {
    "duration": 9,
    "start_time": "2022-09-17T18:11:00.640Z"
   },
   {
    "duration": 4,
    "start_time": "2022-09-17T18:11:00.650Z"
   },
   {
    "duration": 13,
    "start_time": "2022-09-17T18:11:00.656Z"
   },
   {
    "duration": 33,
    "start_time": "2022-09-17T18:11:00.671Z"
   },
   {
    "duration": 17,
    "start_time": "2022-09-17T18:11:00.705Z"
   },
   {
    "duration": 4,
    "start_time": "2022-09-17T18:11:00.724Z"
   },
   {
    "duration": 28,
    "start_time": "2022-09-17T18:11:00.730Z"
   },
   {
    "duration": 10,
    "start_time": "2022-09-17T18:11:00.760Z"
   },
   {
    "duration": 14,
    "start_time": "2022-09-17T18:11:00.771Z"
   },
   {
    "duration": 20,
    "start_time": "2022-09-17T18:11:00.786Z"
   },
   {
    "duration": 331,
    "start_time": "2022-09-17T18:11:00.808Z"
   },
   {
    "duration": 53,
    "start_time": "2022-09-17T18:11:01.140Z"
   },
   {
    "duration": 39,
    "start_time": "2022-09-17T18:11:01.196Z"
   },
   {
    "duration": 58,
    "start_time": "2022-09-17T18:11:01.237Z"
   },
   {
    "duration": 462,
    "start_time": "2022-09-17T19:24:46.960Z"
   },
   {
    "duration": 21,
    "start_time": "2022-09-17T19:24:47.423Z"
   },
   {
    "duration": 15,
    "start_time": "2022-09-17T19:24:47.445Z"
   },
   {
    "duration": 21,
    "start_time": "2022-09-17T19:24:47.462Z"
   },
   {
    "duration": 32,
    "start_time": "2022-09-17T19:24:47.484Z"
   },
   {
    "duration": 4,
    "start_time": "2022-09-17T19:24:47.517Z"
   },
   {
    "duration": 9,
    "start_time": "2022-09-17T19:24:47.523Z"
   },
   {
    "duration": 7,
    "start_time": "2022-09-17T19:24:47.534Z"
   },
   {
    "duration": 19,
    "start_time": "2022-09-17T19:24:47.542Z"
   },
   {
    "duration": 4,
    "start_time": "2022-09-17T19:24:47.577Z"
   },
   {
    "duration": 36,
    "start_time": "2022-09-17T19:24:47.583Z"
   },
   {
    "duration": 9,
    "start_time": "2022-09-17T19:24:47.620Z"
   },
   {
    "duration": 7,
    "start_time": "2022-09-17T19:24:47.630Z"
   },
   {
    "duration": 15,
    "start_time": "2022-09-17T19:24:47.639Z"
   },
   {
    "duration": 33,
    "start_time": "2022-09-17T19:24:47.656Z"
   },
   {
    "duration": 16,
    "start_time": "2022-09-17T19:24:47.690Z"
   },
   {
    "duration": 3,
    "start_time": "2022-09-17T19:24:47.707Z"
   },
   {
    "duration": 14,
    "start_time": "2022-09-17T19:24:47.712Z"
   },
   {
    "duration": 8,
    "start_time": "2022-09-17T19:24:47.727Z"
   },
   {
    "duration": 4,
    "start_time": "2022-09-17T19:24:47.737Z"
   },
   {
    "duration": 10,
    "start_time": "2022-09-17T19:24:47.742Z"
   },
   {
    "duration": 283,
    "start_time": "2022-09-17T19:24:47.754Z"
   },
   {
    "duration": 36,
    "start_time": "2022-09-17T19:24:48.038Z"
   },
   {
    "duration": 32,
    "start_time": "2022-09-17T19:24:48.077Z"
   },
   {
    "duration": 34,
    "start_time": "2022-09-17T19:24:48.110Z"
   }
  ],
  "colab": {
   "name": "dpp_template_part2.ipynb",
   "provenance": []
  },
  "kernelspec": {
   "display_name": "Python 3 (ipykernel)",
   "language": "python",
   "name": "python3"
  },
  "language_info": {
   "codemirror_mode": {
    "name": "ipython",
    "version": 3
   },
   "file_extension": ".py",
   "mimetype": "text/x-python",
   "name": "python",
   "nbconvert_exporter": "python",
   "pygments_lexer": "ipython3",
   "version": "3.9.12"
  },
  "toc": {
   "base_numbering": 1,
   "nav_menu": {},
   "number_sections": true,
   "sideBar": true,
   "skip_h1_title": true,
   "title_cell": "Table of Contents",
   "title_sidebar": "Contents",
   "toc_cell": false,
   "toc_position": {
    "height": "calc(100% - 180px)",
    "left": "10px",
    "top": "150px",
    "width": "247.556px"
   },
   "toc_section_display": true,
   "toc_window_display": true
  }
 },
 "nbformat": 4,
 "nbformat_minor": 5
}
