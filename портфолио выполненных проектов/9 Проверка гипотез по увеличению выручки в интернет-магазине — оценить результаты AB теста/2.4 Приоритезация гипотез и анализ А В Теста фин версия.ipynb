{
 "cells": [
  {
   "cell_type": "markdown",
   "metadata": {},
   "source": [
    "# Приоритизация гипотез и Анализ A/B-теста для увеличения выручки крупного интернет-магазина\n",
    "\n",
    "**Контекст**  \n",
    "Вы — аналитик крупного интернет-магазина. Вместе с отделом маркетинга вы подготовили список гипотез для увеличения выручки.\n",
    "Приоритизируйте гипотезы, запустите A/B-тест и проанализируйте результаты."
   ]
  },
  {
   "cell_type": "markdown",
   "metadata": {},
   "source": [
    "## Приоритизация гипотез.\n",
    "\n",
    "9 гипотез по увеличению выручки интернет-магазина с указанными параметрами Reach, Impact, Confidence, Effort.  \n",
    "**Задача**  \n",
    "- Примените фреймворк ICE для приоритизации гипотез. Отсортируйте их по убыванию приоритета.  \n",
    "- Примените фреймворк RICE для приоритизации гипотез. Отсортируйте их по убыванию приоритета.  \n",
    "- Укажите, как изменилась приоритизация гипотез при применении RICE вместо ICE. Объясните, почему так произошло.  \n",
    "\n",
    "**Описание данных**\n",
    "\n",
    "Hypothesis — краткое описание гипотезы;  \n",
    "Reach — охват пользователей по 10-балльной шкале;  \n",
    "Impact — влияние на пользователей по 10-балльной шкале;  \n",
    "Confidence — уверенность в гипотезе по 10-балльной шкале;  \n",
    "Efforts — затраты ресурсов на проверку гипотезы по 10-балльной шкале. Чем больше значение Efforts, тем дороже проверка гипотезы.  "
   ]
  },
  {
   "cell_type": "code",
   "execution_count": 1,
   "metadata": {},
   "outputs": [],
   "source": [
    "# блок загрузки необходимых библиотек\n",
    "\n",
    "import pandas as pd\n",
    "import scipy.stats as stats\n",
    "import matplotlib.pyplot as plt\n",
    "import datetime as dt\n",
    "import numpy as np\n",
    "from scipy import stats as st\n",
    "import math as mth"
   ]
  },
  {
   "cell_type": "code",
   "execution_count": 2,
   "metadata": {},
   "outputs": [],
   "source": [
    "try:\n",
    "    hypothesis = pd.read_csv('/datasets/hypothesis.csv', sep=',')\n",
    "except:\n",
    "    hypothesis = pd.read_csv(r'C:\\Users\\Дом\\Desktop\\dataset\\hypothesis.csv', sep=',')"
   ]
  },
  {
   "cell_type": "code",
   "execution_count": 3,
   "metadata": {},
   "outputs": [],
   "source": [
    "pd.options.display.max_colwidth = 120"
   ]
  },
  {
   "cell_type": "code",
   "execution_count": 4,
   "metadata": {},
   "outputs": [
    {
     "data": {
      "text/html": [
       "<div>\n",
       "<style scoped>\n",
       "    .dataframe tbody tr th:only-of-type {\n",
       "        vertical-align: middle;\n",
       "    }\n",
       "\n",
       "    .dataframe tbody tr th {\n",
       "        vertical-align: top;\n",
       "    }\n",
       "\n",
       "    .dataframe thead th {\n",
       "        text-align: right;\n",
       "    }\n",
       "</style>\n",
       "<table border=\"1\" class=\"dataframe\">\n",
       "  <thead>\n",
       "    <tr style=\"text-align: right;\">\n",
       "      <th></th>\n",
       "      <th>hypothesis</th>\n",
       "      <th>reach</th>\n",
       "      <th>impact</th>\n",
       "      <th>confidence</th>\n",
       "      <th>efforts</th>\n",
       "    </tr>\n",
       "  </thead>\n",
       "  <tbody>\n",
       "    <tr>\n",
       "      <th>0</th>\n",
       "      <td>Добавить два новых канала привлечения трафика, что позволит привлекать на 30% больше пользователей</td>\n",
       "      <td>3</td>\n",
       "      <td>10</td>\n",
       "      <td>8</td>\n",
       "      <td>6</td>\n",
       "    </tr>\n",
       "    <tr>\n",
       "      <th>1</th>\n",
       "      <td>Запустить собственную службу доставки, что сократит срок доставки заказов</td>\n",
       "      <td>2</td>\n",
       "      <td>5</td>\n",
       "      <td>4</td>\n",
       "      <td>10</td>\n",
       "    </tr>\n",
       "    <tr>\n",
       "      <th>2</th>\n",
       "      <td>Добавить блоки рекомендаций товаров на сайт интернет магазина, чтобы повысить конверсию и средний чек заказа</td>\n",
       "      <td>8</td>\n",
       "      <td>3</td>\n",
       "      <td>7</td>\n",
       "      <td>3</td>\n",
       "    </tr>\n",
       "    <tr>\n",
       "      <th>3</th>\n",
       "      <td>Изменить структура категорий, что увеличит конверсию, т.к. пользователи быстрее найдут нужный товар</td>\n",
       "      <td>8</td>\n",
       "      <td>3</td>\n",
       "      <td>3</td>\n",
       "      <td>8</td>\n",
       "    </tr>\n",
       "    <tr>\n",
       "      <th>4</th>\n",
       "      <td>Изменить цвет фона главной страницы, чтобы увеличить вовлеченность пользователей</td>\n",
       "      <td>3</td>\n",
       "      <td>1</td>\n",
       "      <td>1</td>\n",
       "      <td>1</td>\n",
       "    </tr>\n",
       "    <tr>\n",
       "      <th>5</th>\n",
       "      <td>Добавить страницу отзывов клиентов о магазине, что позволит увеличить количество заказов</td>\n",
       "      <td>3</td>\n",
       "      <td>2</td>\n",
       "      <td>2</td>\n",
       "      <td>3</td>\n",
       "    </tr>\n",
       "    <tr>\n",
       "      <th>6</th>\n",
       "      <td>Показать на главной странице баннеры с актуальными акциями и распродажами, чтобы увеличить конверсию</td>\n",
       "      <td>5</td>\n",
       "      <td>3</td>\n",
       "      <td>8</td>\n",
       "      <td>3</td>\n",
       "    </tr>\n",
       "    <tr>\n",
       "      <th>7</th>\n",
       "      <td>Добавить форму подписки на все основные страницы, чтобы собрать базу клиентов для email-рассылок</td>\n",
       "      <td>10</td>\n",
       "      <td>7</td>\n",
       "      <td>8</td>\n",
       "      <td>5</td>\n",
       "    </tr>\n",
       "    <tr>\n",
       "      <th>8</th>\n",
       "      <td>Запустить акцию, дающую скидку на товар в день рождения</td>\n",
       "      <td>1</td>\n",
       "      <td>9</td>\n",
       "      <td>9</td>\n",
       "      <td>5</td>\n",
       "    </tr>\n",
       "  </tbody>\n",
       "</table>\n",
       "</div>"
      ],
      "text/plain": [
       "                                                                                                     hypothesis  \\\n",
       "0            Добавить два новых канала привлечения трафика, что позволит привлекать на 30% больше пользователей   \n",
       "1                                     Запустить собственную службу доставки, что сократит срок доставки заказов   \n",
       "2  Добавить блоки рекомендаций товаров на сайт интернет магазина, чтобы повысить конверсию и средний чек заказа   \n",
       "3           Изменить структура категорий, что увеличит конверсию, т.к. пользователи быстрее найдут нужный товар   \n",
       "4                              Изменить цвет фона главной страницы, чтобы увеличить вовлеченность пользователей   \n",
       "5                      Добавить страницу отзывов клиентов о магазине, что позволит увеличить количество заказов   \n",
       "6          Показать на главной странице баннеры с актуальными акциями и распродажами, чтобы увеличить конверсию   \n",
       "7              Добавить форму подписки на все основные страницы, чтобы собрать базу клиентов для email-рассылок   \n",
       "8                                                       Запустить акцию, дающую скидку на товар в день рождения   \n",
       "\n",
       "   reach  impact  confidence  efforts  \n",
       "0      3      10           8        6  \n",
       "1      2       5           4       10  \n",
       "2      8       3           7        3  \n",
       "3      8       3           3        8  \n",
       "4      3       1           1        1  \n",
       "5      3       2           2        3  \n",
       "6      5       3           8        3  \n",
       "7     10       7           8        5  \n",
       "8      1       9           9        5  "
      ]
     },
     "execution_count": 4,
     "metadata": {},
     "output_type": "execute_result"
    }
   ],
   "source": [
    "hypothesis.columns = hypothesis.columns.str.lower()\n",
    "hypothesis"
   ]
  },
  {
   "cell_type": "markdown",
   "metadata": {},
   "source": [
    "### **Примените фреймворк ICE для приоритизации гипотез. Отсортируйте их по убыванию приоритета.**"
   ]
  },
  {
   "cell_type": "code",
   "execution_count": 43,
   "metadata": {},
   "outputs": [
    {
     "data": {
      "text/html": [
       "<div>\n",
       "<style scoped>\n",
       "    .dataframe tbody tr th:only-of-type {\n",
       "        vertical-align: middle;\n",
       "    }\n",
       "\n",
       "    .dataframe tbody tr th {\n",
       "        vertical-align: top;\n",
       "    }\n",
       "\n",
       "    .dataframe thead th {\n",
       "        text-align: right;\n",
       "    }\n",
       "</style>\n",
       "<table border=\"1\" class=\"dataframe\">\n",
       "  <thead>\n",
       "    <tr style=\"text-align: right;\">\n",
       "      <th></th>\n",
       "      <th>hypothesis</th>\n",
       "      <th>ICE</th>\n",
       "    </tr>\n",
       "  </thead>\n",
       "  <tbody>\n",
       "    <tr>\n",
       "      <th>8</th>\n",
       "      <td>Запустить акцию, дающую скидку на товар в день рождения</td>\n",
       "      <td>16</td>\n",
       "    </tr>\n",
       "    <tr>\n",
       "      <th>0</th>\n",
       "      <td>Добавить два новых канала привлечения трафика, что позволит привлекать на 30% больше пользователей</td>\n",
       "      <td>13</td>\n",
       "    </tr>\n",
       "    <tr>\n",
       "      <th>7</th>\n",
       "      <td>Добавить форму подписки на все основные страницы, чтобы собрать базу клиентов для email-рассылок</td>\n",
       "      <td>11</td>\n",
       "    </tr>\n",
       "    <tr>\n",
       "      <th>6</th>\n",
       "      <td>Показать на главной странице баннеры с актуальными акциями и распродажами, чтобы увеличить конверсию</td>\n",
       "      <td>8</td>\n",
       "    </tr>\n",
       "    <tr>\n",
       "      <th>2</th>\n",
       "      <td>Добавить блоки рекомендаций товаров на сайт интернет магазина, чтобы повысить конверсию и средний чек заказа</td>\n",
       "      <td>7</td>\n",
       "    </tr>\n",
       "    <tr>\n",
       "      <th>1</th>\n",
       "      <td>Запустить собственную службу доставки, что сократит срок доставки заказов</td>\n",
       "      <td>2</td>\n",
       "    </tr>\n",
       "    <tr>\n",
       "      <th>3</th>\n",
       "      <td>Изменить структура категорий, что увеличит конверсию, т.к. пользователи быстрее найдут нужный товар</td>\n",
       "      <td>1</td>\n",
       "    </tr>\n",
       "    <tr>\n",
       "      <th>4</th>\n",
       "      <td>Изменить цвет фона главной страницы, чтобы увеличить вовлеченность пользователей</td>\n",
       "      <td>1</td>\n",
       "    </tr>\n",
       "    <tr>\n",
       "      <th>5</th>\n",
       "      <td>Добавить страницу отзывов клиентов о магазине, что позволит увеличить количество заказов</td>\n",
       "      <td>1</td>\n",
       "    </tr>\n",
       "  </tbody>\n",
       "</table>\n",
       "</div>"
      ],
      "text/plain": [
       "                                                                                                     hypothesis  \\\n",
       "8                                                       Запустить акцию, дающую скидку на товар в день рождения   \n",
       "0            Добавить два новых канала привлечения трафика, что позволит привлекать на 30% больше пользователей   \n",
       "7              Добавить форму подписки на все основные страницы, чтобы собрать базу клиентов для email-рассылок   \n",
       "6          Показать на главной странице баннеры с актуальными акциями и распродажами, чтобы увеличить конверсию   \n",
       "2  Добавить блоки рекомендаций товаров на сайт интернет магазина, чтобы повысить конверсию и средний чек заказа   \n",
       "1                                     Запустить собственную службу доставки, что сократит срок доставки заказов   \n",
       "3           Изменить структура категорий, что увеличит конверсию, т.к. пользователи быстрее найдут нужный товар   \n",
       "4                              Изменить цвет фона главной страницы, чтобы увеличить вовлеченность пользователей   \n",
       "5                      Добавить страницу отзывов клиентов о магазине, что позволит увеличить количество заказов   \n",
       "\n",
       "   ICE  \n",
       "8   16  \n",
       "0   13  \n",
       "7   11  \n",
       "6    8  \n",
       "2    7  \n",
       "1    2  \n",
       "3    1  \n",
       "4    1  \n",
       "5    1  "
      ]
     },
     "execution_count": 43,
     "metadata": {},
     "output_type": "execute_result"
    }
   ],
   "source": [
    "hypothesis['ICE'] = (hypothesis['impact'] * hypothesis['confidence']) / hypothesis['efforts']\n",
    "hypothesis['ICE'] = hypothesis['ICE'].astype(int)\n",
    "\n",
    "hypothesis[['hypothesis', 'ICE']].sort_values('ICE', ascending=False)"
   ]
  },
  {
   "cell_type": "markdown",
   "metadata": {},
   "source": [
    "Наиболее перспективные гипотезы по ICE 8, 0, 7"
   ]
  },
  {
   "cell_type": "markdown",
   "metadata": {},
   "source": [
    "### **Примените фреймворк RICE для приоритизации гипотез. Отсортируйте их по убыванию приоритета.**"
   ]
  },
  {
   "cell_type": "code",
   "execution_count": 6,
   "metadata": {},
   "outputs": [
    {
     "data": {
      "text/html": [
       "<div>\n",
       "<style scoped>\n",
       "    .dataframe tbody tr th:only-of-type {\n",
       "        vertical-align: middle;\n",
       "    }\n",
       "\n",
       "    .dataframe tbody tr th {\n",
       "        vertical-align: top;\n",
       "    }\n",
       "\n",
       "    .dataframe thead th {\n",
       "        text-align: right;\n",
       "    }\n",
       "</style>\n",
       "<table border=\"1\" class=\"dataframe\">\n",
       "  <thead>\n",
       "    <tr style=\"text-align: right;\">\n",
       "      <th></th>\n",
       "      <th>hypothesis</th>\n",
       "      <th>RICE</th>\n",
       "    </tr>\n",
       "  </thead>\n",
       "  <tbody>\n",
       "    <tr>\n",
       "      <th>7</th>\n",
       "      <td>Добавить форму подписки на все основные страницы, чтобы собрать базу клиентов для email-рассылок</td>\n",
       "      <td>112</td>\n",
       "    </tr>\n",
       "    <tr>\n",
       "      <th>2</th>\n",
       "      <td>Добавить блоки рекомендаций товаров на сайт интернет магазина, чтобы повысить конверсию и средний чек заказа</td>\n",
       "      <td>56</td>\n",
       "    </tr>\n",
       "    <tr>\n",
       "      <th>0</th>\n",
       "      <td>Добавить два новых канала привлечения трафика, что позволит привлекать на 30% больше пользователей</td>\n",
       "      <td>40</td>\n",
       "    </tr>\n",
       "    <tr>\n",
       "      <th>6</th>\n",
       "      <td>Показать на главной странице баннеры с актуальными акциями и распродажами, чтобы увеличить конверсию</td>\n",
       "      <td>40</td>\n",
       "    </tr>\n",
       "    <tr>\n",
       "      <th>8</th>\n",
       "      <td>Запустить акцию, дающую скидку на товар в день рождения</td>\n",
       "      <td>16</td>\n",
       "    </tr>\n",
       "    <tr>\n",
       "      <th>3</th>\n",
       "      <td>Изменить структура категорий, что увеличит конверсию, т.к. пользователи быстрее найдут нужный товар</td>\n",
       "      <td>9</td>\n",
       "    </tr>\n",
       "    <tr>\n",
       "      <th>1</th>\n",
       "      <td>Запустить собственную службу доставки, что сократит срок доставки заказов</td>\n",
       "      <td>4</td>\n",
       "    </tr>\n",
       "    <tr>\n",
       "      <th>5</th>\n",
       "      <td>Добавить страницу отзывов клиентов о магазине, что позволит увеличить количество заказов</td>\n",
       "      <td>4</td>\n",
       "    </tr>\n",
       "    <tr>\n",
       "      <th>4</th>\n",
       "      <td>Изменить цвет фона главной страницы, чтобы увеличить вовлеченность пользователей</td>\n",
       "      <td>3</td>\n",
       "    </tr>\n",
       "  </tbody>\n",
       "</table>\n",
       "</div>"
      ],
      "text/plain": [
       "                                                                                                     hypothesis  \\\n",
       "7              Добавить форму подписки на все основные страницы, чтобы собрать базу клиентов для email-рассылок   \n",
       "2  Добавить блоки рекомендаций товаров на сайт интернет магазина, чтобы повысить конверсию и средний чек заказа   \n",
       "0            Добавить два новых канала привлечения трафика, что позволит привлекать на 30% больше пользователей   \n",
       "6          Показать на главной странице баннеры с актуальными акциями и распродажами, чтобы увеличить конверсию   \n",
       "8                                                       Запустить акцию, дающую скидку на товар в день рождения   \n",
       "3           Изменить структура категорий, что увеличит конверсию, т.к. пользователи быстрее найдут нужный товар   \n",
       "1                                     Запустить собственную службу доставки, что сократит срок доставки заказов   \n",
       "5                      Добавить страницу отзывов клиентов о магазине, что позволит увеличить количество заказов   \n",
       "4                              Изменить цвет фона главной страницы, чтобы увеличить вовлеченность пользователей   \n",
       "\n",
       "   RICE  \n",
       "7   112  \n",
       "2    56  \n",
       "0    40  \n",
       "6    40  \n",
       "8    16  \n",
       "3     9  \n",
       "1     4  \n",
       "5     4  \n",
       "4     3  "
      ]
     },
     "execution_count": 6,
     "metadata": {},
     "output_type": "execute_result"
    }
   ],
   "source": [
    "hypothesis['RICE'] = (hypothesis.reach * hypothesis.impact * hypothesis.confidence) / hypothesis.efforts\n",
    "hypothesis['RICE'] = hypothesis['RICE'].astype(int)\n",
    "\n",
    "hypothesis[['hypothesis', 'RICE']].sort_values('RICE', ascending=False)"
   ]
  },
  {
   "cell_type": "markdown",
   "metadata": {},
   "source": [
    "Наиболее перспективные гипотезы по RICE 7, 2, 0, 6"
   ]
  },
  {
   "cell_type": "code",
   "execution_count": 7,
   "metadata": {},
   "outputs": [
    {
     "data": {
      "text/plain": [
       "'Добавить форму подписки на все основные страницы, чтобы собрать базу клиентов для email-рассылок'"
      ]
     },
     "execution_count": 7,
     "metadata": {},
     "output_type": "execute_result"
    }
   ],
   "source": [
    "hypothesis.loc[7].hypothesis"
   ]
  },
  {
   "cell_type": "markdown",
   "metadata": {},
   "source": [
    "### **Укажите, как изменилась приоритизация гипотез при применении RICE вместо ICE. Объясните, почему так произошло.**"
   ]
  },
  {
   "cell_type": "markdown",
   "metadata": {},
   "source": [
    "Наиболее перспективные гипотезы по ICE 8, 0, 7\n",
    "Наиболее перспективные гипотезы по RICE 7, 2, 0, 6\n",
    "\n",
    "На первое место вышла гипотеза 7 по RICE вместо 8 гипотезы по ICE, так произошло, из за того что 7 гипотеза имеет самый высокий  параметр reach (охват пользователей которых затронет изменение).\n",
    "Гипотеза 0 хоть и имеет самый высокий параметр impacta (влияние на пользователей) но из-за низкого параметра reach = 3, занимает 3е место в позициях по фреймворку RICE.\n",
    "\n",
    "**Таким образом наиболее приоритетной гипотезой для анализа является гипотеза с индексом 7 - Добавить форму подписки на все основные страницы, чтобы собрать базу клиентов для email-рассылок**"
   ]
  },
  {
   "cell_type": "markdown",
   "metadata": {},
   "source": [
    "## Анализ A/B-теста\n",
    "    \n",
    "**Данные для второй части**\n",
    "\n",
    "**Файл /datasets/orders.csv**; \n",
    "\n",
    "transactionId — идентификатор заказа;  \n",
    "visitorId — идентификатор пользователя, совершившего заказ;  \n",
    "date — дата, когда был совершён заказ;  \n",
    "revenue — выручка заказа;  \n",
    "group — группа A/B-теста, в которую попал заказ.  \n",
    "\n",
    "**Файл /datasets/visitors.csv**;\n",
    "\n",
    "date — дата;  \n",
    "group — группа A/B-теста;  \n",
    "visitors — количество пользователей в указанную дату в указанной группе A/B-теста  "
   ]
  },
  {
   "cell_type": "code",
   "execution_count": 8,
   "metadata": {},
   "outputs": [],
   "source": [
    "try:\n",
    "    orders = pd.read_csv('/datasets/orders.csv', sep=',')\n",
    "    visitors = pd.read_csv('/datasets/visitors.csv', sep=',')\n",
    "except:\n",
    "    orders = pd.read_csv(r'C:\\Users\\Дом\\Desktop\\dataset\\orders.csv', sep=',')\n",
    "    visitors = pd.read_csv(r'‪C:\\Users\\Дом\\Desktop\\dataset\\visitors.csv', sep=',')"
   ]
  },
  {
   "cell_type": "code",
   "execution_count": 9,
   "metadata": {
    "scrolled": false
   },
   "outputs": [
    {
     "data": {
      "text/html": [
       "<div>\n",
       "<style scoped>\n",
       "    .dataframe tbody tr th:only-of-type {\n",
       "        vertical-align: middle;\n",
       "    }\n",
       "\n",
       "    .dataframe tbody tr th {\n",
       "        vertical-align: top;\n",
       "    }\n",
       "\n",
       "    .dataframe thead th {\n",
       "        text-align: right;\n",
       "    }\n",
       "</style>\n",
       "<table border=\"1\" class=\"dataframe\">\n",
       "  <thead>\n",
       "    <tr style=\"text-align: right;\">\n",
       "      <th></th>\n",
       "      <th>transactionId</th>\n",
       "      <th>visitorId</th>\n",
       "      <th>date</th>\n",
       "      <th>revenue</th>\n",
       "      <th>group</th>\n",
       "    </tr>\n",
       "  </thead>\n",
       "  <tbody>\n",
       "    <tr>\n",
       "      <th>0</th>\n",
       "      <td>3667963787</td>\n",
       "      <td>3312258926</td>\n",
       "      <td>2019-08-15</td>\n",
       "      <td>1650</td>\n",
       "      <td>B</td>\n",
       "    </tr>\n",
       "    <tr>\n",
       "      <th>1</th>\n",
       "      <td>2804400009</td>\n",
       "      <td>3642806036</td>\n",
       "      <td>2019-08-15</td>\n",
       "      <td>730</td>\n",
       "      <td>B</td>\n",
       "    </tr>\n",
       "    <tr>\n",
       "      <th>2</th>\n",
       "      <td>2961555356</td>\n",
       "      <td>4069496402</td>\n",
       "      <td>2019-08-15</td>\n",
       "      <td>400</td>\n",
       "      <td>A</td>\n",
       "    </tr>\n",
       "    <tr>\n",
       "      <th>3</th>\n",
       "      <td>3797467345</td>\n",
       "      <td>1196621759</td>\n",
       "      <td>2019-08-15</td>\n",
       "      <td>9759</td>\n",
       "      <td>B</td>\n",
       "    </tr>\n",
       "    <tr>\n",
       "      <th>4</th>\n",
       "      <td>2282983706</td>\n",
       "      <td>2322279887</td>\n",
       "      <td>2019-08-15</td>\n",
       "      <td>2308</td>\n",
       "      <td>B</td>\n",
       "    </tr>\n",
       "  </tbody>\n",
       "</table>\n",
       "</div>"
      ],
      "text/plain": [
       "   transactionId   visitorId       date  revenue group\n",
       "0     3667963787  3312258926 2019-08-15     1650     B\n",
       "1     2804400009  3642806036 2019-08-15      730     B\n",
       "2     2961555356  4069496402 2019-08-15      400     A\n",
       "3     3797467345  1196621759 2019-08-15     9759     B\n",
       "4     2282983706  2322279887 2019-08-15     2308     B"
      ]
     },
     "metadata": {},
     "output_type": "display_data"
    },
    {
     "data": {
      "text/html": [
       "<div>\n",
       "<style scoped>\n",
       "    .dataframe tbody tr th:only-of-type {\n",
       "        vertical-align: middle;\n",
       "    }\n",
       "\n",
       "    .dataframe tbody tr th {\n",
       "        vertical-align: top;\n",
       "    }\n",
       "\n",
       "    .dataframe thead th {\n",
       "        text-align: right;\n",
       "    }\n",
       "</style>\n",
       "<table border=\"1\" class=\"dataframe\">\n",
       "  <thead>\n",
       "    <tr style=\"text-align: right;\">\n",
       "      <th></th>\n",
       "      <th>date</th>\n",
       "      <th>group</th>\n",
       "      <th>visitors</th>\n",
       "    </tr>\n",
       "  </thead>\n",
       "  <tbody>\n",
       "    <tr>\n",
       "      <th>0</th>\n",
       "      <td>2019-08-01</td>\n",
       "      <td>A</td>\n",
       "      <td>719</td>\n",
       "    </tr>\n",
       "    <tr>\n",
       "      <th>1</th>\n",
       "      <td>2019-08-02</td>\n",
       "      <td>A</td>\n",
       "      <td>619</td>\n",
       "    </tr>\n",
       "    <tr>\n",
       "      <th>2</th>\n",
       "      <td>2019-08-03</td>\n",
       "      <td>A</td>\n",
       "      <td>507</td>\n",
       "    </tr>\n",
       "    <tr>\n",
       "      <th>3</th>\n",
       "      <td>2019-08-04</td>\n",
       "      <td>A</td>\n",
       "      <td>717</td>\n",
       "    </tr>\n",
       "    <tr>\n",
       "      <th>4</th>\n",
       "      <td>2019-08-05</td>\n",
       "      <td>A</td>\n",
       "      <td>756</td>\n",
       "    </tr>\n",
       "  </tbody>\n",
       "</table>\n",
       "</div>"
      ],
      "text/plain": [
       "        date group  visitors\n",
       "0 2019-08-01     A       719\n",
       "1 2019-08-02     A       619\n",
       "2 2019-08-03     A       507\n",
       "3 2019-08-04     A       717\n",
       "4 2019-08-05     A       756"
      ]
     },
     "metadata": {},
     "output_type": "display_data"
    }
   ],
   "source": [
    "orders['date'] = orders['date'].map(lambda x: dt.datetime.strptime(x, '%Y-%m-%d'))\n",
    "visitors['date'] = visitors['date'].map(lambda x: dt.datetime.strptime(x, '%Y-%m-%d'))\n",
    "\n",
    "# смотрим на данные\n",
    "display(orders.head())\n",
    "display(visitors.head())"
   ]
  },
  {
   "cell_type": "code",
   "execution_count": 10,
   "metadata": {},
   "outputs": [
    {
     "name": "stdout",
     "output_type": "stream",
     "text": [
      "<class 'pandas.core.frame.DataFrame'>\n",
      "RangeIndex: 1197 entries, 0 to 1196\n",
      "Data columns (total 5 columns):\n",
      " #   Column         Non-Null Count  Dtype         \n",
      "---  ------         --------------  -----         \n",
      " 0   transactionId  1197 non-null   int64         \n",
      " 1   visitorId      1197 non-null   int64         \n",
      " 2   date           1197 non-null   datetime64[ns]\n",
      " 3   revenue        1197 non-null   int64         \n",
      " 4   group          1197 non-null   object        \n",
      "dtypes: datetime64[ns](1), int64(3), object(1)\n",
      "memory usage: 46.9+ KB\n"
     ]
    },
    {
     "data": {
      "text/plain": [
       "None"
      ]
     },
     "metadata": {},
     "output_type": "display_data"
    },
    {
     "name": "stdout",
     "output_type": "stream",
     "text": [
      "<class 'pandas.core.frame.DataFrame'>\n",
      "RangeIndex: 62 entries, 0 to 61\n",
      "Data columns (total 3 columns):\n",
      " #   Column    Non-Null Count  Dtype         \n",
      "---  ------    --------------  -----         \n",
      " 0   date      62 non-null     datetime64[ns]\n",
      " 1   group     62 non-null     object        \n",
      " 2   visitors  62 non-null     int64         \n",
      "dtypes: datetime64[ns](1), int64(1), object(1)\n",
      "memory usage: 1.6+ KB\n"
     ]
    },
    {
     "data": {
      "text/plain": [
       "None"
      ]
     },
     "metadata": {},
     "output_type": "display_data"
    }
   ],
   "source": [
    "display(orders.info())\n",
    "display(visitors.info())"
   ]
  },
  {
   "cell_type": "code",
   "execution_count": 11,
   "metadata": {},
   "outputs": [
    {
     "name": "stdout",
     "output_type": "stream",
     "text": [
      "transactionId    0\n",
      "visitorId        0\n",
      "date             0\n",
      "revenue          0\n",
      "group            0\n",
      "dtype: int64\n"
     ]
    },
    {
     "data": {
      "text/plain": [
       "date        0\n",
       "group       0\n",
       "visitors    0\n",
       "dtype: int64"
      ]
     },
     "execution_count": 11,
     "metadata": {},
     "output_type": "execute_result"
    }
   ],
   "source": [
    "# check Nan\n",
    "print(orders.isna().sum())\n",
    "visitors.isna().sum()"
   ]
  },
  {
   "cell_type": "code",
   "execution_count": 12,
   "metadata": {},
   "outputs": [
    {
     "data": {
      "text/plain": [
       "0"
      ]
     },
     "metadata": {},
     "output_type": "display_data"
    },
    {
     "data": {
      "text/plain": [
       "0"
      ]
     },
     "metadata": {},
     "output_type": "display_data"
    }
   ],
   "source": [
    "display(orders.duplicated().sum())\n",
    "display(visitors.duplicated().sum())"
   ]
  },
  {
   "cell_type": "markdown",
   "metadata": {},
   "source": [
    "Итого по предобработке данных.\n",
    "Исходные данные качественные, дубликатов нет, пропусков нет. Тип данных приведен к нужным типам."
   ]
  },
  {
   "cell_type": "code",
   "execution_count": 13,
   "metadata": {},
   "outputs": [
    {
     "name": "stdout",
     "output_type": "stream",
     "text": [
      "Число пользователей находящихся одновременно в двух группах 58\n"
     ]
    }
   ],
   "source": [
    "# create pivot\n",
    "dupl_orders = orders.pivot_table(index='visitorId',values = 'group', aggfunc = 'nunique').reset_index()\n",
    "\n",
    "print('Число пользователей находящихся одновременно в двух группах', dupl_orders.query('group == 2')['visitorId'].count())"
   ]
  },
  {
   "cell_type": "code",
   "execution_count": 14,
   "metadata": {},
   "outputs": [
    {
     "data": {
      "text/plain": [
       "58"
      ]
     },
     "execution_count": 14,
     "metadata": {},
     "output_type": "execute_result"
    }
   ],
   "source": [
    "dupl = dupl_orders.query('group == 2')['visitorId'].unique()\n",
    "dupl.shape[0]"
   ]
  },
  {
   "cell_type": "code",
   "execution_count": 15,
   "metadata": {},
   "outputs": [
    {
     "data": {
      "text/plain": [
       "1197"
      ]
     },
     "execution_count": 15,
     "metadata": {},
     "output_type": "execute_result"
    }
   ],
   "source": [
    "# число пользователей до удаления повторных\n",
    "orders.shape[0]"
   ]
  },
  {
   "cell_type": "code",
   "execution_count": 16,
   "metadata": {},
   "outputs": [
    {
     "data": {
      "text/plain": [
       "1016"
      ]
     },
     "execution_count": 16,
     "metadata": {},
     "output_type": "execute_result"
    }
   ],
   "source": [
    "orders2 = orders.query('visitorId not in @dupl')\n",
    "\n",
    "# число пользователей после удаления\n",
    "orders2.shape[0]"
   ]
  },
  {
   "cell_type": "code",
   "execution_count": 17,
   "metadata": {},
   "outputs": [
    {
     "data": {
      "text/plain": [
       "15.121136173767757"
      ]
     },
     "execution_count": 17,
     "metadata": {},
     "output_type": "execute_result"
    }
   ],
   "source": [
    "# доля изменения обьема датафрейма\n",
    "(1 - (orders2.shape[0] / orders.shape[0])) * 100"
   ]
  },
  {
   "cell_type": "markdown",
   "metadata": {},
   "source": [
    "**Пользователи находящихся одновременно в двух группах: за/против**\n",
    "\n",
    "В выборке у нас есть целых **58 пользователей которые находятся сразу и в группе А и в группе В.**  \n",
    "Если их удалить то - удаление может уменьшить выборку и повлиять на дальнейший анализ. А так же удалить из orders мы их можем, а вот из visitors мы таких не удалим, потому что данная выборка содержит уже агрегированный результат наблюдений.\n",
    "Следовательно считаю разумных в данном случае их(пользователей находящихся одновременно в двух группах) оставить в данных.\n",
    "Доля таких клиентов уменьшит всю выборку на 15%.\n",
    "Но в голове будет держать что теперь у нас есть 2 датафрейма:\n",
    "- Orders с повторками\n",
    "- Orders2 - без повторяющихся пользователей.\n",
    "\n",
    "Наличие таких пользователей тревожный знак. Значит А\\А тест был проведен плохо, потому что Попавший в одну из групп посетитель остаётся в этой группе до конца теста. Если пользователь видит разные версии исследуемой страницы в ходе одного исследования, неизвестно, какая именно повлияла на его решения. \n",
    "\n",
    "Значит, и результаты такого теста нельзя интерпретировать однозначно."
   ]
  },
  {
   "cell_type": "code",
   "execution_count": 45,
   "metadata": {},
   "outputs": [
    {
     "name": "stdout",
     "output_type": "stream",
     "text": [
      "p-значение:  1.739723833199812e-34\n",
      "Отвергаем нулевую гипотезу: распределение  не нормально\n",
      "p-значение:  0.0\n",
      "Отвергаем нулевую гипотезу: распределение  не нормально\n",
      "p-значение:  0.02919507585465908\n",
      "Отвергаем нулевую гипотезу: распределение  не нормально\n",
      "p-значение:  0.03644953668117523\n",
      "Отвергаем нулевую гипотезу: распределение  не нормально\n"
     ]
    }
   ],
   "source": [
    "# Проверим имеющиеся распределения на нормальность критерием Шапиро-Уилка.\n",
    "\n",
    "group_a_revenue = orders[orders['group']== 'A']['revenue']\n",
    "group_b_revenue = orders[orders['group']== 'B']['revenue']\n",
    "\n",
    "group_a_visitors = visitors[visitors['group']== 'A']['visitors']\n",
    "group_b_visitors = visitors[visitors['group']== 'B']['visitors']\n",
    "\n",
    "alpha = 0.05\n",
    "\n",
    "list = [group_a_revenue, group_b_revenue, group_a_visitors, group_b_visitors]\n",
    "\n",
    "for x in list:\n",
    "    results = stats.shapiro (x)\n",
    "    p_value = results[1]\n",
    "\n",
    "    print('p-значение: ', p_value)\n",
    "\n",
    "    if p_value < alpha:\n",
    "        print('Отвергаем нулевую гипотезу: распределение  не нормально')\n",
    "    else:\n",
    "        print('Не получилось отвергнуть нулевую гипотезу, всё нормально')"
   ]
  },
  {
   "cell_type": "markdown",
   "metadata": {},
   "source": [
    "### **Постройте график кумулятивной выручки по группам. Сделайте выводы и предположения.**"
   ]
  },
  {
   "cell_type": "code",
   "execution_count": 19,
   "metadata": {},
   "outputs": [
    {
     "name": "stdout",
     "output_type": "stream",
     "text": [
      "        date group  orders  buyers  revenue  visitors\n",
      "0 2019-08-01     A      24      20   148579       719\n",
      "1 2019-08-01     B      21      20   101217       713\n",
      "2 2019-08-02     A      44      38   242401      1338\n",
      "3 2019-08-02     B      45      43   266748      1294\n",
      "4 2019-08-03     A      68      62   354874      1845\n"
     ]
    }
   ],
   "source": [
    "# создаем массив уникальных пар значений дат и групп теста\n",
    "datesGroups = orders[['date','group']].drop_duplicates()\n",
    "\n",
    "# получаем агрегированные кумулятивные по дням данные о заказах \n",
    "ordersAggregated = datesGroups.apply(lambda x: orders[np.logical_and(orders['date'] <= x['date'], orders['group'] == x['group'])].agg({'date' : 'max', 'group' : 'max', 'transactionId' : 'nunique', 'visitorId' : 'nunique', 'revenue' : 'sum'}), axis=1).sort_values(by=['date','group'])\n",
    "\n",
    "# получаем агрегированные кумулятивные по дням данные о посетителях интернет-магазина \n",
    "visitorsAggregated = datesGroups.apply(lambda x: visitors[np.logical_and(visitors['date'] <= x['date'], visitors['group'] == x['group'])].agg({'date' : 'max', 'group' : 'max', 'visitors' : 'sum'}), axis=1).sort_values(by=['date','group'])\n",
    "\n",
    "# объединяем кумулятивные данные в одной таблице и присваиваем ее столбцам понятные названия\n",
    "cumulativeData = ordersAggregated.merge(visitorsAggregated, left_on=['date', 'group'], right_on=['date', 'group'])\n",
    "cumulativeData.columns = ['date', 'group', 'orders', 'buyers', 'revenue', 'visitors']\n",
    "\n",
    "print(cumulativeData.head())"
   ]
  },
  {
   "cell_type": "code",
   "execution_count": 20,
   "metadata": {},
   "outputs": [
    {
     "data": {
      "image/png": "[encoded data removed]",
      "text/plain": [
       "<Figure size 720x360 with 1 Axes>"
      ]
     },
     "metadata": {
      "needs_background": "light"
     },
     "output_type": "display_data"
    }
   ],
   "source": [
    "# датафрейм с кумулятивным количеством заказов и кумулятивной выручкой по дням в группе А\n",
    "cumulativeRevenueA = cumulativeData[cumulativeData['group']=='A'][['date','revenue', 'orders']]\n",
    "\n",
    "# датафрейм с кумулятивным количеством заказов и кумулятивной выручкой по дням в группе B\n",
    "cumulativeRevenueB = cumulativeData[cumulativeData['group']=='B'][['date','revenue', 'orders']]\n",
    "\n",
    "plt.figure(figsize=(10,5))\n",
    "plt.title('График кумулятивной выручки по группам')\n",
    "plt.xticks(rotation = 45)\n",
    "plt.xlabel('День наблюдения')\n",
    "plt.ylabel('Сумма выручки')\n",
    "plt.gca().yaxis.set_major_formatter(plt.matplotlib.ticker.StrMethodFormatter('{x:,.0f}'))\n",
    "\n",
    "# Строим график выручки группы А\n",
    "plt.plot(cumulativeRevenueA['date'], cumulativeRevenueA['revenue'], label='A');\n",
    "\n",
    "# Строим график выручки группы B\n",
    "plt.plot(cumulativeRevenueB['date'], cumulativeRevenueB['revenue'], label='B');\n",
    "\n",
    "plt.legend(); "
   ]
  },
  {
   "cell_type": "markdown",
   "metadata": {},
   "source": [
    "Выручка группы А растет равномерно в течении всего периода.  \n",
    "Выручка группы В в точке 18.08.2019 имеет резкий вслеск. Это может сигнализировать о всплесках числа заказов либо о появлении дорогих заказов в выборке."
   ]
  },
  {
   "cell_type": "markdown",
   "metadata": {},
   "source": [
    "### **Постройте график кумулятивного среднего чека по группам. Сделайте выводы и предположения.**"
   ]
  },
  {
   "cell_type": "code",
   "execution_count": 21,
   "metadata": {},
   "outputs": [
    {
     "data": {
      "image/png": "[encoded data removed]",
      "text/plain": [
       "<Figure size 720x360 with 1 Axes>"
      ]
     },
     "metadata": {
      "needs_background": "light"
     },
     "output_type": "display_data"
    }
   ],
   "source": [
    "plt.figure(figsize=(10,5))\n",
    "plt.title('График кумулятивного среднего чека по группам')\n",
    "plt.xticks(rotation = 45)\n",
    "plt.xlabel('День наблюдения')\n",
    "plt.ylabel('Сумма среднего чека')\n",
    "\n",
    "plt.plot(cumulativeRevenueA['date'], cumulativeRevenueA['revenue']/cumulativeRevenueA['orders'], label='A');\n",
    "plt.plot(cumulativeRevenueB['date'], cumulativeRevenueB['revenue']/cumulativeRevenueB['orders'], label='B');\n",
    "plt.legend();"
   ]
  },
  {
   "cell_type": "markdown",
   "metadata": {},
   "source": [
    "Средний чек группы В волнообразно возрастает. В точке 18.08.2019 наблюдается резкий рост с 7 000 до 10 000.  \n",
    "Средний чек группы А имеет спад к точки 06.08.2019 После наблюдается рост. Резких скачков группы А не наблюдается. Ближе к концу средний чек становится равномерным на отметке в 7 000"
   ]
  },
  {
   "cell_type": "markdown",
   "metadata": {},
   "source": [
    "### **Постройте график относительного изменения кумулятивного среднего чека группы B к группе A. Сделайте выводы и предположения.**"
   ]
  },
  {
   "cell_type": "code",
   "execution_count": 22,
   "metadata": {},
   "outputs": [
    {
     "data": {
      "image/png": "[encoded data removed]",
      "text/plain": [
       "<Figure size 720x360 with 1 Axes>"
      ]
     },
     "metadata": {
      "needs_background": "light"
     },
     "output_type": "display_data"
    }
   ],
   "source": [
    "plt.figure(figsize=(10,5))\n",
    "plt.title('График относительного изменения кумулятивного среднего чека группы B к группе A')\n",
    "plt.xticks(rotation = 45)\n",
    "\n",
    "# собираем данные в одном датафрейме\n",
    "mergedCumulativeRevenue = cumulativeRevenueA.merge(cumulativeRevenueB, left_on='date', right_on='date', how='left', suffixes=['A', 'B']);\n",
    "\n",
    "# cтроим отношение средних чеков\n",
    "plt.plot(mergedCumulativeRevenue['date'], (mergedCumulativeRevenue['revenueB']/mergedCumulativeRevenue['ordersB'])/(mergedCumulativeRevenue['revenueA']/mergedCumulativeRevenue['ordersA'])-1);\n",
    "\n",
    "# добавляем ось X\n",
    "plt.axhline(y=0, color='black', linestyle='--');"
   ]
  },
  {
   "cell_type": "markdown",
   "metadata": {},
   "source": [
    "По графику Средний чек группы В отличается в большую сторону примерно на 25%.  \n",
    "В нескольких точках график различия между сегментами резко «скачет». Это говорит о наличии аномалий и всплесках."
   ]
  },
  {
   "cell_type": "markdown",
   "metadata": {},
   "source": [
    "### **Постройте график кумулятивного среднего количества заказов на посетителя по группам. Сделайте выводы и предположения.**"
   ]
  },
  {
   "cell_type": "code",
   "execution_count": 23,
   "metadata": {},
   "outputs": [
    {
     "data": {
      "image/png": "[encoded data removed]",
      "text/plain": [
       "<Figure size 720x360 with 1 Axes>"
      ]
     },
     "metadata": {
      "needs_background": "light"
     },
     "output_type": "display_data"
    }
   ],
   "source": [
    "plt.figure(figsize=(10,5))\n",
    "plt.title('График кумулятивного среднего количества заказов на посетителя по группам')\n",
    "plt.xticks(rotation = 45)\n",
    "plt.xlabel('День наблюдения')\n",
    "plt.ylabel('% отношения среднего количества заказов на посетителя')\n",
    "\n",
    "\n",
    "# считаем кумулятивную конверсию\n",
    "cumulativeData['conversion'] = cumulativeData['orders']/cumulativeData['visitors']\n",
    "\n",
    "# отделяем данные по группе A\n",
    "cumulativeDataA = cumulativeData[cumulativeData['group']=='A']\n",
    "\n",
    "# отделяем данные по группе B\n",
    "cumulativeDataB = cumulativeData[cumulativeData['group']=='B']\n",
    "\n",
    "# строим графики\n",
    "plt.plot(cumulativeDataA['date'], cumulativeDataA['conversion'], label='A');\n",
    "plt.plot(cumulativeDataB['date'], cumulativeDataB['conversion'], label='B');\n",
    "plt.legend();"
   ]
  },
  {
   "cell_type": "markdown",
   "metadata": {},
   "source": [
    "В начале группы колебались, но затем конверсия группы В выросла и зафиксировалась, а конверсия группы А просела и также зафиксировалась."
   ]
  },
  {
   "cell_type": "markdown",
   "metadata": {},
   "source": [
    "### **Постройте график относительного изменения кумулятивного среднего количества заказов на посетителя группы B к группе A. Сделайте выводы и предположения.**"
   ]
  },
  {
   "cell_type": "code",
   "execution_count": 24,
   "metadata": {},
   "outputs": [
    {
     "data": {
      "image/png": "[encoded data removed]",
      "text/plain": [
       "<Figure size 720x360 with 1 Axes>"
      ]
     },
     "metadata": {
      "needs_background": "light"
     },
     "output_type": "display_data"
    }
   ],
   "source": [
    "plt.figure(figsize=(10,5))\n",
    "plt.title('График относительного изменения кумулятивных конверсий по группам')\n",
    "plt.xticks(rotation = 45)\n",
    "\n",
    "mergedCumulativeConversions = cumulativeDataA[['date','conversion']].merge(cumulativeDataB[['date','conversion']], left_on='date', right_on='date', how='left', suffixes=['A', 'B'])\n",
    "\n",
    "plt.plot(mergedCumulativeConversions['date'], mergedCumulativeConversions['conversionB']/mergedCumulativeConversions['conversionA']-1, label=\"Относительный прирост конверсии группы B относительно группы A\");\n",
    "plt.legend();\n",
    "\n",
    "plt.axhline(y=0, color='black', linestyle='--');\n",
    "plt.axhline(y=0.1, color='grey', linestyle='--');"
   ]
  },
  {
   "cell_type": "markdown",
   "metadata": {},
   "source": [
    "По графику относительного изменения кумулятивных конверсий по группам можно сказать что группа В сначала была хуже на 10 % но потом выросла и в итоге группа В относительно группы А больше  примерно 15%. На протяжении почти всего теста число заказов группы B была выше более чем на 10%"
   ]
  },
  {
   "cell_type": "markdown",
   "metadata": {},
   "source": [
    "### **Постройте точечный график количества заказов по пользователям. Сделайте выводы и предположения.**"
   ]
  },
  {
   "cell_type": "code",
   "execution_count": 25,
   "metadata": {},
   "outputs": [
    {
     "name": "stdout",
     "output_type": "stream",
     "text": [
      "          userId  orders\n",
      "1023  4256040402      11\n",
      "591   2458001652      11\n",
      "569   2378935119       9\n",
      "487   2038680547       8\n",
      "44     199603092       5\n",
      "744   3062433592       5\n",
      "55     237748145       5\n",
      "917   3803269165       5\n",
      "299   1230306981       5\n",
      "897   3717692402       5\n"
     ]
    }
   ],
   "source": [
    "# Сгруппируем данные по пользователямб и посчитаем колличество уникальных заказов на каждого пользователя\n",
    "ordersByUsers = (\n",
    "    orders.groupby('visitorId', as_index=False)\n",
    "    .agg({'transactionId': 'nunique'})\n",
    ")\n",
    "\n",
    "ordersByUsers.columns = ['userId', 'orders']\n",
    "\n",
    "print(ordersByUsers.sort_values(by='orders', ascending=False).head(10))"
   ]
  },
  {
   "cell_type": "code",
   "execution_count": 26,
   "metadata": {},
   "outputs": [
    {
     "data": {
      "image/png": "[encoded data removed]",
      "text/plain": [
       "<Figure size 432x288 with 1 Axes>"
      ]
     },
     "metadata": {
      "needs_background": "light"
     },
     "output_type": "display_data"
    }
   ],
   "source": [
    "plt.hist(ordersByUsers['orders']);"
   ]
  },
  {
   "cell_type": "code",
   "execution_count": 27,
   "metadata": {},
   "outputs": [
    {
     "data": {
      "image/png": "[encoded data removed]",
      "text/plain": [
       "<Figure size 720x360 with 1 Axes>"
      ]
     },
     "metadata": {
      "needs_background": "light"
     },
     "output_type": "display_data"
    }
   ],
   "source": [
    "plt.figure(figsize=(10,5))\n",
    "plt.title('Точечный график количества заказов по пользователям')\n",
    "plt.xlabel('Номер наблюдения')\n",
    "plt.ylabel('Колличество заказов на 1 пользователя')\n",
    "\n",
    "\n",
    "x_values = pd.Series(range(0,len(ordersByUsers)))\n",
    "\n",
    "plt.scatter(x_values, ordersByUsers['orders']);"
   ]
  },
  {
   "cell_type": "markdown",
   "metadata": {},
   "source": [
    "Основная масса пользователей имеют 1 и 2 колличество заказов на одного пользователя."
   ]
  },
  {
   "cell_type": "markdown",
   "metadata": {},
   "source": [
    "### **Посчитайте 95-й и 99-й перцентили количества заказов на пользователя. Выберите границу для определения аномальных пользователей.**"
   ]
  },
  {
   "cell_type": "code",
   "execution_count": 28,
   "metadata": {},
   "outputs": [
    {
     "name": "stdout",
     "output_type": "stream",
     "text": [
      "[2. 3. 4.]\n"
     ]
    }
   ],
   "source": [
    "print(np.percentile(ordersByUsers['orders'], [95, 98, 99])) "
   ]
  },
  {
   "cell_type": "markdown",
   "metadata": {},
   "source": [
    "Не более 5% пользователей оформляли больше чем 2 заказа. И только 1% пользователей совершили 4 и более заказов.  \n",
    "Будет разумным определить верхнюю границу числа заказов как 2 и отсеять аномальных пользователей по ней."
   ]
  },
  {
   "cell_type": "markdown",
   "metadata": {},
   "source": [
    "### **Постройте точечный график стоимостей заказов. Сделайте выводы и предположения.**"
   ]
  },
  {
   "cell_type": "code",
   "execution_count": 29,
   "metadata": {},
   "outputs": [
    {
     "data": {
      "image/png": "[encoded data removed]",
      "text/plain": [
       "<Figure size 720x360 with 1 Axes>"
      ]
     },
     "metadata": {
      "needs_background": "light"
     },
     "output_type": "display_data"
    }
   ],
   "source": [
    "plt.figure(figsize=(10,5))\n",
    "plt.title('Точечный график стоимостей заказов')\n",
    "plt.xlabel('Номер наблюдения')\n",
    "plt.ylabel('Стоимость заказа')\n",
    "\n",
    "x_values = pd.Series(range(0,len(orders['revenue'])))\n",
    "plt.scatter(x_values, orders['revenue']);"
   ]
  },
  {
   "cell_type": "markdown",
   "metadata": {},
   "source": [
    "Из графика видно что только 2 заказа выбиваются из общей массы. Почти все заказы находятся в диапазоне до 200 000"
   ]
  },
  {
   "cell_type": "code",
   "execution_count": 30,
   "metadata": {},
   "outputs": [
    {
     "data": {
      "image/png": "[encoded data removed]",
      "text/plain": [
       "<Figure size 720x360 with 1 Axes>"
      ]
     },
     "metadata": {
      "needs_background": "light"
     },
     "output_type": "display_data"
    }
   ],
   "source": [
    "plt.figure(figsize=(10,5))\n",
    "plt.title('Точечный график стоимостей заказов, с суммой до 250 000')\n",
    "plt.xlabel('Номер наблюдения')\n",
    "plt.ylabel('Стоимость заказа')\n",
    "plt.ylim(0, 110000)\n",
    "\n",
    "x_values = pd.Series(range(0,len(orders['revenue'])))\n",
    "plt.scatter(x_values, orders['revenue']);"
   ]
  },
  {
   "cell_type": "code",
   "execution_count": 31,
   "metadata": {},
   "outputs": [
    {
     "data": {
      "image/png": "[encoded data removed]",
      "text/plain": [
       "<Figure size 720x360 with 1 Axes>"
      ]
     },
     "metadata": {
      "needs_background": "light"
     },
     "output_type": "display_data"
    }
   ],
   "source": [
    "plt.figure(figsize=(10,5))\n",
    "plt.title('Точечный график стоимостей заказов, с суммой до 28000')\n",
    "plt.xlabel('Номер наблюдения')\n",
    "plt.ylabel('Стоимость заказа')\n",
    "plt.ylim(0, 28000)\n",
    "\n",
    "x_values = pd.Series(range(0,len(orders['revenue'])))\n",
    "plt.scatter(x_values, orders['revenue']);"
   ]
  },
  {
   "cell_type": "markdown",
   "metadata": {},
   "source": [
    "### **Посчитайте 95-й и 99-й перцентили стоимости заказов. Выберите границу для определения аномальных заказов.**"
   ]
  },
  {
   "cell_type": "code",
   "execution_count": 32,
   "metadata": {},
   "outputs": [
    {
     "name": "stdout",
     "output_type": "stream",
     "text": [
      "[  28000.           58233.2         168402.72000001 1163925.50399976]\n"
     ]
    }
   ],
   "source": [
    "print(np.percentile(orders['revenue'], [95, 99, 99.89, 99.99]))"
   ]
  },
  {
   "cell_type": "markdown",
   "metadata": {},
   "source": [
    "99% пользователей имеют сумму заказа не больше 58 233.2  \n",
    "95% пользователей - не больше 28 000\n",
    "\n",
    "Границей аномальных заказов будем считать 28 000"
   ]
  },
  {
   "cell_type": "markdown",
   "metadata": {},
   "source": [
    "### **Посчитайте статистическую значимость различий в среднем количестве заказов на посетителя между группами по «сырым» данным. Сделайте выводы и предположения.**"
   ]
  },
  {
   "cell_type": "markdown",
   "metadata": {},
   "source": [
    "Сформулируем гипотезы.  \n",
    "Нулевая: различий в среднем количестве заказов на посетителя между группами нет.  \n",
    "Альтернативная: различия в среднем количестве заказов на посетителя между группами есть.  \n",
    "\n",
    "Использовать будем Непараметрический тест Уилкоксона-Манна-Уитни, для того что бы убрать влияние выбросов на результаты теста.\n",
    "\n",
    "Главное отличие непараметрических методов в том, что они работают с рангами, — номерами значений в упорядоченном ряду, — никак не учитывая сами значения. Поэтому к ним прибегают тогда, когда работа с самими значениями невозможна из-за выбросов, сильно сдвигающих параметрические результаты."
   ]
  },
  {
   "cell_type": "code",
   "execution_count": 33,
   "metadata": {},
   "outputs": [
    {
     "name": "stdout",
     "output_type": "stream",
     "text": [
      "0.017\n",
      "0.138\n"
     ]
    }
   ],
   "source": [
    "ordersByUsersA = (\n",
    "    orders[orders['group'] == 'A']\n",
    "    .groupby('visitorId', as_index=False)\n",
    "    .agg({'transactionId': pd.Series.nunique})\n",
    ")\n",
    "ordersByUsersA.columns = ['userId', 'orders']\n",
    "\n",
    "ordersByUsersB = (\n",
    "    orders[orders['group'] == 'B']\n",
    "    .groupby('visitorId', as_index=False)\n",
    "    .agg({'transactionId': pd.Series.nunique})\n",
    ")\n",
    "ordersByUsersB.columns = ['userId', 'orders']\n",
    "\n",
    "sampleA = pd.concat(\n",
    "    [\n",
    "        ordersByUsersA['orders'],\n",
    "        pd.Series(\n",
    "            0,\n",
    "            index=np.arange(\n",
    "                visitors.groupby('group').agg({'visitors': 'sum'}).visitors[0] - len(ordersByUsersA['orders'])\n",
    "            ),\n",
    "            name='orders',\n",
    "        ),\n",
    "    ],\n",
    "    axis=0,\n",
    ")\n",
    "\n",
    "sampleB = pd.concat(\n",
    "    [\n",
    "        ordersByUsersB['orders'],\n",
    "        pd.Series(\n",
    "            0,\n",
    "            index=np.arange(\n",
    "                visitors.groupby('group').agg({'visitors': 'sum'}).visitors[1] - len(ordersByUsersB['orders'])\n",
    "            ),\n",
    "            name='orders',\n",
    "        ),\n",
    "    ],\n",
    "    axis=0,\n",
    ")\n",
    "\n",
    "print(\"{0:.3f}\".format(stats.mannwhitneyu(sampleA, sampleB)[1]))\n",
    "\n",
    "print(\"{0:.3f}\".format(sampleB.mean() / sampleA.mean() - 1))"
   ]
  },
  {
   "cell_type": "markdown",
   "metadata": {},
   "source": [
    "P-value = 0.017 меньше 0,05 значит отвергаем Нулевую гипотезу в пользу Альтернативной - группы различны.  \n",
    "Т.е мы наблюдаем различия в среднем количестве заказов на посетителя между группами по «сырым» данным.  \n",
    "Относительный выигрыш группы В равен 13,8%"
   ]
  },
  {
   "cell_type": "markdown",
   "metadata": {},
   "source": [
    "### **Посчитайте статистическую значимость различий в среднем чеке заказа между группами по «сырым» данным. Сделайте выводы и предположения.**"
   ]
  },
  {
   "cell_type": "markdown",
   "metadata": {},
   "source": [
    "Нулевая гипотеза: различий в среднем чеке между группами нет.   \n",
    "Альтернативная гипотеза: различия в среднем чеке между группами есть."
   ]
  },
  {
   "cell_type": "code",
   "execution_count": 34,
   "metadata": {},
   "outputs": [
    {
     "name": "stdout",
     "output_type": "stream",
     "text": [
      "0.729\n",
      "0.259\n"
     ]
    }
   ],
   "source": [
    "print('{0:.3f}'.format(stats.mannwhitneyu(orders[orders['group']=='A']['revenue'], orders[orders['group']=='B']['revenue'])[1]))\n",
    "print('{0:.3f}'.format(orders[orders['group']=='B']['revenue'].mean()/orders[orders['group']=='A']['revenue'].mean()-1)) "
   ]
  },
  {
   "cell_type": "markdown",
   "metadata": {},
   "source": [
    "P-value = 0.729 что больше уровня стат.значимости 0,05. Причин отвергать нулевую гипотезу нет. А значит, различий в среднем чеке между группами нет.\n",
    "\n",
    "Относительные различия в среднем чеке между группами: Средний чек группы В относительно группы А больше на 25.9%  \n",
    "Существенная относительная разница при отсутствии статистической значимости указывает на влияние выбросов на метрику."
   ]
  },
  {
   "cell_type": "markdown",
   "metadata": {},
   "source": [
    "### **Посчитайте статистическую значимость различий в среднем количестве заказов на посетителя между группами по «очищенным» данным. Сделайте выводы и предположения.**"
   ]
  },
  {
   "cell_type": "markdown",
   "metadata": {},
   "source": [
    "Для очищения данных, напомним ранее обозначенные границы по аномальным значениям.\n",
    "\n",
    "Колличество заказов для одного пользователя больше 2х\n",
    "Сумма заказа более 28 000"
   ]
  },
  {
   "cell_type": "code",
   "execution_count": 35,
   "metadata": {},
   "outputs": [
    {
     "name": "stdout",
     "output_type": "stream",
     "text": [
      "1099    148427295\n",
      "18      199603092\n",
      "928     204675465\n",
      "23      237748145\n",
      "37      249864742\n",
      "dtype: int64\n",
      "\n",
      "Всего аномальных пользователей: 74\n"
     ]
    }
   ],
   "source": [
    "usersWithManyOrders = pd.concat(\n",
    "    [\n",
    "        ordersByUsersA[ordersByUsersA['orders'] > 2]['userId'],\n",
    "        ordersByUsersB[ordersByUsersB['orders'] > 2]['userId'],\n",
    "    ],\n",
    "    axis=0,\n",
    ")\n",
    "usersWithExpensiveOrders = orders[orders['revenue'] > 28000]['visitorId']\n",
    "abnormalUsers = (\n",
    "    pd.concat([usersWithManyOrders, usersWithExpensiveOrders], axis=0)\n",
    "    .drop_duplicates()\n",
    "    .sort_values()\n",
    ")\n",
    "print(abnormalUsers.head(5))\n",
    "print()\n",
    "print('Всего аномальных пользователей:',abnormalUsers.shape[0]) "
   ]
  },
  {
   "cell_type": "code",
   "execution_count": 36,
   "metadata": {},
   "outputs": [],
   "source": [
    "sampleAFiltered = pd.concat(\n",
    "    [\n",
    "        ordersByUsersA[\n",
    "            np.logical_not(ordersByUsersA['userId'].isin(abnormalUsers))\n",
    "        ]['orders'],\n",
    "        pd.Series(\n",
    "            0,\n",
    "            index=np.arange(\n",
    "                visitors.groupby('group').agg({'visitors': 'sum'}).visitors[0] - len(ordersByUsersA['orders'])\n",
    "            ),\n",
    "            name='orders',\n",
    "        ),\n",
    "    ],\n",
    "    axis=0,\n",
    ")\n",
    "\n",
    "sampleBFiltered = pd.concat(\n",
    "    [\n",
    "        ordersByUsersB[\n",
    "            np.logical_not(ordersByUsersB['userId'].isin(abnormalUsers))\n",
    "        ]['orders'],\n",
    "        pd.Series(\n",
    "            0,\n",
    "            index=np.arange(\n",
    "                visitors.groupby('group').agg({'visitors': 'sum'}).visitors[1] - len(ordersByUsersB['orders'])\n",
    "            ),\n",
    "            name='orders',\n",
    "        ),\n",
    "    ],\n",
    "    axis=0,\n",
    ")"
   ]
  },
  {
   "cell_type": "code",
   "execution_count": 37,
   "metadata": {},
   "outputs": [
    {
     "name": "stdout",
     "output_type": "stream",
     "text": [
      "0.013\n",
      "0.173\n"
     ]
    }
   ],
   "source": [
    "print('{0:.3f}'.format(stats.mannwhitneyu(sampleAFiltered, sampleBFiltered)[1]))\n",
    "print('{0:.3f}'.format(sampleBFiltered.mean()/sampleAFiltered.mean()-1))"
   ]
  },
  {
   "cell_type": "markdown",
   "metadata": {},
   "source": [
    "Было 0.017 и 0.138  \n",
    "Стало 0.013 и 0.173  \n",
    "\n",
    "Результаты по среднему количеству заказов практически не изменились.\n",
    "\n",
    "P-value = 0.013 меньше 0,05 значит мы все так же придерживаемся Альтернативной гипотезы - группы различны.  \n",
    "Т.е мы наблюдаем различия в среднем количестве заказов на посетителя между группами по «очищенным» данным.  \n",
    "Относительный выигрыш группы В увеличился до 17.3 %"
   ]
  },
  {
   "cell_type": "markdown",
   "metadata": {},
   "source": [
    "### **Посчитайте статистическую значимость различий в среднем чеке заказа между группами по «очищенным» данным. Сделайте выводы и предположения.**"
   ]
  },
  {
   "cell_type": "code",
   "execution_count": 38,
   "metadata": {},
   "outputs": [
    {
     "name": "stdout",
     "output_type": "stream",
     "text": [
      "0.738\n",
      "-0.020\n"
     ]
    }
   ],
   "source": [
    "print(\n",
    "    '{0:.3f}'.format(\n",
    "        stats.mannwhitneyu(\n",
    "            orders[\n",
    "                np.logical_and(\n",
    "                    orders['group'] == 'A',\n",
    "                    np.logical_not(orders['visitorId'].isin(abnormalUsers)),\n",
    "                )\n",
    "            ]['revenue'],\n",
    "            orders[\n",
    "                np.logical_and(\n",
    "                    orders['group'] == 'B',\n",
    "                    np.logical_not(orders['visitorId'].isin(abnormalUsers)),\n",
    "                )\n",
    "            ]['revenue'],\n",
    "        )[1]\n",
    "    )\n",
    ")\n",
    "\n",
    "print(\n",
    "    \"{0:.3f}\".format(\n",
    "        orders[\n",
    "            np.logical_and(\n",
    "                orders['group'] == 'B',\n",
    "                np.logical_not(orders['visitorId'].isin(abnormalUsers)),\n",
    "            )\n",
    "        ]['revenue'].mean()\n",
    "        / orders[\n",
    "            np.logical_and(\n",
    "                orders['group'] == 'A',\n",
    "                np.logical_not(orders['visitorId'].isin(abnormalUsers)),\n",
    "            )\n",
    "        ]['revenue'].mean()\n",
    "        - 1\n",
    "    )\n",
    ")"
   ]
  },
  {
   "cell_type": "markdown",
   "metadata": {},
   "source": [
    "Было 0.729 и 0.259  \n",
    "Стало 0.738 и -0.020  \n",
    "\n",
    "Результаты частично изменились:  \n",
    "P-value = 0.738  так и остался больше уровня стат.значимости 0,05. Причин отвергать нулевую гипотезу нет. А значит, различий в среднем чеке между группами по прежнему нет.\n",
    "\n",
    "Относительные различия в среднем чеке между группами: Средний чек группы В стал хуже относительно группы А на 2 %, соедовательно аномалии действительно влияли на средний чек."
   ]
  },
  {
   "cell_type": "markdown",
   "metadata": {},
   "source": [
    "**Оценка влияния пользователей  пересекающихся по группам.**\n",
    "\n",
    "Проанализируем как пересекающиеся пользователи по двум группам, могли повлиять на результаты теста.\n",
    "Обратимся к датафрейму orders2 который хранит данные очищенные от пересекающихся пользователей.\n",
    "Проведем аналогичные стат тесты и соотнесем результаты."
   ]
  },
  {
   "cell_type": "code",
   "execution_count": 39,
   "metadata": {},
   "outputs": [
    {
     "name": "stdout",
     "output_type": "stream",
     "text": [
      "0.011\n",
      "0.160\n"
     ]
    }
   ],
   "source": [
    "ordersByUsersA = (\n",
    "    orders2[orders2['group'] == 'A']\n",
    "    .groupby('visitorId', as_index=False)\n",
    "    .agg({'transactionId': pd.Series.nunique})\n",
    ")\n",
    "ordersByUsersA.columns = ['userId', 'orders']\n",
    "\n",
    "ordersByUsersB = (\n",
    "    orders2[orders2['group'] == 'B']\n",
    "    .groupby('visitorId', as_index=False)\n",
    "    .agg({'transactionId': pd.Series.nunique})\n",
    ")\n",
    "ordersByUsersB.columns = ['userId', 'orders']\n",
    "\n",
    "sampleA = pd.concat(\n",
    "    [\n",
    "        ordersByUsersA['orders'],\n",
    "        pd.Series(\n",
    "            0,\n",
    "            index=np.arange(\n",
    "                visitors.groupby('group').agg({'visitors': 'sum'}).visitors[0] - len(ordersByUsersA['orders'])\n",
    "            ),\n",
    "            name='orders',\n",
    "        ),\n",
    "    ],\n",
    "    axis=0,\n",
    ")\n",
    "\n",
    "sampleB = pd.concat(\n",
    "    [\n",
    "        ordersByUsersB['orders'],\n",
    "        pd.Series(\n",
    "            0,\n",
    "            index=np.arange(\n",
    "                visitors.groupby('group').agg({'visitors': 'sum'}).visitors[1] - len(ordersByUsersB['orders'])\n",
    "            ),\n",
    "            name='orders',\n",
    "        ),\n",
    "    ],\n",
    "    axis=0,\n",
    ")\n",
    "\n",
    "print(\"{0:.3f}\".format(stats.mannwhitneyu(sampleA, sampleB)[1]))\n",
    "\n",
    "print(\"{0:.3f}\".format(sampleB.mean() / sampleA.mean() - 1))"
   ]
  },
  {
   "cell_type": "code",
   "execution_count": 40,
   "metadata": {},
   "outputs": [
    {
     "name": "stdout",
     "output_type": "stream",
     "text": [
      "0.009\n",
      "0.189\n"
     ]
    }
   ],
   "source": [
    "sampleAFiltered = pd.concat(\n",
    "    [\n",
    "        ordersByUsersA[\n",
    "            np.logical_not(ordersByUsersA['userId'].isin(abnormalUsers))\n",
    "        ]['orders'],\n",
    "        pd.Series(\n",
    "            0,\n",
    "            index=np.arange(\n",
    "                visitors.groupby('group').agg({'visitors': 'sum'}).visitors[0] - len(ordersByUsersA['orders'])\n",
    "            ),\n",
    "            name='orders',\n",
    "        ),\n",
    "    ],\n",
    "    axis=0,\n",
    ")\n",
    "\n",
    "sampleBFiltered = pd.concat(\n",
    "    [\n",
    "        ordersByUsersB[\n",
    "            np.logical_not(ordersByUsersB['userId'].isin(abnormalUsers))\n",
    "        ]['orders'],\n",
    "        pd.Series(\n",
    "            0,\n",
    "            index=np.arange(\n",
    "                visitors.groupby('group').agg({'visitors': 'sum'}).visitors[1] - len(ordersByUsersB['orders'])\n",
    "            ),\n",
    "            name='orders',\n",
    "        ),\n",
    "    ],\n",
    "    axis=0,\n",
    ")\n",
    "\n",
    "print('{0:.3f}'.format(stats.mannwhitneyu(sampleAFiltered, sampleBFiltered)[1]))\n",
    "print('{0:.3f}'.format(sampleBFiltered.mean()/sampleAFiltered.mean()-1))"
   ]
  },
  {
   "cell_type": "markdown",
   "metadata": {},
   "source": [
    "Различия в среднем количестве заказов на посетителя  \n",
    "было 0.011 и 0.160  \n",
    "стало 0.009 и 0.189  "
   ]
  },
  {
   "cell_type": "code",
   "execution_count": 41,
   "metadata": {},
   "outputs": [
    {
     "name": "stdout",
     "output_type": "stream",
     "text": [
      "0.829\n",
      "0.287\n"
     ]
    }
   ],
   "source": [
    "print('{0:.3f}'.format(stats.mannwhitneyu(orders2[orders2['group']=='A']['revenue'],\\\n",
    "                                          orders2[orders2['group']=='B']['revenue'])[1]))\n",
    "print('{0:.3f}'.format(orders2[orders2['group']=='B']['revenue'].mean()/orders2[orders2['group']=='A']['revenue'].mean()-1)) "
   ]
  },
  {
   "cell_type": "code",
   "execution_count": 42,
   "metadata": {},
   "outputs": [
    {
     "name": "stdout",
     "output_type": "stream",
     "text": [
      "0.762\n",
      "-0.022\n"
     ]
    },
    {
     "name": "stderr",
     "output_type": "stream",
     "text": [
      "/tmp/ipykernel_48/3894730692.py:4: UserWarning: Boolean Series key will be reindexed to match DataFrame index.\n",
      "  orders2[\n",
      "/tmp/ipykernel_48/3894730692.py:10: UserWarning: Boolean Series key will be reindexed to match DataFrame index.\n",
      "  orders2[\n",
      "/tmp/ipykernel_48/3894730692.py:22: UserWarning: Boolean Series key will be reindexed to match DataFrame index.\n",
      "  orders2[\n",
      "/tmp/ipykernel_48/3894730692.py:28: UserWarning: Boolean Series key will be reindexed to match DataFrame index.\n",
      "  / orders2[\n"
     ]
    }
   ],
   "source": [
    "print(\n",
    "    '{0:.3f}'.format(\n",
    "        stats.mannwhitneyu(\n",
    "            orders2[\n",
    "                np.logical_and(\n",
    "                    orders2['group'] == 'A',\n",
    "                    np.logical_not(orders['visitorId'].isin(abnormalUsers)),\n",
    "                )\n",
    "            ]['revenue'],\n",
    "            orders2[\n",
    "                np.logical_and(\n",
    "                    orders2['group'] == 'B',\n",
    "                    np.logical_not(orders['visitorId'].isin(abnormalUsers)),\n",
    "                )\n",
    "            ]['revenue'],\n",
    "        )[1]\n",
    "    )\n",
    ")\n",
    "\n",
    "print(\n",
    "    \"{0:.3f}\".format(\n",
    "        orders2[\n",
    "            np.logical_and(\n",
    "                orders2['group'] == 'B',\n",
    "                np.logical_not(orders['visitorId'].isin(abnormalUsers)),\n",
    "            )\n",
    "        ]['revenue'].mean()\n",
    "        / orders2[\n",
    "            np.logical_and(\n",
    "                orders2['group'] == 'A',\n",
    "                np.logical_not(orders['visitorId'].isin(abnormalUsers)),\n",
    "            )\n",
    "        ]['revenue'].mean()\n",
    "        - 1\n",
    "    )\n",
    ")"
   ]
  },
  {
   "cell_type": "markdown",
   "metadata": {},
   "source": [
    "Различия в среднем чеке заказа  \n",
    "Было 0.829 и 0.287  \n",
    "стало 0.762 и -0.022"
   ]
  },
  {
   "cell_type": "markdown",
   "metadata": {},
   "source": [
    "Проанализируем как на результаты повлияло удаление пересекающихся пользователей.\n",
    "\n",
    "**До удаления пересекающихся пользователей в двух группах:**\n",
    "    \n",
    "- Различия в среднем количестве заказов на посетителя  \n",
    "Было 0.017(p-value) и 13,8 (относительное различие группы В к А, в %)  сырые  \n",
    "Стало 0.013 и 17.3  очищенные  \n",
    "\n",
    "- Различия в среднем чеке заказа  \n",
    "Было 0.729 и 25.9  сырые  \n",
    "Стало 0.738 и -2  очищенные  \n",
    "\n",
    "**После удаления пересекающихся пользователей в двух группах:**\n",
    "\n",
    "- Различия в среднем количестве заказов на посетителя  \n",
    "Было 0.011 и 16.0  \n",
    "Стало 0.009 и 18.9  \n",
    "\n",
    "- Различия в среднем чеке заказа  \n",
    "Было 0.829 и 28.7  \n",
    "Стало 0.762 и -2.2 \n",
    "\n",
    "Следовательно можно сделать вывод о том, что покупатели пересекающиеся по двум группам, не оказывают сильного влияния на полученные результаты статистических тестов. Данные изменения никак не изменили бы полученные результаты стат.тестов."
   ]
  },
  {
   "cell_type": "markdown",
   "metadata": {},
   "source": [
    "### **Примите решение по результатам теста и объясните его. Варианты решений:**"
   ]
  },
  {
   "cell_type": "markdown",
   "metadata": {},
   "source": [
    "**Проанализируем имеющиеся факты:**\n",
    "- Есть статистически значимые различия по среднему количеству заказов на посетителя между группами как по \"сырым\" так и по \"очищенным\" данным\n",
    "- Нет статистически значимого различия по среднему чеку между группами ни по «сырым», ни по данным после фильтрации аномалий;\n",
    "- По графику относительного изменения кумулятивных конверсий группа В относительно группы А лучше примерно 15%;\n",
    "- По графику относительного изменения кумулятивного среднего чека группы В отличается в большую сторону примерно на 25%.  \n",
    "\n",
    "Исходя из обнаруженных фактов вероятность того что группа А на самом деле лучше группы В крайне мала поэтому:\n",
    "\n",
    "Необходимо Остановить тест, и зафиксировать победу группы В."
   ]
  }
 ],
 "metadata": {
  "ExecuteTimeLog": [
   {
    "duration": 112,
    "start_time": "2022-12-19T16:16:14.701Z"
   },
   {
    "duration": 437,
    "start_time": "2022-12-19T16:46:26.778Z"
   },
   {
    "duration": 7,
    "start_time": "2022-12-19T16:46:34.967Z"
   },
   {
    "duration": 434,
    "start_time": "2022-12-19T16:47:28.866Z"
   },
   {
    "duration": 72,
    "start_time": "2022-12-19T16:48:50.160Z"
   },
   {
    "duration": 46,
    "start_time": "2022-12-19T16:48:52.760Z"
   },
   {
    "duration": 34,
    "start_time": "2022-12-19T16:56:27.931Z"
   },
   {
    "duration": 12,
    "start_time": "2022-12-19T16:56:36.592Z"
   },
   {
    "duration": 12,
    "start_time": "2022-12-19T16:56:49.240Z"
   },
   {
    "duration": 11,
    "start_time": "2022-12-19T16:57:04.207Z"
   },
   {
    "duration": 10,
    "start_time": "2022-12-19T16:58:59.555Z"
   },
   {
    "duration": 49,
    "start_time": "2022-12-19T17:02:17.023Z"
   },
   {
    "duration": 16,
    "start_time": "2022-12-19T17:02:48.320Z"
   },
   {
    "duration": 8,
    "start_time": "2022-12-19T17:03:18.560Z"
   },
   {
    "duration": 10,
    "start_time": "2022-12-19T17:04:49.672Z"
   },
   {
    "duration": 297,
    "start_time": "2022-12-19T17:04:59.576Z"
   },
   {
    "duration": 3,
    "start_time": "2022-12-19T17:05:17.321Z"
   },
   {
    "duration": 16,
    "start_time": "2022-12-19T17:05:22.383Z"
   },
   {
    "duration": 5,
    "start_time": "2022-12-19T17:07:11.576Z"
   },
   {
    "duration": 8,
    "start_time": "2022-12-19T17:07:13.875Z"
   },
   {
    "duration": 9,
    "start_time": "2022-12-19T17:07:36.337Z"
   },
   {
    "duration": 9,
    "start_time": "2022-12-19T17:07:44.905Z"
   },
   {
    "duration": 4,
    "start_time": "2022-12-19T17:07:50.481Z"
   },
   {
    "duration": 10,
    "start_time": "2022-12-19T17:07:53.592Z"
   },
   {
    "duration": 795,
    "start_time": "2022-12-19T17:09:19.896Z"
   },
   {
    "duration": 39,
    "start_time": "2022-12-19T17:09:20.693Z"
   },
   {
    "duration": 11,
    "start_time": "2022-12-19T17:09:20.734Z"
   },
   {
    "duration": 14,
    "start_time": "2022-12-19T17:09:20.747Z"
   },
   {
    "duration": 18,
    "start_time": "2022-12-19T17:09:20.763Z"
   },
   {
    "duration": 20,
    "start_time": "2022-12-19T17:09:20.782Z"
   },
   {
    "duration": 105,
    "start_time": "2022-12-19T17:17:44.472Z"
   },
   {
    "duration": 79,
    "start_time": "2022-12-19T17:18:20.122Z"
   },
   {
    "duration": 103,
    "start_time": "2022-12-19T17:40:08.209Z"
   },
   {
    "duration": 8,
    "start_time": "2022-12-19T17:40:21.031Z"
   },
   {
    "duration": 21,
    "start_time": "2022-12-19T17:43:58.867Z"
   },
   {
    "duration": 13,
    "start_time": "2022-12-19T17:44:30.987Z"
   },
   {
    "duration": 1491,
    "start_time": "2022-12-19T17:44:47.822Z"
   },
   {
    "duration": 807,
    "start_time": "2022-12-19T17:45:20.581Z"
   },
   {
    "duration": 39,
    "start_time": "2022-12-19T17:45:21.390Z"
   },
   {
    "duration": 9,
    "start_time": "2022-12-19T17:45:21.430Z"
   },
   {
    "duration": 19,
    "start_time": "2022-12-19T17:45:21.441Z"
   },
   {
    "duration": 1566,
    "start_time": "2022-12-19T17:45:21.462Z"
   },
   {
    "duration": 14,
    "start_time": "2022-12-19T17:45:56.647Z"
   },
   {
    "duration": 4,
    "start_time": "2022-12-19T17:46:04.987Z"
   },
   {
    "duration": 11,
    "start_time": "2022-12-19T18:29:07.863Z"
   },
   {
    "duration": 174,
    "start_time": "2022-12-19T18:29:10.440Z"
   },
   {
    "duration": 25,
    "start_time": "2022-12-19T18:29:12.442Z"
   },
   {
    "duration": 13,
    "start_time": "2022-12-19T18:30:35.042Z"
   },
   {
    "duration": 13,
    "start_time": "2022-12-19T18:30:42.426Z"
   },
   {
    "duration": 16,
    "start_time": "2022-12-19T18:31:00.867Z"
   },
   {
    "duration": 14,
    "start_time": "2022-12-19T18:32:39.683Z"
   },
   {
    "duration": 17,
    "start_time": "2022-12-19T18:39:27.030Z"
   },
   {
    "duration": 85,
    "start_time": "2022-12-19T18:40:36.683Z"
   },
   {
    "duration": 32,
    "start_time": "2022-12-19T18:40:42.593Z"
   },
   {
    "duration": 30,
    "start_time": "2022-12-19T18:40:42.627Z"
   },
   {
    "duration": 16,
    "start_time": "2022-12-19T18:40:45.622Z"
   },
   {
    "duration": 32,
    "start_time": "2022-12-19T18:43:47.624Z"
   },
   {
    "duration": 30,
    "start_time": "2022-12-19T18:43:53.335Z"
   },
   {
    "duration": 17,
    "start_time": "2022-12-19T18:44:18.167Z"
   },
   {
    "duration": 7,
    "start_time": "2022-12-19T18:46:29.713Z"
   },
   {
    "duration": 9,
    "start_time": "2022-12-19T18:46:31.424Z"
   },
   {
    "duration": 25,
    "start_time": "2022-12-19T18:48:56.380Z"
   },
   {
    "duration": 45,
    "start_time": "2022-12-19T18:56:13.740Z"
   },
   {
    "duration": 356,
    "start_time": "2022-12-19T18:58:43.746Z"
   },
   {
    "duration": 339,
    "start_time": "2022-12-19T18:58:50.701Z"
   },
   {
    "duration": 13,
    "start_time": "2022-12-19T19:02:32.312Z"
   },
   {
    "duration": 466,
    "start_time": "2022-12-19T19:02:45.144Z"
   },
   {
    "duration": 349,
    "start_time": "2022-12-19T19:03:12.448Z"
   },
   {
    "duration": 192,
    "start_time": "2022-12-19T19:04:31.818Z"
   },
   {
    "duration": 379,
    "start_time": "2022-12-19T19:05:29.644Z"
   },
   {
    "duration": 202,
    "start_time": "2022-12-19T19:05:56.628Z"
   },
   {
    "duration": 212,
    "start_time": "2022-12-19T19:06:28.036Z"
   },
   {
    "duration": 223,
    "start_time": "2022-12-19T19:06:37.485Z"
   },
   {
    "duration": 191,
    "start_time": "2022-12-19T19:08:59.382Z"
   },
   {
    "duration": 209,
    "start_time": "2022-12-19T19:09:31.879Z"
   },
   {
    "duration": 347,
    "start_time": "2022-12-19T19:10:12.229Z"
   },
   {
    "duration": 193,
    "start_time": "2022-12-19T19:10:20.156Z"
   },
   {
    "duration": 213,
    "start_time": "2022-12-19T19:10:38.213Z"
   },
   {
    "duration": 85,
    "start_time": "2022-12-19T19:21:16.152Z"
   },
   {
    "duration": 242,
    "start_time": "2022-12-19T19:21:42.328Z"
   },
   {
    "duration": 238,
    "start_time": "2022-12-19T19:21:53.275Z"
   },
   {
    "duration": 268,
    "start_time": "2022-12-19T19:22:27.809Z"
   },
   {
    "duration": 74,
    "start_time": "2022-12-19T19:41:03.959Z"
   },
   {
    "duration": 304,
    "start_time": "2022-12-19T19:43:06.500Z"
   },
   {
    "duration": 338,
    "start_time": "2022-12-19T19:43:26.942Z"
   },
   {
    "duration": 285,
    "start_time": "2022-12-19T19:43:33.686Z"
   },
   {
    "duration": 364,
    "start_time": "2022-12-19T19:44:34.239Z"
   },
   {
    "duration": 68,
    "start_time": "2022-12-19T19:48:25.665Z"
   },
   {
    "duration": 206,
    "start_time": "2022-12-19T19:52:36.870Z"
   },
   {
    "duration": 216,
    "start_time": "2022-12-19T19:53:22.048Z"
   },
   {
    "duration": 335,
    "start_time": "2022-12-19T19:53:34.801Z"
   },
   {
    "duration": 295,
    "start_time": "2022-12-19T19:58:28.410Z"
   },
   {
    "duration": 315,
    "start_time": "2022-12-19T20:00:18.761Z"
   },
   {
    "duration": 329,
    "start_time": "2022-12-19T20:00:24.226Z"
   },
   {
    "duration": 295,
    "start_time": "2022-12-19T20:01:37.171Z"
   },
   {
    "duration": 331,
    "start_time": "2022-12-19T20:07:24.550Z"
   },
   {
    "duration": 45,
    "start_time": "2022-12-20T11:44:17.566Z"
   },
   {
    "duration": 1152,
    "start_time": "2022-12-20T11:44:24.205Z"
   },
   {
    "duration": 132,
    "start_time": "2022-12-20T11:44:25.359Z"
   },
   {
    "duration": 9,
    "start_time": "2022-12-20T11:44:25.492Z"
   },
   {
    "duration": 8,
    "start_time": "2022-12-20T11:44:25.503Z"
   },
   {
    "duration": 6,
    "start_time": "2022-12-20T11:44:25.513Z"
   },
   {
    "duration": 141,
    "start_time": "2022-12-20T11:44:25.520Z"
   },
   {
    "duration": 12,
    "start_time": "2022-12-20T11:44:25.663Z"
   },
   {
    "duration": 268,
    "start_time": "2022-12-20T11:44:25.676Z"
   },
   {
    "duration": 276,
    "start_time": "2022-12-20T11:44:25.945Z"
   },
   {
    "duration": 202,
    "start_time": "2022-12-20T11:44:26.224Z"
   },
   {
    "duration": 367,
    "start_time": "2022-12-20T11:44:26.428Z"
   },
   {
    "duration": 210,
    "start_time": "2022-12-20T11:44:26.797Z"
   },
   {
    "duration": 319,
    "start_time": "2022-12-20T11:44:27.009Z"
   },
   {
    "duration": 106,
    "start_time": "2022-12-20T11:44:27.329Z"
   },
   {
    "duration": 11,
    "start_time": "2022-12-20T11:49:25.255Z"
   },
   {
    "duration": 8,
    "start_time": "2022-12-20T11:49:47.279Z"
   },
   {
    "duration": 8,
    "start_time": "2022-12-20T11:50:06.071Z"
   },
   {
    "duration": 14,
    "start_time": "2022-12-20T11:50:22.066Z"
   },
   {
    "duration": 10,
    "start_time": "2022-12-20T11:50:30.143Z"
   },
   {
    "duration": 8,
    "start_time": "2022-12-20T11:51:00.847Z"
   },
   {
    "duration": 11,
    "start_time": "2022-12-20T11:51:05.744Z"
   },
   {
    "duration": 13,
    "start_time": "2022-12-20T11:51:41.345Z"
   },
   {
    "duration": 11,
    "start_time": "2022-12-20T11:52:53.208Z"
   },
   {
    "duration": 8,
    "start_time": "2022-12-20T11:54:10.161Z"
   },
   {
    "duration": 12,
    "start_time": "2022-12-20T11:54:27.041Z"
   },
   {
    "duration": 16,
    "start_time": "2022-12-20T11:54:56.024Z"
   },
   {
    "duration": 26,
    "start_time": "2022-12-20T12:57:37.366Z"
   },
   {
    "duration": 8,
    "start_time": "2022-12-20T12:57:39.671Z"
   },
   {
    "duration": 63,
    "start_time": "2022-12-20T13:00:03.768Z"
   },
   {
    "duration": 21,
    "start_time": "2022-12-20T13:00:05.904Z"
   },
   {
    "duration": 1028,
    "start_time": "2022-12-20T13:02:48.986Z"
   },
   {
    "duration": 55,
    "start_time": "2022-12-20T13:02:50.016Z"
   },
   {
    "duration": 15,
    "start_time": "2022-12-20T13:02:50.073Z"
   },
   {
    "duration": 18,
    "start_time": "2022-12-20T13:02:50.091Z"
   },
   {
    "duration": 9,
    "start_time": "2022-12-20T13:02:50.111Z"
   },
   {
    "duration": 18,
    "start_time": "2022-12-20T13:02:50.122Z"
   },
   {
    "duration": 61,
    "start_time": "2022-12-20T13:02:50.141Z"
   },
   {
    "duration": 24,
    "start_time": "2022-12-20T13:02:50.204Z"
   },
   {
    "duration": 273,
    "start_time": "2022-12-20T13:02:50.230Z"
   },
   {
    "duration": 289,
    "start_time": "2022-12-20T13:02:50.506Z"
   },
   {
    "duration": 199,
    "start_time": "2022-12-20T13:02:50.797Z"
   },
   {
    "duration": 281,
    "start_time": "2022-12-20T13:02:50.998Z"
   },
   {
    "duration": 194,
    "start_time": "2022-12-20T13:02:51.281Z"
   },
   {
    "duration": 315,
    "start_time": "2022-12-20T13:02:51.478Z"
   },
   {
    "duration": 90,
    "start_time": "2022-12-20T13:55:11.430Z"
   },
   {
    "duration": 8,
    "start_time": "2022-12-20T13:56:13.577Z"
   },
   {
    "duration": 103,
    "start_time": "2022-12-20T13:56:41.369Z"
   },
   {
    "duration": 99,
    "start_time": "2022-12-20T13:56:48.007Z"
   },
   {
    "duration": 104,
    "start_time": "2022-12-20T13:56:51.249Z"
   },
   {
    "duration": 99,
    "start_time": "2022-12-20T13:56:55.854Z"
   },
   {
    "duration": 175,
    "start_time": "2022-12-20T13:59:01.443Z"
   },
   {
    "duration": 116,
    "start_time": "2022-12-20T13:59:10.514Z"
   },
   {
    "duration": 112,
    "start_time": "2022-12-20T13:59:19.811Z"
   },
   {
    "duration": 161,
    "start_time": "2022-12-20T14:01:43.999Z"
   },
   {
    "duration": 135,
    "start_time": "2022-12-20T14:04:26.479Z"
   },
   {
    "duration": 134,
    "start_time": "2022-12-20T14:04:54.838Z"
   },
   {
    "duration": 4,
    "start_time": "2022-12-20T14:08:24.552Z"
   },
   {
    "duration": 68,
    "start_time": "2022-12-20T14:12:48.754Z"
   },
   {
    "duration": 5,
    "start_time": "2022-12-20T14:12:54.049Z"
   },
   {
    "duration": 4,
    "start_time": "2022-12-20T14:12:58.762Z"
   },
   {
    "duration": 4,
    "start_time": "2022-12-20T14:15:52.276Z"
   },
   {
    "duration": 70,
    "start_time": "2022-12-20T14:18:51.939Z"
   },
   {
    "duration": 112,
    "start_time": "2022-12-20T14:20:50.510Z"
   },
   {
    "duration": 111,
    "start_time": "2022-12-20T14:20:56.278Z"
   },
   {
    "duration": 133,
    "start_time": "2022-12-20T14:21:13.895Z"
   },
   {
    "duration": 115,
    "start_time": "2022-12-20T14:21:36.326Z"
   },
   {
    "duration": 164,
    "start_time": "2022-12-20T14:23:08.954Z"
   },
   {
    "duration": 71,
    "start_time": "2022-12-20T14:23:56.096Z"
   },
   {
    "duration": 4,
    "start_time": "2022-12-20T14:37:21.501Z"
   },
   {
    "duration": 4,
    "start_time": "2022-12-20T14:37:38.078Z"
   },
   {
    "duration": 4,
    "start_time": "2022-12-20T14:38:30.095Z"
   },
   {
    "duration": 68,
    "start_time": "2022-12-20T14:39:39.607Z"
   },
   {
    "duration": 4,
    "start_time": "2022-12-20T14:39:45.647Z"
   },
   {
    "duration": 4,
    "start_time": "2022-12-20T14:39:53.575Z"
   },
   {
    "duration": 4,
    "start_time": "2022-12-20T14:39:59.119Z"
   },
   {
    "duration": 4,
    "start_time": "2022-12-20T14:40:08.776Z"
   },
   {
    "duration": 4,
    "start_time": "2022-12-20T14:40:25.504Z"
   },
   {
    "duration": 4,
    "start_time": "2022-12-20T14:40:46.639Z"
   },
   {
    "duration": 4,
    "start_time": "2022-12-20T14:41:03.864Z"
   },
   {
    "duration": 9,
    "start_time": "2022-12-20T15:34:41.280Z"
   },
   {
    "duration": 12,
    "start_time": "2022-12-20T15:34:45.415Z"
   },
   {
    "duration": 167,
    "start_time": "2022-12-20T15:35:39.217Z"
   },
   {
    "duration": 15,
    "start_time": "2022-12-20T15:36:35.543Z"
   },
   {
    "duration": 1229,
    "start_time": "2022-12-20T15:37:31.026Z"
   },
   {
    "duration": 96,
    "start_time": "2022-12-20T15:39:35.340Z"
   },
   {
    "duration": 102,
    "start_time": "2022-12-20T15:41:03.139Z"
   },
   {
    "duration": 208,
    "start_time": "2022-12-20T15:41:37.068Z"
   },
   {
    "duration": 15,
    "start_time": "2022-12-20T15:42:29.332Z"
   },
   {
    "duration": 134,
    "start_time": "2022-12-20T15:43:16.533Z"
   },
   {
    "duration": 14,
    "start_time": "2022-12-20T16:13:21.737Z"
   },
   {
    "duration": 13,
    "start_time": "2022-12-20T16:14:24.858Z"
   },
   {
    "duration": 10,
    "start_time": "2022-12-20T16:14:51.033Z"
   },
   {
    "duration": 1180,
    "start_time": "2022-12-20T17:05:28.516Z"
   },
   {
    "duration": 8,
    "start_time": "2022-12-20T17:06:19.996Z"
   },
   {
    "duration": 17,
    "start_time": "2022-12-20T17:06:34.259Z"
   },
   {
    "duration": 11,
    "start_time": "2022-12-20T17:06:47.373Z"
   },
   {
    "duration": 8,
    "start_time": "2022-12-20T17:12:08.598Z"
   },
   {
    "duration": 24,
    "start_time": "2022-12-20T17:12:24.376Z"
   },
   {
    "duration": 1115,
    "start_time": "2022-12-20T17:24:54.046Z"
   },
   {
    "duration": 12,
    "start_time": "2022-12-20T17:25:56.318Z"
   },
   {
    "duration": 51,
    "start_time": "2022-12-21T12:20:30.022Z"
   },
   {
    "duration": 1225,
    "start_time": "2022-12-21T12:20:38.715Z"
   },
   {
    "duration": 127,
    "start_time": "2022-12-21T12:20:39.943Z"
   },
   {
    "duration": 23,
    "start_time": "2022-12-21T12:20:40.072Z"
   },
   {
    "duration": 41,
    "start_time": "2022-12-21T12:20:40.097Z"
   },
   {
    "duration": 29,
    "start_time": "2022-12-21T12:20:40.140Z"
   },
   {
    "duration": 43,
    "start_time": "2022-12-21T12:20:40.170Z"
   },
   {
    "duration": 145,
    "start_time": "2022-12-21T12:20:40.215Z"
   },
   {
    "duration": 37,
    "start_time": "2022-12-21T12:20:40.362Z"
   },
   {
    "duration": 20,
    "start_time": "2022-12-21T12:20:40.400Z"
   },
   {
    "duration": 335,
    "start_time": "2022-12-21T12:20:40.423Z"
   },
   {
    "duration": 327,
    "start_time": "2022-12-21T12:20:40.760Z"
   },
   {
    "duration": 211,
    "start_time": "2022-12-21T12:20:41.090Z"
   },
   {
    "duration": 333,
    "start_time": "2022-12-21T12:20:41.303Z"
   },
   {
    "duration": 253,
    "start_time": "2022-12-21T12:20:41.638Z"
   },
   {
    "duration": 322,
    "start_time": "2022-12-21T12:20:41.893Z"
   },
   {
    "duration": 10,
    "start_time": "2022-12-21T12:20:42.217Z"
   },
   {
    "duration": 124,
    "start_time": "2022-12-21T12:20:42.229Z"
   },
   {
    "duration": 159,
    "start_time": "2022-12-21T12:20:42.355Z"
   },
   {
    "duration": 4,
    "start_time": "2022-12-21T12:20:42.516Z"
   },
   {
    "duration": 182,
    "start_time": "2022-12-21T12:20:42.522Z"
   },
   {
    "duration": 4,
    "start_time": "2022-12-21T12:20:42.706Z"
   },
   {
    "duration": 21,
    "start_time": "2022-12-21T12:20:42.712Z"
   },
   {
    "duration": 256,
    "start_time": "2022-12-21T12:20:42.735Z"
   },
   {
    "duration": 170,
    "start_time": "2022-12-21T12:20:42.994Z"
   },
   {
    "duration": 18,
    "start_time": "2022-12-21T12:20:43.166Z"
   },
   {
    "duration": 16,
    "start_time": "2022-12-21T12:20:43.185Z"
   },
   {
    "duration": 43,
    "start_time": "2022-12-21T12:20:43.203Z"
   },
   {
    "duration": 38,
    "start_time": "2022-12-21T12:20:43.250Z"
   },
   {
    "duration": 19,
    "start_time": "2022-12-21T12:20:43.290Z"
   },
   {
    "duration": 14,
    "start_time": "2022-12-21T12:21:01.109Z"
   },
   {
    "duration": 69,
    "start_time": "2022-12-21T12:21:15.004Z"
   },
   {
    "duration": 27,
    "start_time": "2022-12-21T12:21:24.267Z"
   },
   {
    "duration": 6,
    "start_time": "2022-12-21T12:21:57.091Z"
   },
   {
    "duration": 12,
    "start_time": "2022-12-21T12:24:30.005Z"
   },
   {
    "duration": 14,
    "start_time": "2022-12-21T12:24:33.993Z"
   },
   {
    "duration": 15,
    "start_time": "2022-12-21T12:24:59.859Z"
   },
   {
    "duration": 10,
    "start_time": "2022-12-21T12:26:03.456Z"
   },
   {
    "duration": 7,
    "start_time": "2022-12-21T12:26:27.997Z"
   },
   {
    "duration": 7,
    "start_time": "2022-12-21T12:26:53.910Z"
   },
   {
    "duration": 8,
    "start_time": "2022-12-21T12:26:59.161Z"
   },
   {
    "duration": 18,
    "start_time": "2022-12-21T12:31:07.831Z"
   },
   {
    "duration": 7,
    "start_time": "2022-12-21T12:31:29.400Z"
   },
   {
    "duration": 54,
    "start_time": "2022-12-21T15:27:56.069Z"
   },
   {
    "duration": 1279,
    "start_time": "2022-12-21T15:28:05.354Z"
   },
   {
    "duration": 138,
    "start_time": "2022-12-21T15:28:06.635Z"
   },
   {
    "duration": 14,
    "start_time": "2022-12-21T15:28:06.775Z"
   },
   {
    "duration": 21,
    "start_time": "2022-12-21T15:28:06.790Z"
   },
   {
    "duration": 22,
    "start_time": "2022-12-21T15:28:06.813Z"
   },
   {
    "duration": 17,
    "start_time": "2022-12-21T15:28:06.836Z"
   },
   {
    "duration": 139,
    "start_time": "2022-12-21T15:28:06.855Z"
   },
   {
    "duration": 37,
    "start_time": "2022-12-21T15:28:06.996Z"
   },
   {
    "duration": 26,
    "start_time": "2022-12-21T15:28:07.036Z"
   },
   {
    "duration": 7,
    "start_time": "2022-12-21T15:28:07.064Z"
   },
   {
    "duration": 9,
    "start_time": "2022-12-21T15:28:07.072Z"
   },
   {
    "duration": 310,
    "start_time": "2022-12-21T15:28:07.083Z"
   },
   {
    "duration": 293,
    "start_time": "2022-12-21T15:28:07.394Z"
   },
   {
    "duration": 234,
    "start_time": "2022-12-21T15:28:07.690Z"
   },
   {
    "duration": 346,
    "start_time": "2022-12-21T15:28:07.926Z"
   },
   {
    "duration": 243,
    "start_time": "2022-12-21T15:28:08.274Z"
   },
   {
    "duration": 360,
    "start_time": "2022-12-21T15:28:08.522Z"
   },
   {
    "duration": 9,
    "start_time": "2022-12-21T15:28:08.884Z"
   },
   {
    "duration": 136,
    "start_time": "2022-12-21T15:28:08.895Z"
   },
   {
    "duration": 150,
    "start_time": "2022-12-21T15:28:09.043Z"
   },
   {
    "duration": 4,
    "start_time": "2022-12-21T15:28:09.195Z"
   },
   {
    "duration": 172,
    "start_time": "2022-12-21T15:28:09.201Z"
   },
   {
    "duration": 4,
    "start_time": "2022-12-21T15:28:09.375Z"
   },
   {
    "duration": 30,
    "start_time": "2022-12-21T15:28:09.381Z"
   },
   {
    "duration": 233,
    "start_time": "2022-12-21T15:28:09.413Z"
   },
   {
    "duration": 206,
    "start_time": "2022-12-21T15:28:09.647Z"
   },
   {
    "duration": 14,
    "start_time": "2022-12-21T15:28:09.855Z"
   },
   {
    "duration": 11,
    "start_time": "2022-12-21T15:28:09.871Z"
   },
   {
    "duration": 14,
    "start_time": "2022-12-21T15:28:09.884Z"
   },
   {
    "duration": 46,
    "start_time": "2022-12-21T15:28:09.900Z"
   },
   {
    "duration": 15,
    "start_time": "2022-12-21T15:28:09.948Z"
   },
   {
    "duration": 75,
    "start_time": "2022-12-21T16:32:27.744Z"
   },
   {
    "duration": 71,
    "start_time": "2022-12-21T16:32:39.462Z"
   },
   {
    "duration": 1296,
    "start_time": "2022-12-21T16:32:46.247Z"
   },
   {
    "duration": 1101,
    "start_time": "2022-12-21T16:33:02.584Z"
   },
   {
    "duration": 3,
    "start_time": "2022-12-21T16:33:22.067Z"
   },
   {
    "duration": 13,
    "start_time": "2022-12-21T16:33:26.903Z"
   },
   {
    "duration": 6,
    "start_time": "2022-12-21T16:33:39.022Z"
   },
   {
    "duration": 12,
    "start_time": "2022-12-21T16:34:19.911Z"
   },
   {
    "duration": 6,
    "start_time": "2022-12-21T16:35:08.360Z"
   },
   {
    "duration": 6,
    "start_time": "2022-12-21T16:41:37.099Z"
   },
   {
    "duration": 13,
    "start_time": "2022-12-21T16:46:51.987Z"
   },
   {
    "duration": 13,
    "start_time": "2022-12-21T16:47:14.175Z"
   },
   {
    "duration": 71,
    "start_time": "2022-12-21T16:49:12.051Z"
   },
   {
    "duration": 14,
    "start_time": "2022-12-21T16:57:39.823Z"
   },
   {
    "duration": 84,
    "start_time": "2022-12-21T17:22:23.522Z"
   },
   {
    "duration": 71,
    "start_time": "2022-12-21T17:22:29.211Z"
   },
   {
    "duration": 71,
    "start_time": "2022-12-21T17:22:46.369Z"
   },
   {
    "duration": 12,
    "start_time": "2022-12-21T17:22:59.779Z"
   },
   {
    "duration": 72,
    "start_time": "2022-12-21T17:24:06.860Z"
   },
   {
    "duration": 14,
    "start_time": "2022-12-21T17:24:11.003Z"
   },
   {
    "duration": 14,
    "start_time": "2022-12-21T17:24:29.879Z"
   },
   {
    "duration": 11,
    "start_time": "2022-12-21T17:27:00.116Z"
   },
   {
    "duration": 9,
    "start_time": "2022-12-21T17:45:22.300Z"
   },
   {
    "duration": 7,
    "start_time": "2022-12-21T17:45:26.164Z"
   },
   {
    "duration": 11,
    "start_time": "2022-12-21T17:45:44.756Z"
   },
   {
    "duration": 16,
    "start_time": "2022-12-21T17:49:17.063Z"
   },
   {
    "duration": 18,
    "start_time": "2022-12-21T17:49:30.424Z"
   },
   {
    "duration": 18,
    "start_time": "2022-12-21T17:49:45.654Z"
   },
   {
    "duration": 17,
    "start_time": "2022-12-21T17:50:00.664Z"
   },
   {
    "duration": 10,
    "start_time": "2022-12-21T18:15:19.923Z"
   },
   {
    "duration": 15,
    "start_time": "2022-12-21T18:17:18.804Z"
   },
   {
    "duration": 14,
    "start_time": "2022-12-21T18:17:36.149Z"
   },
   {
    "duration": 72,
    "start_time": "2022-12-21T18:21:38.655Z"
   },
   {
    "duration": 9,
    "start_time": "2022-12-21T18:21:48.270Z"
   },
   {
    "duration": 10,
    "start_time": "2022-12-21T18:53:10.794Z"
   },
   {
    "duration": 3,
    "start_time": "2022-12-21T18:53:37.373Z"
   },
   {
    "duration": 7,
    "start_time": "2022-12-21T18:53:39.261Z"
   },
   {
    "duration": 11,
    "start_time": "2022-12-21T18:56:04.678Z"
   },
   {
    "duration": 76,
    "start_time": "2022-12-21T18:56:31.109Z"
   },
   {
    "duration": 77,
    "start_time": "2022-12-21T18:56:54.046Z"
   },
   {
    "duration": 68,
    "start_time": "2022-12-21T18:57:09.589Z"
   },
   {
    "duration": 66,
    "start_time": "2022-12-21T18:57:20.102Z"
   },
   {
    "duration": 12,
    "start_time": "2022-12-21T18:57:42.630Z"
   },
   {
    "duration": 12,
    "start_time": "2022-12-21T18:59:08.345Z"
   },
   {
    "duration": 6,
    "start_time": "2022-12-21T20:23:37.693Z"
   },
   {
    "duration": 8,
    "start_time": "2022-12-21T20:27:48.423Z"
   },
   {
    "duration": 7,
    "start_time": "2022-12-21T20:28:00.094Z"
   },
   {
    "duration": 27,
    "start_time": "2022-12-21T20:29:23.184Z"
   },
   {
    "duration": 38,
    "start_time": "2022-12-21T20:29:57.894Z"
   },
   {
    "duration": 7,
    "start_time": "2022-12-21T20:30:02.144Z"
   },
   {
    "duration": 4,
    "start_time": "2022-12-21T20:30:18.794Z"
   },
   {
    "duration": 1044,
    "start_time": "2022-12-21T20:30:32.794Z"
   },
   {
    "duration": 80,
    "start_time": "2022-12-21T20:30:33.840Z"
   },
   {
    "duration": 13,
    "start_time": "2022-12-21T20:30:33.921Z"
   },
   {
    "duration": 9,
    "start_time": "2022-12-21T20:30:33.936Z"
   },
   {
    "duration": 10,
    "start_time": "2022-12-21T20:30:33.946Z"
   },
   {
    "duration": 15,
    "start_time": "2022-12-21T20:30:33.957Z"
   },
   {
    "duration": 57,
    "start_time": "2022-12-21T20:30:33.974Z"
   },
   {
    "duration": 30,
    "start_time": "2022-12-21T20:30:34.033Z"
   },
   {
    "duration": 43,
    "start_time": "2022-12-21T20:30:34.065Z"
   },
   {
    "duration": 5,
    "start_time": "2022-12-21T20:30:34.111Z"
   },
   {
    "duration": 14,
    "start_time": "2022-12-21T20:30:34.119Z"
   },
   {
    "duration": 18,
    "start_time": "2022-12-21T20:30:34.135Z"
   },
   {
    "duration": 20,
    "start_time": "2022-12-21T20:30:34.155Z"
   },
   {
    "duration": 11,
    "start_time": "2022-12-21T20:30:34.178Z"
   },
   {
    "duration": 23,
    "start_time": "2022-12-21T20:30:34.191Z"
   },
   {
    "duration": 305,
    "start_time": "2022-12-21T20:30:34.216Z"
   },
   {
    "duration": 270,
    "start_time": "2022-12-21T20:30:34.523Z"
   },
   {
    "duration": 199,
    "start_time": "2022-12-21T20:30:34.794Z"
   },
   {
    "duration": 311,
    "start_time": "2022-12-21T20:30:34.995Z"
   },
   {
    "duration": 205,
    "start_time": "2022-12-21T20:30:35.308Z"
   },
   {
    "duration": 312,
    "start_time": "2022-12-21T20:30:35.522Z"
   },
   {
    "duration": 12,
    "start_time": "2022-12-21T20:30:35.836Z"
   },
   {
    "duration": 124,
    "start_time": "2022-12-21T20:30:35.850Z"
   },
   {
    "duration": 147,
    "start_time": "2022-12-21T20:30:35.976Z"
   },
   {
    "duration": 4,
    "start_time": "2022-12-21T20:30:36.125Z"
   },
   {
    "duration": 165,
    "start_time": "2022-12-21T20:30:36.131Z"
   },
   {
    "duration": 5,
    "start_time": "2022-12-21T20:30:36.307Z"
   },
   {
    "duration": 13,
    "start_time": "2022-12-21T20:30:36.321Z"
   },
   {
    "duration": 224,
    "start_time": "2022-12-21T20:30:36.336Z"
   },
   {
    "duration": 153,
    "start_time": "2022-12-21T20:30:36.562Z"
   },
   {
    "duration": 13,
    "start_time": "2022-12-21T20:30:36.717Z"
   },
   {
    "duration": 16,
    "start_time": "2022-12-21T20:30:36.731Z"
   },
   {
    "duration": 9,
    "start_time": "2022-12-21T20:30:36.749Z"
   },
   {
    "duration": 20,
    "start_time": "2022-12-21T20:30:36.759Z"
   },
   {
    "duration": 14,
    "start_time": "2022-12-21T20:30:36.781Z"
   },
   {
    "duration": 104,
    "start_time": "2022-12-21T20:33:38.121Z"
   },
   {
    "duration": 25,
    "start_time": "2022-12-21T20:33:51.492Z"
   },
   {
    "duration": 7,
    "start_time": "2022-12-21T20:33:56.005Z"
   },
   {
    "duration": 8,
    "start_time": "2022-12-21T20:34:10.649Z"
   },
   {
    "duration": 21,
    "start_time": "2022-12-21T20:34:27.613Z"
   },
   {
    "duration": 3,
    "start_time": "2022-12-21T20:35:05.266Z"
   },
   {
    "duration": 5,
    "start_time": "2022-12-21T20:36:37.306Z"
   },
   {
    "duration": 9,
    "start_time": "2022-12-21T20:37:09.242Z"
   },
   {
    "duration": 6,
    "start_time": "2022-12-21T20:38:20.563Z"
   },
   {
    "duration": 9,
    "start_time": "2022-12-21T20:38:47.900Z"
   },
   {
    "duration": 4,
    "start_time": "2022-12-21T20:38:52.610Z"
   },
   {
    "duration": 6,
    "start_time": "2022-12-21T20:39:16.884Z"
   },
   {
    "duration": 1030,
    "start_time": "2022-12-21T20:39:34.299Z"
   },
   {
    "duration": 79,
    "start_time": "2022-12-21T20:39:35.331Z"
   },
   {
    "duration": 13,
    "start_time": "2022-12-21T20:39:35.414Z"
   },
   {
    "duration": 12,
    "start_time": "2022-12-21T20:39:35.429Z"
   },
   {
    "duration": 8,
    "start_time": "2022-12-21T20:39:35.443Z"
   },
   {
    "duration": 5,
    "start_time": "2022-12-21T20:39:35.453Z"
   },
   {
    "duration": 54,
    "start_time": "2022-12-21T20:39:35.460Z"
   },
   {
    "duration": 22,
    "start_time": "2022-12-21T20:39:35.516Z"
   },
   {
    "duration": 15,
    "start_time": "2022-12-21T20:39:35.540Z"
   },
   {
    "duration": 4,
    "start_time": "2022-12-21T20:39:35.557Z"
   },
   {
    "duration": 19,
    "start_time": "2022-12-21T20:39:35.562Z"
   },
   {
    "duration": 15,
    "start_time": "2022-12-21T20:39:35.582Z"
   },
   {
    "duration": 9,
    "start_time": "2022-12-21T20:39:35.598Z"
   },
   {
    "duration": 22,
    "start_time": "2022-12-21T20:39:35.608Z"
   },
   {
    "duration": 8,
    "start_time": "2022-12-21T20:39:35.632Z"
   },
   {
    "duration": 20,
    "start_time": "2022-12-21T20:39:35.641Z"
   },
   {
    "duration": 17,
    "start_time": "2022-12-21T20:39:35.662Z"
   },
   {
    "duration": 19,
    "start_time": "2022-12-21T20:39:35.681Z"
   },
   {
    "duration": 293,
    "start_time": "2022-12-21T20:39:35.701Z"
   },
   {
    "duration": 276,
    "start_time": "2022-12-21T20:39:35.996Z"
   },
   {
    "duration": 193,
    "start_time": "2022-12-21T20:39:36.274Z"
   },
   {
    "duration": 266,
    "start_time": "2022-12-21T20:39:36.468Z"
   },
   {
    "duration": 195,
    "start_time": "2022-12-21T20:39:36.736Z"
   },
   {
    "duration": 297,
    "start_time": "2022-12-21T20:39:36.932Z"
   },
   {
    "duration": 9,
    "start_time": "2022-12-21T20:39:37.231Z"
   },
   {
    "duration": 132,
    "start_time": "2022-12-21T20:39:37.241Z"
   },
   {
    "duration": 159,
    "start_time": "2022-12-21T20:39:37.377Z"
   },
   {
    "duration": 4,
    "start_time": "2022-12-21T20:39:37.537Z"
   },
   {
    "duration": 146,
    "start_time": "2022-12-21T20:39:37.543Z"
   },
   {
    "duration": 4,
    "start_time": "2022-12-21T20:39:37.691Z"
   },
   {
    "duration": 32,
    "start_time": "2022-12-21T20:39:37.696Z"
   },
   {
    "duration": 217,
    "start_time": "2022-12-21T20:39:37.730Z"
   },
   {
    "duration": 150,
    "start_time": "2022-12-21T20:39:37.949Z"
   },
   {
    "duration": 9,
    "start_time": "2022-12-21T20:39:38.100Z"
   },
   {
    "duration": 23,
    "start_time": "2022-12-21T20:39:38.111Z"
   },
   {
    "duration": 29,
    "start_time": "2022-12-21T20:39:38.135Z"
   },
   {
    "duration": 31,
    "start_time": "2022-12-21T20:39:38.165Z"
   },
   {
    "duration": 13,
    "start_time": "2022-12-21T20:39:38.198Z"
   },
   {
    "duration": 89,
    "start_time": "2022-12-21T20:43:46.269Z"
   },
   {
    "duration": 1028,
    "start_time": "2022-12-21T20:43:56.063Z"
   },
   {
    "duration": 83,
    "start_time": "2022-12-21T20:43:57.093Z"
   },
   {
    "duration": 12,
    "start_time": "2022-12-21T20:43:57.177Z"
   },
   {
    "duration": 9,
    "start_time": "2022-12-21T20:43:57.191Z"
   },
   {
    "duration": 20,
    "start_time": "2022-12-21T20:43:57.202Z"
   },
   {
    "duration": 5,
    "start_time": "2022-12-21T20:43:57.224Z"
   },
   {
    "duration": 51,
    "start_time": "2022-12-21T20:43:57.230Z"
   },
   {
    "duration": 23,
    "start_time": "2022-12-21T20:43:57.283Z"
   },
   {
    "duration": 14,
    "start_time": "2022-12-21T20:43:57.308Z"
   },
   {
    "duration": 5,
    "start_time": "2022-12-21T20:43:57.324Z"
   },
   {
    "duration": 9,
    "start_time": "2022-12-21T20:43:57.330Z"
   },
   {
    "duration": 4,
    "start_time": "2022-12-21T20:43:57.341Z"
   },
   {
    "duration": 11,
    "start_time": "2022-12-21T20:43:57.347Z"
   },
   {
    "duration": 10,
    "start_time": "2022-12-21T20:43:57.360Z"
   },
   {
    "duration": 8,
    "start_time": "2022-12-21T20:43:57.372Z"
   },
   {
    "duration": 13,
    "start_time": "2022-12-21T20:43:57.381Z"
   },
   {
    "duration": 31,
    "start_time": "2022-12-21T20:43:57.395Z"
   },
   {
    "duration": 13,
    "start_time": "2022-12-21T20:43:57.427Z"
   },
   {
    "duration": 299,
    "start_time": "2022-12-21T20:43:57.441Z"
   },
   {
    "duration": 271,
    "start_time": "2022-12-21T20:43:57.742Z"
   },
   {
    "duration": 199,
    "start_time": "2022-12-21T20:43:58.014Z"
   },
   {
    "duration": 314,
    "start_time": "2022-12-21T20:43:58.215Z"
   },
   {
    "duration": 209,
    "start_time": "2022-12-21T20:43:58.531Z"
   },
   {
    "duration": 319,
    "start_time": "2022-12-21T20:43:58.741Z"
   },
   {
    "duration": 10,
    "start_time": "2022-12-21T20:43:59.062Z"
   },
   {
    "duration": 121,
    "start_time": "2022-12-21T20:43:59.074Z"
   },
   {
    "duration": 139,
    "start_time": "2022-12-21T20:43:59.197Z"
   },
   {
    "duration": 4,
    "start_time": "2022-12-21T20:43:59.340Z"
   },
   {
    "duration": 159,
    "start_time": "2022-12-21T20:43:59.345Z"
   },
   {
    "duration": 5,
    "start_time": "2022-12-21T20:43:59.506Z"
   },
   {
    "duration": 22,
    "start_time": "2022-12-21T20:43:59.512Z"
   },
   {
    "duration": 252,
    "start_time": "2022-12-21T20:43:59.536Z"
   },
   {
    "duration": 199,
    "start_time": "2022-12-21T20:43:59.790Z"
   },
   {
    "duration": 9,
    "start_time": "2022-12-21T20:43:59.990Z"
   },
   {
    "duration": 25,
    "start_time": "2022-12-21T20:44:00.001Z"
   },
   {
    "duration": 16,
    "start_time": "2022-12-21T20:44:00.027Z"
   },
   {
    "duration": 23,
    "start_time": "2022-12-21T20:44:00.044Z"
   },
   {
    "duration": 13,
    "start_time": "2022-12-21T20:44:00.069Z"
   },
   {
    "duration": 4,
    "start_time": "2022-12-21T20:44:17.892Z"
   },
   {
    "duration": 4,
    "start_time": "2022-12-21T20:44:26.013Z"
   },
   {
    "duration": 5,
    "start_time": "2022-12-21T20:44:42.755Z"
   },
   {
    "duration": 4,
    "start_time": "2022-12-21T20:46:54.269Z"
   },
   {
    "duration": 2,
    "start_time": "2022-12-21T20:47:05.405Z"
   },
   {
    "duration": 1076,
    "start_time": "2022-12-21T20:48:07.496Z"
   },
   {
    "duration": 84,
    "start_time": "2022-12-21T20:48:08.573Z"
   },
   {
    "duration": 11,
    "start_time": "2022-12-21T20:48:08.658Z"
   },
   {
    "duration": 14,
    "start_time": "2022-12-21T20:48:08.671Z"
   },
   {
    "duration": 12,
    "start_time": "2022-12-21T20:48:08.687Z"
   },
   {
    "duration": 23,
    "start_time": "2022-12-21T20:48:08.700Z"
   },
   {
    "duration": 58,
    "start_time": "2022-12-21T20:48:08.724Z"
   },
   {
    "duration": 23,
    "start_time": "2022-12-21T20:48:08.784Z"
   },
   {
    "duration": 19,
    "start_time": "2022-12-21T20:48:08.808Z"
   },
   {
    "duration": 6,
    "start_time": "2022-12-21T20:48:08.830Z"
   },
   {
    "duration": 12,
    "start_time": "2022-12-21T20:48:08.838Z"
   },
   {
    "duration": 15,
    "start_time": "2022-12-21T20:48:08.851Z"
   },
   {
    "duration": 8,
    "start_time": "2022-12-21T20:48:08.868Z"
   },
   {
    "duration": 16,
    "start_time": "2022-12-21T20:48:08.877Z"
   },
   {
    "duration": 12,
    "start_time": "2022-12-21T20:48:08.894Z"
   },
   {
    "duration": 19,
    "start_time": "2022-12-21T20:48:08.908Z"
   },
   {
    "duration": 284,
    "start_time": "2022-12-21T20:48:08.929Z"
   },
   {
    "duration": 268,
    "start_time": "2022-12-21T20:48:09.215Z"
   },
   {
    "duration": 184,
    "start_time": "2022-12-21T20:48:09.484Z"
   },
   {
    "duration": 295,
    "start_time": "2022-12-21T20:48:09.670Z"
   },
   {
    "duration": 212,
    "start_time": "2022-12-21T20:48:09.966Z"
   },
   {
    "duration": 335,
    "start_time": "2022-12-21T20:48:10.180Z"
   },
   {
    "duration": 12,
    "start_time": "2022-12-21T20:48:10.516Z"
   },
   {
    "duration": 117,
    "start_time": "2022-12-21T20:48:10.530Z"
   },
   {
    "duration": 141,
    "start_time": "2022-12-21T20:48:10.649Z"
   },
   {
    "duration": 4,
    "start_time": "2022-12-21T20:48:10.792Z"
   },
   {
    "duration": 157,
    "start_time": "2022-12-21T20:48:10.798Z"
   },
   {
    "duration": 4,
    "start_time": "2022-12-21T20:48:10.958Z"
   },
   {
    "duration": 16,
    "start_time": "2022-12-21T20:48:10.964Z"
   },
   {
    "duration": 232,
    "start_time": "2022-12-21T20:48:10.982Z"
   },
   {
    "duration": 175,
    "start_time": "2022-12-21T20:48:11.215Z"
   },
   {
    "duration": 11,
    "start_time": "2022-12-21T20:48:11.391Z"
   },
   {
    "duration": 22,
    "start_time": "2022-12-21T20:48:11.403Z"
   },
   {
    "duration": 9,
    "start_time": "2022-12-21T20:48:11.427Z"
   },
   {
    "duration": 22,
    "start_time": "2022-12-21T20:48:11.438Z"
   },
   {
    "duration": 15,
    "start_time": "2022-12-21T20:48:11.462Z"
   },
   {
    "duration": 8,
    "start_time": "2022-12-21T21:00:41.705Z"
   },
   {
    "duration": 975,
    "start_time": "2022-12-21T21:09:37.167Z"
   },
   {
    "duration": 85,
    "start_time": "2022-12-21T21:09:38.144Z"
   },
   {
    "duration": 12,
    "start_time": "2022-12-21T21:09:38.230Z"
   },
   {
    "duration": 9,
    "start_time": "2022-12-21T21:09:38.243Z"
   },
   {
    "duration": 8,
    "start_time": "2022-12-21T21:09:38.254Z"
   },
   {
    "duration": 4,
    "start_time": "2022-12-21T21:09:38.263Z"
   },
   {
    "duration": 53,
    "start_time": "2022-12-21T21:09:38.269Z"
   },
   {
    "duration": 24,
    "start_time": "2022-12-21T21:09:38.324Z"
   },
   {
    "duration": 15,
    "start_time": "2022-12-21T21:09:38.350Z"
   },
   {
    "duration": 6,
    "start_time": "2022-12-21T21:09:38.368Z"
   },
   {
    "duration": 122,
    "start_time": "2022-12-21T21:09:38.376Z"
   },
   {
    "duration": 0,
    "start_time": "2022-12-21T21:09:38.501Z"
   },
   {
    "duration": 0,
    "start_time": "2022-12-21T21:09:38.502Z"
   },
   {
    "duration": 0,
    "start_time": "2022-12-21T21:09:38.504Z"
   },
   {
    "duration": 0,
    "start_time": "2022-12-21T21:09:38.505Z"
   },
   {
    "duration": 0,
    "start_time": "2022-12-21T21:09:38.523Z"
   },
   {
    "duration": 0,
    "start_time": "2022-12-21T21:09:38.524Z"
   },
   {
    "duration": 0,
    "start_time": "2022-12-21T21:09:38.525Z"
   },
   {
    "duration": 0,
    "start_time": "2022-12-21T21:09:38.527Z"
   },
   {
    "duration": 0,
    "start_time": "2022-12-21T21:09:38.528Z"
   },
   {
    "duration": 0,
    "start_time": "2022-12-21T21:09:38.529Z"
   },
   {
    "duration": 0,
    "start_time": "2022-12-21T21:09:38.531Z"
   },
   {
    "duration": 0,
    "start_time": "2022-12-21T21:09:38.532Z"
   },
   {
    "duration": 0,
    "start_time": "2022-12-21T21:09:38.533Z"
   },
   {
    "duration": 0,
    "start_time": "2022-12-21T21:09:38.534Z"
   },
   {
    "duration": 0,
    "start_time": "2022-12-21T21:09:38.536Z"
   },
   {
    "duration": 0,
    "start_time": "2022-12-21T21:09:38.537Z"
   },
   {
    "duration": 0,
    "start_time": "2022-12-21T21:09:38.539Z"
   },
   {
    "duration": 0,
    "start_time": "2022-12-21T21:09:38.540Z"
   },
   {
    "duration": 0,
    "start_time": "2022-12-21T21:09:38.542Z"
   },
   {
    "duration": 0,
    "start_time": "2022-12-21T21:09:38.542Z"
   },
   {
    "duration": 0,
    "start_time": "2022-12-21T21:09:38.544Z"
   },
   {
    "duration": 0,
    "start_time": "2022-12-21T21:09:38.545Z"
   },
   {
    "duration": 0,
    "start_time": "2022-12-21T21:09:38.546Z"
   },
   {
    "duration": 0,
    "start_time": "2022-12-21T21:09:38.547Z"
   },
   {
    "duration": 0,
    "start_time": "2022-12-21T21:09:38.548Z"
   },
   {
    "duration": 963,
    "start_time": "2022-12-21T21:10:33.779Z"
   },
   {
    "duration": 63,
    "start_time": "2022-12-21T21:10:34.743Z"
   },
   {
    "duration": 23,
    "start_time": "2022-12-21T21:10:34.807Z"
   },
   {
    "duration": 9,
    "start_time": "2022-12-21T21:10:34.832Z"
   },
   {
    "duration": 8,
    "start_time": "2022-12-21T21:10:34.843Z"
   },
   {
    "duration": 11,
    "start_time": "2022-12-21T21:10:34.852Z"
   },
   {
    "duration": 54,
    "start_time": "2022-12-21T21:10:34.865Z"
   },
   {
    "duration": 28,
    "start_time": "2022-12-21T21:10:34.920Z"
   },
   {
    "duration": 15,
    "start_time": "2022-12-21T21:10:34.950Z"
   },
   {
    "duration": 5,
    "start_time": "2022-12-21T21:10:34.967Z"
   },
   {
    "duration": 9,
    "start_time": "2022-12-21T21:10:34.973Z"
   },
   {
    "duration": 5,
    "start_time": "2022-12-21T21:10:34.984Z"
   },
   {
    "duration": 5,
    "start_time": "2022-12-21T21:10:34.991Z"
   },
   {
    "duration": 13,
    "start_time": "2022-12-21T21:10:35.022Z"
   },
   {
    "duration": 8,
    "start_time": "2022-12-21T21:10:35.037Z"
   },
   {
    "duration": 16,
    "start_time": "2022-12-21T21:10:35.047Z"
   },
   {
    "duration": 293,
    "start_time": "2022-12-21T21:10:35.065Z"
   },
   {
    "duration": 262,
    "start_time": "2022-12-21T21:10:35.360Z"
   },
   {
    "duration": 189,
    "start_time": "2022-12-21T21:10:35.623Z"
   },
   {
    "duration": 292,
    "start_time": "2022-12-21T21:10:35.814Z"
   },
   {
    "duration": 204,
    "start_time": "2022-12-21T21:10:36.107Z"
   },
   {
    "duration": 312,
    "start_time": "2022-12-21T21:10:36.312Z"
   },
   {
    "duration": 11,
    "start_time": "2022-12-21T21:10:36.626Z"
   },
   {
    "duration": 137,
    "start_time": "2022-12-21T21:10:36.638Z"
   },
   {
    "duration": 159,
    "start_time": "2022-12-21T21:10:36.777Z"
   },
   {
    "duration": 4,
    "start_time": "2022-12-21T21:10:36.938Z"
   },
   {
    "duration": 150,
    "start_time": "2022-12-21T21:10:36.944Z"
   },
   {
    "duration": 4,
    "start_time": "2022-12-21T21:10:37.095Z"
   },
   {
    "duration": 22,
    "start_time": "2022-12-21T21:10:37.101Z"
   },
   {
    "duration": 221,
    "start_time": "2022-12-21T21:10:37.124Z"
   },
   {
    "duration": 148,
    "start_time": "2022-12-21T21:10:37.347Z"
   },
   {
    "duration": 9,
    "start_time": "2022-12-21T21:10:37.497Z"
   },
   {
    "duration": 16,
    "start_time": "2022-12-21T21:10:37.508Z"
   },
   {
    "duration": 13,
    "start_time": "2022-12-21T21:10:37.525Z"
   },
   {
    "duration": 21,
    "start_time": "2022-12-21T21:10:37.540Z"
   },
   {
    "duration": 13,
    "start_time": "2022-12-21T21:10:37.563Z"
   },
   {
    "duration": 1131,
    "start_time": "2022-12-22T11:19:58.019Z"
   },
   {
    "duration": 114,
    "start_time": "2022-12-22T11:19:59.152Z"
   },
   {
    "duration": 11,
    "start_time": "2022-12-22T11:19:59.268Z"
   },
   {
    "duration": 44,
    "start_time": "2022-12-22T11:19:59.280Z"
   },
   {
    "duration": 43,
    "start_time": "2022-12-22T11:19:59.326Z"
   },
   {
    "duration": 27,
    "start_time": "2022-12-22T11:19:59.371Z"
   },
   {
    "duration": 163,
    "start_time": "2022-12-22T11:19:59.400Z"
   },
   {
    "duration": 21,
    "start_time": "2022-12-22T11:19:59.565Z"
   },
   {
    "duration": 52,
    "start_time": "2022-12-22T11:19:59.588Z"
   },
   {
    "duration": 40,
    "start_time": "2022-12-22T11:19:59.643Z"
   },
   {
    "duration": 24,
    "start_time": "2022-12-22T11:19:59.685Z"
   },
   {
    "duration": 25,
    "start_time": "2022-12-22T11:19:59.711Z"
   },
   {
    "duration": 34,
    "start_time": "2022-12-22T11:19:59.738Z"
   },
   {
    "duration": 30,
    "start_time": "2022-12-22T11:19:59.774Z"
   },
   {
    "duration": 15,
    "start_time": "2022-12-22T11:19:59.806Z"
   },
   {
    "duration": 28,
    "start_time": "2022-12-22T11:19:59.823Z"
   },
   {
    "duration": 332,
    "start_time": "2022-12-22T11:19:59.853Z"
   },
   {
    "duration": 272,
    "start_time": "2022-12-22T11:20:00.186Z"
   },
   {
    "duration": 194,
    "start_time": "2022-12-22T11:20:00.461Z"
   },
   {
    "duration": 358,
    "start_time": "2022-12-22T11:20:00.657Z"
   },
   {
    "duration": 197,
    "start_time": "2022-12-22T11:20:01.017Z"
   },
   {
    "duration": 294,
    "start_time": "2022-12-22T11:20:01.216Z"
   },
   {
    "duration": 11,
    "start_time": "2022-12-22T11:20:01.512Z"
   },
   {
    "duration": 174,
    "start_time": "2022-12-22T11:20:01.525Z"
   },
   {
    "duration": 156,
    "start_time": "2022-12-22T11:20:01.701Z"
   },
   {
    "duration": 4,
    "start_time": "2022-12-22T11:20:01.859Z"
   },
   {
    "duration": 176,
    "start_time": "2022-12-22T11:20:01.865Z"
   },
   {
    "duration": 4,
    "start_time": "2022-12-22T11:20:02.044Z"
   },
   {
    "duration": 16,
    "start_time": "2022-12-22T11:20:02.050Z"
   },
   {
    "duration": 239,
    "start_time": "2022-12-22T11:20:02.068Z"
   },
   {
    "duration": 188,
    "start_time": "2022-12-22T11:20:02.309Z"
   },
   {
    "duration": 11,
    "start_time": "2022-12-22T11:20:02.499Z"
   },
   {
    "duration": 8,
    "start_time": "2022-12-22T11:20:02.511Z"
   },
   {
    "duration": 17,
    "start_time": "2022-12-22T11:20:02.521Z"
   },
   {
    "duration": 24,
    "start_time": "2022-12-22T11:20:02.540Z"
   },
   {
    "duration": 38,
    "start_time": "2022-12-22T11:20:02.566Z"
   },
   {
    "duration": 107,
    "start_time": "2022-12-22T11:24:30.091Z"
   },
   {
    "duration": 12,
    "start_time": "2022-12-22T11:24:35.277Z"
   },
   {
    "duration": 13,
    "start_time": "2022-12-22T11:26:15.591Z"
   },
   {
    "duration": 6,
    "start_time": "2022-12-22T11:26:47.159Z"
   },
   {
    "duration": 9,
    "start_time": "2022-12-22T11:31:36.025Z"
   },
   {
    "duration": 9,
    "start_time": "2022-12-22T11:32:02.761Z"
   },
   {
    "duration": 8,
    "start_time": "2022-12-22T11:32:14.424Z"
   },
   {
    "duration": 13,
    "start_time": "2022-12-22T11:33:42.042Z"
   },
   {
    "duration": 14,
    "start_time": "2022-12-22T11:34:27.792Z"
   },
   {
    "duration": 13,
    "start_time": "2022-12-22T11:35:10.602Z"
   },
   {
    "duration": 7,
    "start_time": "2022-12-22T11:35:40.386Z"
   },
   {
    "duration": 13,
    "start_time": "2022-12-22T11:54:27.018Z"
   },
   {
    "duration": 9,
    "start_time": "2022-12-22T11:55:03.346Z"
   },
   {
    "duration": 13,
    "start_time": "2022-12-22T12:03:30.312Z"
   },
   {
    "duration": 8,
    "start_time": "2022-12-22T12:03:45.192Z"
   },
   {
    "duration": 46,
    "start_time": "2022-12-22T12:18:00.966Z"
   },
   {
    "duration": 7,
    "start_time": "2022-12-22T12:28:42.509Z"
   },
   {
    "duration": 12,
    "start_time": "2022-12-22T12:58:14.526Z"
   },
   {
    "duration": 7,
    "start_time": "2022-12-22T13:06:33.817Z"
   },
   {
    "duration": 9,
    "start_time": "2022-12-22T13:06:57.226Z"
   },
   {
    "duration": 7,
    "start_time": "2022-12-22T13:09:34.218Z"
   },
   {
    "duration": 211,
    "start_time": "2022-12-22T13:17:34.438Z"
   },
   {
    "duration": 159,
    "start_time": "2022-12-22T13:18:30.873Z"
   },
   {
    "duration": 28,
    "start_time": "2022-12-22T13:21:45.894Z"
   },
   {
    "duration": 271,
    "start_time": "2022-12-22T13:22:00.320Z"
   },
   {
    "duration": 11,
    "start_time": "2022-12-22T13:24:13.960Z"
   },
   {
    "duration": 16,
    "start_time": "2022-12-22T13:24:52.177Z"
   },
   {
    "duration": 34,
    "start_time": "2022-12-22T13:58:41.839Z"
   },
   {
    "duration": 4,
    "start_time": "2022-12-22T14:14:01.903Z"
   },
   {
    "duration": 7,
    "start_time": "2022-12-22T14:14:06.054Z"
   },
   {
    "duration": 57,
    "start_time": "2022-12-22T14:58:14.720Z"
   },
   {
    "duration": 50,
    "start_time": "2022-12-22T14:59:54.014Z"
   },
   {
    "duration": 13,
    "start_time": "2022-12-22T15:01:01.222Z"
   },
   {
    "duration": 64,
    "start_time": "2022-12-22T15:01:25.224Z"
   },
   {
    "duration": 1029,
    "start_time": "2022-12-22T15:44:33.911Z"
   },
   {
    "duration": 64,
    "start_time": "2022-12-22T15:44:34.942Z"
   },
   {
    "duration": 17,
    "start_time": "2022-12-22T15:44:35.008Z"
   },
   {
    "duration": 9,
    "start_time": "2022-12-22T15:44:35.026Z"
   },
   {
    "duration": 9,
    "start_time": "2022-12-22T15:44:35.037Z"
   },
   {
    "duration": 7,
    "start_time": "2022-12-22T15:44:35.048Z"
   },
   {
    "duration": 56,
    "start_time": "2022-12-22T15:44:35.057Z"
   },
   {
    "duration": 23,
    "start_time": "2022-12-22T15:44:35.114Z"
   },
   {
    "duration": 15,
    "start_time": "2022-12-22T15:44:35.139Z"
   },
   {
    "duration": 6,
    "start_time": "2022-12-22T15:44:35.156Z"
   },
   {
    "duration": 13,
    "start_time": "2022-12-22T15:44:35.163Z"
   },
   {
    "duration": 12,
    "start_time": "2022-12-22T15:44:35.177Z"
   },
   {
    "duration": 8,
    "start_time": "2022-12-22T15:44:35.190Z"
   },
   {
    "duration": 9,
    "start_time": "2022-12-22T15:44:35.201Z"
   },
   {
    "duration": 11,
    "start_time": "2022-12-22T15:44:35.211Z"
   },
   {
    "duration": 11,
    "start_time": "2022-12-22T15:44:35.223Z"
   },
   {
    "duration": 284,
    "start_time": "2022-12-22T15:44:35.235Z"
   },
   {
    "duration": 293,
    "start_time": "2022-12-22T15:44:35.521Z"
   },
   {
    "duration": 189,
    "start_time": "2022-12-22T15:44:35.816Z"
   },
   {
    "duration": 285,
    "start_time": "2022-12-22T15:44:36.006Z"
   },
   {
    "duration": 191,
    "start_time": "2022-12-22T15:44:36.297Z"
   },
   {
    "duration": 310,
    "start_time": "2022-12-22T15:44:36.496Z"
   },
   {
    "duration": 9,
    "start_time": "2022-12-22T15:44:36.808Z"
   },
   {
    "duration": 109,
    "start_time": "2022-12-22T15:44:36.818Z"
   },
   {
    "duration": 136,
    "start_time": "2022-12-22T15:44:36.929Z"
   },
   {
    "duration": 5,
    "start_time": "2022-12-22T15:44:37.066Z"
   },
   {
    "duration": 159,
    "start_time": "2022-12-22T15:44:37.072Z"
   },
   {
    "duration": 4,
    "start_time": "2022-12-22T15:44:37.233Z"
   },
   {
    "duration": 215,
    "start_time": "2022-12-22T15:44:37.238Z"
   },
   {
    "duration": 157,
    "start_time": "2022-12-22T15:44:37.454Z"
   },
   {
    "duration": 10,
    "start_time": "2022-12-22T15:44:37.613Z"
   },
   {
    "duration": 8,
    "start_time": "2022-12-22T15:44:37.624Z"
   },
   {
    "duration": 11,
    "start_time": "2022-12-22T15:44:37.633Z"
   },
   {
    "duration": 24,
    "start_time": "2022-12-22T15:44:37.645Z"
   },
   {
    "duration": 14,
    "start_time": "2022-12-22T15:44:37.696Z"
   },
   {
    "duration": 215,
    "start_time": "2022-12-22T15:44:37.712Z"
   },
   {
    "duration": 177,
    "start_time": "2022-12-22T15:44:37.928Z"
   },
   {
    "duration": 27,
    "start_time": "2022-12-22T15:44:38.107Z"
   },
   {
    "duration": 10,
    "start_time": "2022-12-22T15:44:38.136Z"
   },
   {
    "duration": 16,
    "start_time": "2022-12-22T15:44:38.147Z"
   },
   {
    "duration": 1216,
    "start_time": "2022-12-22T16:33:11.226Z"
   },
   {
    "duration": 76,
    "start_time": "2022-12-22T16:33:12.450Z"
   },
   {
    "duration": 29,
    "start_time": "2022-12-22T16:33:12.528Z"
   },
   {
    "duration": 11,
    "start_time": "2022-12-22T16:33:12.559Z"
   },
   {
    "duration": 11,
    "start_time": "2022-12-22T16:33:12.572Z"
   },
   {
    "duration": 8,
    "start_time": "2022-12-22T16:33:12.584Z"
   },
   {
    "duration": 53,
    "start_time": "2022-12-22T16:33:12.594Z"
   },
   {
    "duration": 29,
    "start_time": "2022-12-22T16:33:12.649Z"
   },
   {
    "duration": 18,
    "start_time": "2022-12-22T16:33:12.680Z"
   },
   {
    "duration": 8,
    "start_time": "2022-12-22T16:33:12.700Z"
   },
   {
    "duration": 42,
    "start_time": "2022-12-22T16:33:12.710Z"
   },
   {
    "duration": 10,
    "start_time": "2022-12-22T16:33:12.754Z"
   },
   {
    "duration": 11,
    "start_time": "2022-12-22T16:33:12.766Z"
   },
   {
    "duration": 18,
    "start_time": "2022-12-22T16:33:12.781Z"
   },
   {
    "duration": 21,
    "start_time": "2022-12-22T16:33:12.801Z"
   },
   {
    "duration": 10,
    "start_time": "2022-12-22T16:33:12.851Z"
   },
   {
    "duration": 351,
    "start_time": "2022-12-22T16:33:12.863Z"
   },
   {
    "duration": 317,
    "start_time": "2022-12-22T16:33:13.217Z"
   },
   {
    "duration": 215,
    "start_time": "2022-12-22T16:33:13.536Z"
   },
   {
    "duration": 317,
    "start_time": "2022-12-22T16:33:13.753Z"
   },
   {
    "duration": 254,
    "start_time": "2022-12-22T16:33:14.073Z"
   },
   {
    "duration": 354,
    "start_time": "2022-12-22T16:33:14.328Z"
   },
   {
    "duration": 11,
    "start_time": "2022-12-22T16:33:14.684Z"
   },
   {
    "duration": 131,
    "start_time": "2022-12-22T16:33:14.697Z"
   },
   {
    "duration": 167,
    "start_time": "2022-12-22T16:33:14.829Z"
   },
   {
    "duration": 4,
    "start_time": "2022-12-22T16:33:14.998Z"
   },
   {
    "duration": 197,
    "start_time": "2022-12-22T16:33:15.004Z"
   },
   {
    "duration": 7,
    "start_time": "2022-12-22T16:33:15.203Z"
   },
   {
    "duration": 257,
    "start_time": "2022-12-22T16:33:15.212Z"
   },
   {
    "duration": 201,
    "start_time": "2022-12-22T16:33:15.471Z"
   },
   {
    "duration": 14,
    "start_time": "2022-12-22T16:33:15.674Z"
   },
   {
    "duration": 11,
    "start_time": "2022-12-22T16:33:15.689Z"
   },
   {
    "duration": 14,
    "start_time": "2022-12-22T16:33:15.703Z"
   },
   {
    "duration": 52,
    "start_time": "2022-12-22T16:33:15.720Z"
   },
   {
    "duration": 16,
    "start_time": "2022-12-22T16:33:15.774Z"
   },
   {
    "duration": 259,
    "start_time": "2022-12-22T16:33:15.792Z"
   },
   {
    "duration": 187,
    "start_time": "2022-12-22T16:33:16.053Z"
   },
   {
    "duration": 36,
    "start_time": "2022-12-22T16:33:16.241Z"
   },
   {
    "duration": 13,
    "start_time": "2022-12-22T16:33:16.279Z"
   },
   {
    "duration": 29,
    "start_time": "2022-12-22T16:33:16.294Z"
   },
   {
    "duration": 5,
    "start_time": "2022-12-22T16:35:32.544Z"
   },
   {
    "duration": 5,
    "start_time": "2022-12-22T16:36:08.078Z"
   },
   {
    "duration": 5,
    "start_time": "2022-12-22T16:36:14.701Z"
   },
   {
    "duration": 6,
    "start_time": "2022-12-22T16:36:58.932Z"
   },
   {
    "duration": 7,
    "start_time": "2022-12-22T16:37:19.202Z"
   },
   {
    "duration": 6,
    "start_time": "2022-12-22T16:37:29.552Z"
   },
   {
    "duration": 6,
    "start_time": "2022-12-22T16:54:17.679Z"
   },
   {
    "duration": 6,
    "start_time": "2022-12-22T16:54:33.860Z"
   },
   {
    "duration": 56,
    "start_time": "2022-12-23T13:58:41.793Z"
   },
   {
    "duration": 1154,
    "start_time": "2022-12-23T13:58:50.437Z"
   },
   {
    "duration": 121,
    "start_time": "2022-12-23T13:58:51.595Z"
   },
   {
    "duration": 3,
    "start_time": "2022-12-23T13:58:51.718Z"
   },
   {
    "duration": 17,
    "start_time": "2022-12-23T13:58:51.722Z"
   },
   {
    "duration": 9,
    "start_time": "2022-12-23T13:58:51.741Z"
   },
   {
    "duration": 9,
    "start_time": "2022-12-23T13:58:51.751Z"
   },
   {
    "duration": 29,
    "start_time": "2022-12-23T13:58:51.761Z"
   },
   {
    "duration": 140,
    "start_time": "2022-12-23T13:58:51.792Z"
   },
   {
    "duration": 33,
    "start_time": "2022-12-23T13:58:51.934Z"
   },
   {
    "duration": 27,
    "start_time": "2022-12-23T13:58:51.970Z"
   },
   {
    "duration": 5,
    "start_time": "2022-12-23T13:58:51.999Z"
   },
   {
    "duration": 12,
    "start_time": "2022-12-23T13:58:52.006Z"
   },
   {
    "duration": 18,
    "start_time": "2022-12-23T13:58:52.020Z"
   },
   {
    "duration": 8,
    "start_time": "2022-12-23T13:58:52.040Z"
   },
   {
    "duration": 14,
    "start_time": "2022-12-23T13:58:52.050Z"
   },
   {
    "duration": 32,
    "start_time": "2022-12-23T13:58:52.066Z"
   },
   {
    "duration": 10,
    "start_time": "2022-12-23T13:58:52.100Z"
   },
   {
    "duration": 331,
    "start_time": "2022-12-23T13:58:52.111Z"
   },
   {
    "duration": 329,
    "start_time": "2022-12-23T13:58:52.443Z"
   },
   {
    "duration": 196,
    "start_time": "2022-12-23T13:58:52.773Z"
   },
   {
    "duration": 361,
    "start_time": "2022-12-23T13:58:52.971Z"
   },
   {
    "duration": 217,
    "start_time": "2022-12-23T13:58:53.334Z"
   },
   {
    "duration": 355,
    "start_time": "2022-12-23T13:58:53.553Z"
   },
   {
    "duration": 11,
    "start_time": "2022-12-23T13:58:53.910Z"
   },
   {
    "duration": 132,
    "start_time": "2022-12-23T13:58:53.923Z"
   },
   {
    "duration": 147,
    "start_time": "2022-12-23T13:58:54.056Z"
   },
   {
    "duration": 4,
    "start_time": "2022-12-23T13:58:54.205Z"
   },
   {
    "duration": 167,
    "start_time": "2022-12-23T13:58:54.212Z"
   },
   {
    "duration": 15,
    "start_time": "2022-12-23T13:58:54.381Z"
   },
   {
    "duration": 209,
    "start_time": "2022-12-23T13:58:54.398Z"
   },
   {
    "duration": 176,
    "start_time": "2022-12-23T13:58:54.609Z"
   },
   {
    "duration": 17,
    "start_time": "2022-12-23T13:58:54.786Z"
   },
   {
    "duration": 8,
    "start_time": "2022-12-23T13:58:54.805Z"
   },
   {
    "duration": 10,
    "start_time": "2022-12-23T13:58:54.815Z"
   },
   {
    "duration": 24,
    "start_time": "2022-12-23T13:58:54.827Z"
   },
   {
    "duration": 45,
    "start_time": "2022-12-23T13:58:54.853Z"
   },
   {
    "duration": 231,
    "start_time": "2022-12-23T13:58:54.900Z"
   },
   {
    "duration": 177,
    "start_time": "2022-12-23T13:58:55.133Z"
   },
   {
    "duration": 26,
    "start_time": "2022-12-23T13:58:55.311Z"
   },
   {
    "duration": 11,
    "start_time": "2022-12-23T13:58:55.339Z"
   },
   {
    "duration": 50,
    "start_time": "2022-12-23T13:58:55.352Z"
   },
   {
    "duration": 60,
    "start_time": "2022-12-23T14:00:43.924Z"
   },
   {
    "duration": 8,
    "start_time": "2022-12-23T14:01:57.982Z"
   },
   {
    "duration": 8,
    "start_time": "2022-12-23T14:02:09.142Z"
   },
   {
    "duration": 20,
    "start_time": "2022-12-23T14:02:43.688Z"
   },
   {
    "duration": 11,
    "start_time": "2022-12-23T14:03:34.129Z"
   },
   {
    "duration": 5,
    "start_time": "2022-12-23T14:07:43.385Z"
   },
   {
    "duration": 6,
    "start_time": "2022-12-23T14:07:47.905Z"
   },
   {
    "duration": 10,
    "start_time": "2022-12-23T14:07:51.698Z"
   },
   {
    "duration": 10,
    "start_time": "2022-12-23T14:08:26.156Z"
   },
   {
    "duration": 53,
    "start_time": "2022-12-23T14:29:55.061Z"
   },
   {
    "duration": 106,
    "start_time": "2022-12-23T14:32:24.734Z"
   },
   {
    "duration": 15,
    "start_time": "2022-12-23T14:32:38.702Z"
   },
   {
    "duration": 8,
    "start_time": "2022-12-23T14:32:54.357Z"
   },
   {
    "duration": 756,
    "start_time": "2022-12-23T14:33:21.734Z"
   },
   {
    "duration": 767,
    "start_time": "2022-12-23T14:33:29.504Z"
   },
   {
    "duration": 714,
    "start_time": "2022-12-23T14:33:39.022Z"
   },
   {
    "duration": 10,
    "start_time": "2022-12-23T14:33:45.812Z"
   },
   {
    "duration": 869,
    "start_time": "2022-12-23T14:34:02.416Z"
   },
   {
    "duration": 7,
    "start_time": "2022-12-23T14:34:16.335Z"
   },
   {
    "duration": 7,
    "start_time": "2022-12-23T14:34:27.375Z"
   },
   {
    "duration": 10,
    "start_time": "2022-12-23T14:35:41.007Z"
   },
   {
    "duration": 8,
    "start_time": "2022-12-23T14:37:08.116Z"
   },
   {
    "duration": 69,
    "start_time": "2022-12-23T14:40:44.818Z"
   },
   {
    "duration": 282,
    "start_time": "2022-12-23T14:46:59.525Z"
   },
   {
    "duration": 224,
    "start_time": "2022-12-23T14:49:13.008Z"
   },
   {
    "duration": 98,
    "start_time": "2022-12-23T14:50:46.390Z"
   },
   {
    "duration": 208,
    "start_time": "2022-12-23T14:50:54.558Z"
   },
   {
    "duration": 205,
    "start_time": "2022-12-23T14:55:30.273Z"
   },
   {
    "duration": 59,
    "start_time": "2022-12-23T15:44:28.711Z"
   },
   {
    "duration": 1198,
    "start_time": "2022-12-23T15:44:41.564Z"
   },
   {
    "duration": 134,
    "start_time": "2022-12-23T15:44:42.764Z"
   },
   {
    "duration": 3,
    "start_time": "2022-12-23T15:44:42.899Z"
   },
   {
    "duration": 24,
    "start_time": "2022-12-23T15:44:42.905Z"
   },
   {
    "duration": 13,
    "start_time": "2022-12-23T15:44:42.931Z"
   },
   {
    "duration": 11,
    "start_time": "2022-12-23T15:44:42.946Z"
   },
   {
    "duration": 6,
    "start_time": "2022-12-23T15:44:42.959Z"
   },
   {
    "duration": 143,
    "start_time": "2022-12-23T15:44:42.967Z"
   },
   {
    "duration": 33,
    "start_time": "2022-12-23T15:44:43.112Z"
   },
   {
    "duration": 22,
    "start_time": "2022-12-23T15:44:43.147Z"
   },
   {
    "duration": 8,
    "start_time": "2022-12-23T15:44:43.170Z"
   },
   {
    "duration": 17,
    "start_time": "2022-12-23T15:44:43.213Z"
   },
   {
    "duration": 14,
    "start_time": "2022-12-23T15:44:43.232Z"
   },
   {
    "duration": 7,
    "start_time": "2022-12-23T15:44:43.248Z"
   },
   {
    "duration": 6,
    "start_time": "2022-12-23T15:44:43.256Z"
   },
   {
    "duration": 9,
    "start_time": "2022-12-23T15:44:43.263Z"
   },
   {
    "duration": 9,
    "start_time": "2022-12-23T15:44:43.274Z"
   },
   {
    "duration": 15,
    "start_time": "2022-12-23T15:44:43.314Z"
   },
   {
    "duration": 333,
    "start_time": "2022-12-23T15:44:43.331Z"
   },
   {
    "duration": 324,
    "start_time": "2022-12-23T15:44:43.666Z"
   },
   {
    "duration": 241,
    "start_time": "2022-12-23T15:44:43.992Z"
   },
   {
    "duration": 374,
    "start_time": "2022-12-23T15:44:44.235Z"
   },
   {
    "duration": 275,
    "start_time": "2022-12-23T15:44:44.613Z"
   },
   {
    "duration": 364,
    "start_time": "2022-12-23T15:44:44.890Z"
   },
   {
    "duration": 10,
    "start_time": "2022-12-23T15:44:45.255Z"
   },
   {
    "duration": 132,
    "start_time": "2022-12-23T15:44:45.266Z"
   },
   {
    "duration": 157,
    "start_time": "2022-12-23T15:44:45.400Z"
   },
   {
    "duration": 4,
    "start_time": "2022-12-23T15:44:45.560Z"
   },
   {
    "duration": 183,
    "start_time": "2022-12-23T15:44:45.565Z"
   },
   {
    "duration": 5,
    "start_time": "2022-12-23T15:44:45.750Z"
   },
   {
    "duration": 267,
    "start_time": "2022-12-23T15:44:45.757Z"
   },
   {
    "duration": 220,
    "start_time": "2022-12-23T15:44:46.027Z"
   },
   {
    "duration": 11,
    "start_time": "2022-12-23T15:44:46.249Z"
   },
   {
    "duration": 10,
    "start_time": "2022-12-23T15:44:46.261Z"
   },
   {
    "duration": 13,
    "start_time": "2022-12-23T15:44:46.272Z"
   },
   {
    "duration": 46,
    "start_time": "2022-12-23T15:44:46.286Z"
   },
   {
    "duration": 19,
    "start_time": "2022-12-23T15:44:46.335Z"
   },
   {
    "duration": 293,
    "start_time": "2022-12-23T15:44:46.356Z"
   },
   {
    "duration": 206,
    "start_time": "2022-12-23T15:44:46.651Z"
   },
   {
    "duration": 27,
    "start_time": "2022-12-23T15:44:46.859Z"
   },
   {
    "duration": 32,
    "start_time": "2022-12-23T15:44:46.887Z"
   },
   {
    "duration": 27,
    "start_time": "2022-12-23T15:44:46.921Z"
   },
   {
    "duration": 49,
    "start_time": "2022-12-23T15:46:36.667Z"
   },
   {
    "duration": 269,
    "start_time": "2022-12-23T15:49:31.717Z"
   },
   {
    "duration": 160,
    "start_time": "2022-12-23T15:49:52.242Z"
   },
   {
    "duration": 159,
    "start_time": "2022-12-23T15:50:34.517Z"
   },
   {
    "duration": 185,
    "start_time": "2022-12-23T15:51:55.908Z"
   },
   {
    "duration": 176,
    "start_time": "2022-12-23T15:53:05.855Z"
   },
   {
    "duration": 180,
    "start_time": "2022-12-23T15:54:34.108Z"
   },
   {
    "duration": 170,
    "start_time": "2022-12-23T15:56:25.574Z"
   },
   {
    "duration": 5,
    "start_time": "2022-12-23T16:07:49.696Z"
   },
   {
    "duration": 935,
    "start_time": "2022-12-23T16:09:36.849Z"
   },
   {
    "duration": 9,
    "start_time": "2022-12-23T16:09:43.896Z"
   },
   {
    "duration": 8,
    "start_time": "2022-12-23T16:09:49.448Z"
   },
   {
    "duration": 26,
    "start_time": "2022-12-23T16:10:03.705Z"
   },
   {
    "duration": 5,
    "start_time": "2022-12-23T16:10:34.729Z"
   },
   {
    "duration": 7,
    "start_time": "2022-12-23T16:10:38.361Z"
   },
   {
    "duration": 157,
    "start_time": "2022-12-23T16:11:01.242Z"
   },
   {
    "duration": 206,
    "start_time": "2022-12-23T16:11:52.258Z"
   },
   {
    "duration": 58,
    "start_time": "2022-12-23T16:15:11.106Z"
   },
   {
    "duration": 10,
    "start_time": "2022-12-23T16:16:48.687Z"
   },
   {
    "duration": 66,
    "start_time": "2022-12-23T16:18:00.010Z"
   },
   {
    "duration": 8,
    "start_time": "2022-12-23T16:27:04.668Z"
   },
   {
    "duration": 27,
    "start_time": "2022-12-23T16:27:08.118Z"
   },
   {
    "duration": 16,
    "start_time": "2022-12-23T16:27:29.623Z"
   },
   {
    "duration": 24,
    "start_time": "2022-12-23T16:27:31.493Z"
   },
   {
    "duration": 22,
    "start_time": "2022-12-23T16:30:27.206Z"
   },
   {
    "duration": 5,
    "start_time": "2022-12-23T16:34:45.880Z"
   },
   {
    "duration": 15,
    "start_time": "2022-12-23T16:34:48.366Z"
   },
   {
    "duration": 168,
    "start_time": "2022-12-23T16:35:21.921Z"
   },
   {
    "duration": 36,
    "start_time": "2022-12-23T16:35:54.263Z"
   },
   {
    "duration": 14,
    "start_time": "2022-12-23T16:36:19.823Z"
   },
   {
    "duration": 21,
    "start_time": "2022-12-23T16:36:31.625Z"
   },
   {
    "duration": 61,
    "start_time": "2022-12-23T16:46:46.204Z"
   },
   {
    "duration": 48,
    "start_time": "2022-12-23T16:58:18.852Z"
   },
   {
    "duration": 1097,
    "start_time": "2022-12-24T09:38:10.817Z"
   },
   {
    "duration": 118,
    "start_time": "2022-12-24T09:38:11.916Z"
   },
   {
    "duration": 3,
    "start_time": "2022-12-24T09:38:12.036Z"
   },
   {
    "duration": 15,
    "start_time": "2022-12-24T09:38:12.042Z"
   },
   {
    "duration": 13,
    "start_time": "2022-12-24T09:38:12.060Z"
   },
   {
    "duration": 10,
    "start_time": "2022-12-24T09:38:12.075Z"
   },
   {
    "duration": 23,
    "start_time": "2022-12-24T09:38:12.087Z"
   },
   {
    "duration": 125,
    "start_time": "2022-12-24T09:38:12.112Z"
   },
   {
    "duration": 33,
    "start_time": "2022-12-24T09:38:12.239Z"
   },
   {
    "duration": 19,
    "start_time": "2022-12-24T09:38:12.275Z"
   },
   {
    "duration": 8,
    "start_time": "2022-12-24T09:38:12.295Z"
   },
   {
    "duration": 22,
    "start_time": "2022-12-24T09:38:12.304Z"
   },
   {
    "duration": 18,
    "start_time": "2022-12-24T09:38:12.328Z"
   },
   {
    "duration": 9,
    "start_time": "2022-12-24T09:38:12.347Z"
   },
   {
    "duration": 6,
    "start_time": "2022-12-24T09:38:12.357Z"
   },
   {
    "duration": 8,
    "start_time": "2022-12-24T09:38:12.365Z"
   },
   {
    "duration": 4,
    "start_time": "2022-12-24T09:38:12.375Z"
   },
   {
    "duration": 15,
    "start_time": "2022-12-24T09:38:12.381Z"
   },
   {
    "duration": 295,
    "start_time": "2022-12-24T09:38:12.398Z"
   },
   {
    "duration": 298,
    "start_time": "2022-12-24T09:38:12.694Z"
   },
   {
    "duration": 208,
    "start_time": "2022-12-24T09:38:12.994Z"
   },
   {
    "duration": 323,
    "start_time": "2022-12-24T09:38:13.204Z"
   },
   {
    "duration": 248,
    "start_time": "2022-12-24T09:38:13.530Z"
   },
   {
    "duration": 321,
    "start_time": "2022-12-24T09:38:13.780Z"
   },
   {
    "duration": 19,
    "start_time": "2022-12-24T09:38:14.102Z"
   },
   {
    "duration": 119,
    "start_time": "2022-12-24T09:38:14.123Z"
   },
   {
    "duration": 146,
    "start_time": "2022-12-24T09:38:14.244Z"
   },
   {
    "duration": 5,
    "start_time": "2022-12-24T09:38:14.393Z"
   },
   {
    "duration": 159,
    "start_time": "2022-12-24T09:38:14.399Z"
   },
   {
    "duration": 169,
    "start_time": "2022-12-24T09:38:14.560Z"
   },
   {
    "duration": 241,
    "start_time": "2022-12-24T09:38:14.732Z"
   },
   {
    "duration": 4,
    "start_time": "2022-12-24T09:38:14.975Z"
   },
   {
    "duration": 171,
    "start_time": "2022-12-24T09:38:14.980Z"
   },
   {
    "duration": 13,
    "start_time": "2022-12-24T09:38:15.152Z"
   },
   {
    "duration": 35,
    "start_time": "2022-12-24T09:38:15.167Z"
   },
   {
    "duration": 19,
    "start_time": "2022-12-24T09:38:15.204Z"
   },
   {
    "duration": 54,
    "start_time": "2022-12-24T09:38:15.225Z"
   },
   {
    "duration": 35,
    "start_time": "2022-12-24T09:38:15.280Z"
   },
   {
    "duration": 232,
    "start_time": "2022-12-24T09:38:15.317Z"
   },
   {
    "duration": 30,
    "start_time": "2022-12-24T09:38:15.550Z"
   },
   {
    "duration": 10,
    "start_time": "2022-12-24T09:38:15.582Z"
   },
   {
    "duration": 38,
    "start_time": "2022-12-24T09:38:15.593Z"
   },
   {
    "duration": 54,
    "start_time": "2022-12-24T10:39:59.287Z"
   },
   {
    "duration": 1157,
    "start_time": "2022-12-24T10:40:07.615Z"
   },
   {
    "duration": 120,
    "start_time": "2022-12-24T10:40:08.774Z"
   },
   {
    "duration": 2,
    "start_time": "2022-12-24T10:40:08.896Z"
   },
   {
    "duration": 22,
    "start_time": "2022-12-24T10:40:08.900Z"
   },
   {
    "duration": 20,
    "start_time": "2022-12-24T10:40:08.923Z"
   },
   {
    "duration": 11,
    "start_time": "2022-12-24T10:40:08.945Z"
   },
   {
    "duration": 14,
    "start_time": "2022-12-24T10:40:08.958Z"
   },
   {
    "duration": 122,
    "start_time": "2022-12-24T10:40:08.974Z"
   },
   {
    "duration": 22,
    "start_time": "2022-12-24T10:40:09.097Z"
   },
   {
    "duration": 27,
    "start_time": "2022-12-24T10:40:09.121Z"
   },
   {
    "duration": 7,
    "start_time": "2022-12-24T10:40:09.150Z"
   },
   {
    "duration": 15,
    "start_time": "2022-12-24T10:40:09.159Z"
   },
   {
    "duration": 16,
    "start_time": "2022-12-24T10:40:09.175Z"
   },
   {
    "duration": 13,
    "start_time": "2022-12-24T10:40:09.192Z"
   },
   {
    "duration": 17,
    "start_time": "2022-12-24T10:40:09.206Z"
   },
   {
    "duration": 14,
    "start_time": "2022-12-24T10:40:09.225Z"
   },
   {
    "duration": 11,
    "start_time": "2022-12-24T10:40:09.241Z"
   },
   {
    "duration": 15,
    "start_time": "2022-12-24T10:40:09.254Z"
   },
   {
    "duration": 270,
    "start_time": "2022-12-24T10:40:09.271Z"
   },
   {
    "duration": 272,
    "start_time": "2022-12-24T10:40:09.543Z"
   },
   {
    "duration": 209,
    "start_time": "2022-12-24T10:40:09.816Z"
   },
   {
    "duration": 325,
    "start_time": "2022-12-24T10:40:10.027Z"
   },
   {
    "duration": 208,
    "start_time": "2022-12-24T10:40:10.354Z"
   },
   {
    "duration": 289,
    "start_time": "2022-12-24T10:40:10.564Z"
   },
   {
    "duration": 10,
    "start_time": "2022-12-24T10:40:10.854Z"
   },
   {
    "duration": 107,
    "start_time": "2022-12-24T10:40:10.865Z"
   },
   {
    "duration": 140,
    "start_time": "2022-12-24T10:40:10.974Z"
   },
   {
    "duration": 9,
    "start_time": "2022-12-24T10:40:11.117Z"
   },
   {
    "duration": 150,
    "start_time": "2022-12-24T10:40:11.128Z"
   },
   {
    "duration": 146,
    "start_time": "2022-12-24T10:40:11.280Z"
   },
   {
    "duration": 247,
    "start_time": "2022-12-24T10:40:11.428Z"
   },
   {
    "duration": 5,
    "start_time": "2022-12-24T10:40:11.677Z"
   },
   {
    "duration": 179,
    "start_time": "2022-12-24T10:40:11.683Z"
   },
   {
    "duration": 11,
    "start_time": "2022-12-24T10:40:11.864Z"
   },
   {
    "duration": 24,
    "start_time": "2022-12-24T10:40:11.876Z"
   },
   {
    "duration": 23,
    "start_time": "2022-12-24T10:40:11.901Z"
   },
   {
    "duration": 20,
    "start_time": "2022-12-24T10:40:11.926Z"
   },
   {
    "duration": 18,
    "start_time": "2022-12-24T10:40:11.948Z"
   },
   {
    "duration": 164,
    "start_time": "2022-12-24T10:40:11.967Z"
   },
   {
    "duration": 28,
    "start_time": "2022-12-24T10:40:12.133Z"
   },
   {
    "duration": 9,
    "start_time": "2022-12-24T10:40:12.162Z"
   },
   {
    "duration": 15,
    "start_time": "2022-12-24T10:40:12.173Z"
   },
   {
    "duration": 11,
    "start_time": "2022-12-24T10:40:31.500Z"
   },
   {
    "duration": 9,
    "start_time": "2022-12-24T10:42:18.153Z"
   },
   {
    "duration": 9,
    "start_time": "2022-12-24T10:46:50.645Z"
   }
  ],
  "kernelspec": {
   "display_name": "Python 3 (ipykernel)",
   "language": "python",
   "name": "python3"
  },
  "language_info": {
   "codemirror_mode": {
    "name": "ipython",
    "version": 3
   },
   "file_extension": ".py",
   "mimetype": "text/x-python",
   "name": "python",
   "nbconvert_exporter": "python",
   "pygments_lexer": "ipython3",
   "version": "3.9.12"
  },
  "toc": {
   "base_numbering": 1,
   "nav_menu": {},
   "number_sections": false,
   "sideBar": true,
   "skip_h1_title": false,
   "title_cell": "Table of Contents",
   "title_sidebar": "Contents",
   "toc_cell": true,
   "toc_position": {
    "height": "calc(100% - 180px)",
    "left": "10px",
    "top": "150px",
    "width": "352.528px"
   },
   "toc_section_display": true,
   "toc_window_display": true
  }
 },
 "nbformat": 4,
 "nbformat_minor": 2
}
